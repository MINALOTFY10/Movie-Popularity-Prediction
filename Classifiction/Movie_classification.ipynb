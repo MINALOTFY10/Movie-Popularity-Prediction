{
 "cells": [
  {
   "cell_type": "markdown",
   "metadata": {
    "id": "efRlkOwDQzER"
   },
   "source": [
    "# Movie project"
   ]
  },
  {
   "cell_type": "markdown",
   "metadata": {
    "id": "ySAUkXLKQzET"
   },
   "source": [
    "## Imports"
   ]
  },
  {
   "cell_type": "code",
   "execution_count": 1,
   "metadata": {
    "colab": {
     "base_uri": "https://localhost:8080/"
    },
    "id": "Vvq0RQSMwz5B",
    "outputId": "bef8d19c-0eb5-454c-b738-78ee91acb174"
   },
   "outputs": [],
   "source": [
    "import os\n",
    "import ast\n",
    "import json\n",
    "import nltk\n",
    "import string\n",
    "import gensim\n",
    "import pickle\n",
    "import statistics\n",
    "import numpy as np\n",
    "import pandas as pd\n",
    "import seaborn as sns\n",
    "from scipy import stats\n",
    "from sklearn.svm import SVR\n",
    "from textblob import TextBlob\n",
    "import matplotlib.pyplot as plt\n",
    "from sklearn import preprocessing\n",
    "from nltk.corpus import stopwords\n",
    "from gensim.models import Word2Vec\n",
    "from sklearn.linear_model import Ridge\n",
    "from collections import Counter\n",
    "from nltk.tokenize import word_tokenize\n",
    "from nltk.stem import WordNetLemmatizer\n",
    "from scipy.stats.mstats import winsorize\n",
    "import sklearn.feature_extraction.text as text\n",
    "from sklearn.preprocessing import OneHotEncoder\n",
    "from sklearn.preprocessing import OrdinalEncoder\n",
    "from sklearn.preprocessing import OrdinalEncoder\n",
    "from sklearn.linear_model import LinearRegression\n",
    "from sklearn.ensemble import RandomForestRegressor\n",
    "from nltk.stem import SnowballStemmer,PorterStemmer\n",
    "from sklearn.model_selection import  GridSearchCV, train_test_split\n",
    "from sklearn.feature_extraction.text import CountVectorizer,TfidfVectorizer\n",
    "from sklearn.preprocessing import MinMaxScaler, StandardScaler, PolynomialFeatures\n",
    "from sklearn.metrics import mean_squared_error, r2_score, confusion_matrix, classification_report, f1_score\n",
    "import warnings\n",
    "warnings.simplefilter(\"ignore\")\n",
    "# Download required resources (only needed once)\n",
    "# nltk.download('punkt')\n",
    "# nltk.download('stopwords')\n",
    "# nltk.download('wordnet')"
   ]
  },
  {
   "cell_type": "markdown",
   "metadata": {
    "id": "Jmil3K7VQzEX"
   },
   "source": [
    "# Data Gathering"
   ]
  },
  {
   "cell_type": "code",
   "execution_count": 2,
   "metadata": {
    "id": "Q_QNGsEMyeJd"
   },
   "outputs": [],
   "source": [
    "movies = pd.read_csv(\"D:\\movies-classification\\movies-classification\\movies-classification-dataset.csv\");"
   ]
  },
  {
   "cell_type": "code",
   "execution_count": 3,
   "metadata": {
    "id": "EnsPPmCb98T2"
   },
   "outputs": [],
   "source": [
    "credits = pd.read_csv(\"D:\\movies-classification\\movies-classification\\movies-credit-students-train.csv\");"
   ]
  },
  {
   "cell_type": "code",
   "execution_count": 4,
   "metadata": {
    "id": "p8j_Hjkv_Fmw"
   },
   "outputs": [],
   "source": [
    "credits.rename(columns = {'movie_id':'id'}, inplace = True)"
   ]
  },
  {
   "cell_type": "code",
   "execution_count": 5,
   "metadata": {
    "id": "gYfUwCTd96Iy"
   },
   "outputs": [],
   "source": [
    "data = movies.merge(credits,on='id')"
   ]
  },
  {
   "cell_type": "code",
   "execution_count": 6,
   "metadata": {
    "colab": {
     "base_uri": "https://localhost:8080/"
    },
    "id": "8n6mUz57QzEa",
    "outputId": "354551cd-ac1c-4161-b2bd-b99f1342459f"
   },
   "outputs": [
    {
     "name": "stdout",
     "output_type": "stream",
     "text": [
      "<class 'pandas.core.frame.DataFrame'>\n",
      "Int64Index: 3033 entries, 0 to 3032\n",
      "Data columns (total 23 columns):\n",
      " #   Column                Non-Null Count  Dtype  \n",
      "---  ------                --------------  -----  \n",
      " 0   budget                3033 non-null   int64  \n",
      " 1   genres                3033 non-null   object \n",
      " 2   homepage              1125 non-null   object \n",
      " 3   id                    3033 non-null   int64  \n",
      " 4   keywords              3033 non-null   object \n",
      " 5   original_language     3033 non-null   object \n",
      " 6   original_title        3033 non-null   object \n",
      " 7   overview              3032 non-null   object \n",
      " 8   viewercount           3033 non-null   float64\n",
      " 9   production_companies  3033 non-null   object \n",
      " 10  production_countries  3033 non-null   object \n",
      " 11  release_date          3033 non-null   object \n",
      " 12  revenue               3033 non-null   int64  \n",
      " 13  runtime               3032 non-null   float64\n",
      " 14  spoken_languages      3033 non-null   object \n",
      " 15  status                3033 non-null   object \n",
      " 16  tagline               2650 non-null   object \n",
      " 17  title_x               3033 non-null   object \n",
      " 18  vote_count            3033 non-null   int64  \n",
      " 19  Rate                  3033 non-null   object \n",
      " 20  title_y               3033 non-null   object \n",
      " 21  cast                  3033 non-null   object \n",
      " 22  crew                  3033 non-null   object \n",
      "dtypes: float64(2), int64(4), object(17)\n",
      "memory usage: 568.7+ KB\n",
      "None\n"
     ]
    }
   ],
   "source": [
    "print(data.info())"
   ]
  },
  {
   "cell_type": "code",
   "execution_count": 7,
   "metadata": {
    "colab": {
     "base_uri": "https://localhost:8080/"
    },
    "id": "5s06MX_TQzEb",
    "outputId": "bb27dd41-ec5c-4f62-ce25-e6298694586d"
   },
   "outputs": [
    {
     "name": "stdout",
     "output_type": "stream",
     "text": [
      "The number of unique values of 'id' column  3033\n"
     ]
    }
   ],
   "source": [
    "print(\"The number of unique values of 'id' column \",len(data['id'].unique()))"
   ]
  },
  {
   "cell_type": "code",
   "execution_count": 8,
   "metadata": {
    "colab": {
     "base_uri": "https://localhost:8080/"
    },
    "id": "2j6rlZt7QzEb",
    "outputId": "61d8c5dd-fb8c-4b0a-8d7d-386efa6316da"
   },
   "outputs": [
    {
     "name": "stdout",
     "output_type": "stream",
     "text": [
      "The number of unique values of 'tagline' column  2643\n"
     ]
    }
   ],
   "source": [
    "print(\"The number of unique values of 'tagline' column \",len(data['tagline'].unique()))"
   ]
  },
  {
   "cell_type": "code",
   "execution_count": 9,
   "metadata": {
    "colab": {
     "base_uri": "https://localhost:8080/"
    },
    "id": "i8xxeONEQzEc",
    "outputId": "2844ce1b-a218-4345-c18d-5aea0abe993b"
   },
   "outputs": [
    {
     "name": "stdout",
     "output_type": "stream",
     "text": [
      "The unique values and its count of the status column :\n",
      "Released           3032\n",
      "Post Production       1\n",
      "Name: status, dtype: int64\n"
     ]
    }
   ],
   "source": [
    "print(\"The unique values and its count of the status column :\")\n",
    "print(data['status'].value_counts())"
   ]
  },
  {
   "cell_type": "code",
   "execution_count": 10,
   "metadata": {
    "id": "FitAoOyAFyfh"
   },
   "outputs": [],
   "source": [
    "data.drop(columns=['id','title_x','status'],inplace=True)#title_x ,title_y is the same so we droped one of them\n",
    "data.rename(columns={'title_y':'title'},inplace=True)# change name of title_y to title\n",
    "data.drop(columns=['overview','homepage'],inplace=True)"
   ]
  },
  {
   "cell_type": "code",
   "execution_count": 11,
   "metadata": {
    "id": "5brTWwUaQzEd"
   },
   "outputs": [],
   "source": [
    "#save mode of release_data for test script\n",
    "date_mode = data['release_date'].mode()[0]\n",
    "pickle.dump(date_mode, open(\"date_mode_c.pkl\", \"wb\"))"
   ]
  },
  {
   "cell_type": "code",
   "execution_count": 12,
   "metadata": {
    "id": "5lbGp-tbyzTA"
   },
   "outputs": [],
   "source": [
    "#Remove one Row is null\n",
    "data.dropna(subset=['runtime'],inplace=True)"
   ]
  },
  {
   "cell_type": "markdown",
   "metadata": {},
   "source": [
    "# Release date Pre-Processing"
   ]
  },
  {
   "cell_type": "code",
   "execution_count": 13,
   "metadata": {
    "id": "gxKPb8hEyzQj"
   },
   "outputs": [],
   "source": [
    "#split release_date column to 3 columns [day,month,year]\n",
    "data['day'] = pd.to_datetime(data['release_date']).dt.day # drop if it is not needed\n",
    "data['month'] = pd.to_datetime(data['release_date']).dt.month\n",
    "data['year'] = pd.to_datetime(data['release_date']).dt.year"
   ]
  },
  {
   "cell_type": "code",
   "execution_count": 14,
   "metadata": {
    "id": "O3h1GJJHQzEf"
   },
   "outputs": [],
   "source": [
    "data.drop(columns=['release_date'],inplace=True)"
   ]
  },
  {
   "cell_type": "code",
   "execution_count": 15,
   "metadata": {
    "colab": {
     "base_uri": "https://localhost:8080/"
    },
    "id": "pw2CuL1tyjPJ",
    "outputId": "a4c511a5-de35-4144-88ef-3b4fb9611c98"
   },
   "outputs": [
    {
     "data": {
      "text/html": [
       "<div>\n",
       "<style scoped>\n",
       "    .dataframe tbody tr th:only-of-type {\n",
       "        vertical-align: middle;\n",
       "    }\n",
       "\n",
       "    .dataframe tbody tr th {\n",
       "        vertical-align: top;\n",
       "    }\n",
       "\n",
       "    .dataframe thead th {\n",
       "        text-align: right;\n",
       "    }\n",
       "</style>\n",
       "<table border=\"1\" class=\"dataframe\">\n",
       "  <thead>\n",
       "    <tr style=\"text-align: right;\">\n",
       "      <th></th>\n",
       "      <th>budget</th>\n",
       "      <th>genres</th>\n",
       "      <th>keywords</th>\n",
       "      <th>original_language</th>\n",
       "      <th>original_title</th>\n",
       "      <th>viewercount</th>\n",
       "      <th>production_companies</th>\n",
       "      <th>production_countries</th>\n",
       "      <th>revenue</th>\n",
       "      <th>runtime</th>\n",
       "      <th>spoken_languages</th>\n",
       "      <th>tagline</th>\n",
       "      <th>vote_count</th>\n",
       "      <th>Rate</th>\n",
       "      <th>title</th>\n",
       "      <th>cast</th>\n",
       "      <th>crew</th>\n",
       "      <th>day</th>\n",
       "      <th>month</th>\n",
       "      <th>year</th>\n",
       "    </tr>\n",
       "  </thead>\n",
       "  <tbody>\n",
       "    <tr>\n",
       "      <th>0</th>\n",
       "      <td>25000000</td>\n",
       "      <td>[{\"id\": 18, \"name\": \"Drama\"}, {\"id\": 10749, \"n...</td>\n",
       "      <td>[{\"id\": 4328, \"name\": \"costume\"}, {\"id\": 4528,...</td>\n",
       "      <td>en</td>\n",
       "      <td>Mao's Last Dancer</td>\n",
       "      <td>1.876811</td>\n",
       "      <td>[{\"name\": \"Great Scott Productions Pty. Ltd.\",...</td>\n",
       "      <td>[{\"iso_3166_1\": \"AU\", \"name\": \"Australia\"}]</td>\n",
       "      <td>20719451</td>\n",
       "      <td>117.0</td>\n",
       "      <td>[{\"iso_639_1\": \"en\", \"name\": \"English\"}, {\"iso...</td>\n",
       "      <td>最后的舞者</td>\n",
       "      <td>28</td>\n",
       "      <td>High</td>\n",
       "      <td>Mao's Last Dancer</td>\n",
       "      <td>[{\"cast_id\": 2, \"character\": \"Li Cunxin - adul...</td>\n",
       "      <td>[{\"credit_id\": \"52fe45419251416c9102c18d\", \"de...</td>\n",
       "      <td>1</td>\n",
       "      <td>10</td>\n",
       "      <td>2009</td>\n",
       "    </tr>\n",
       "    <tr>\n",
       "      <th>1</th>\n",
       "      <td>38000000</td>\n",
       "      <td>[{\"id\": 878, \"name\": \"Science Fiction\"}, {\"id\"...</td>\n",
       "      <td>[{\"id\": 10988, \"name\": \"based on tv series\"}, ...</td>\n",
       "      <td>en</td>\n",
       "      <td>Star Trek: Generations</td>\n",
       "      <td>14.779041</td>\n",
       "      <td>[{\"name\": \"Paramount Pictures\", \"id\": 4}]</td>\n",
       "      <td>[{\"iso_3166_1\": \"US\", \"name\": \"United States o...</td>\n",
       "      <td>120000000</td>\n",
       "      <td>118.0</td>\n",
       "      <td>[{\"iso_639_1\": \"en\", \"name\": \"English\"}]</td>\n",
       "      <td>Boldly go.</td>\n",
       "      <td>452</td>\n",
       "      <td>Intermediate</td>\n",
       "      <td>Star Trek: Generations</td>\n",
       "      <td>[{\"cast_id\": 5, \"character\": \"Captain Jean-Luc...</td>\n",
       "      <td>[{\"credit_id\": \"52fe4225c3a36847f8007717\", \"de...</td>\n",
       "      <td>17</td>\n",
       "      <td>11</td>\n",
       "      <td>1994</td>\n",
       "    </tr>\n",
       "    <tr>\n",
       "      <th>2</th>\n",
       "      <td>20000000</td>\n",
       "      <td>[{\"id\": 36, \"name\": \"History\"}, {\"id\": 18, \"na...</td>\n",
       "      <td>[{\"id\": 237, \"name\": \"gay\"}, {\"id\": 582, \"name...</td>\n",
       "      <td>en</td>\n",
       "      <td>Milk</td>\n",
       "      <td>30.909699</td>\n",
       "      <td>[{\"name\": \"Focus Features\", \"id\": 10146}]</td>\n",
       "      <td>[{\"iso_3166_1\": \"US\", \"name\": \"United States o...</td>\n",
       "      <td>54586584</td>\n",
       "      <td>128.0</td>\n",
       "      <td>[{\"iso_639_1\": \"en\", \"name\": \"English\"}]</td>\n",
       "      <td>Never Blend In.</td>\n",
       "      <td>612</td>\n",
       "      <td>High</td>\n",
       "      <td>Milk</td>\n",
       "      <td>[{\"cast_id\": 2, \"character\": \"Harvey Milk\", \"c...</td>\n",
       "      <td>[{\"credit_id\": \"52fe43339251416c7500756b\", \"de...</td>\n",
       "      <td>26</td>\n",
       "      <td>11</td>\n",
       "      <td>2008</td>\n",
       "    </tr>\n",
       "    <tr>\n",
       "      <th>3</th>\n",
       "      <td>23000000</td>\n",
       "      <td>[{\"id\": 18, \"name\": \"Drama\"}, {\"id\": 10749, \"n...</td>\n",
       "      <td>[{\"id\": 212, \"name\": \"london england\"}, {\"id\":...</td>\n",
       "      <td>en</td>\n",
       "      <td>Vanity Fair</td>\n",
       "      <td>6.618149</td>\n",
       "      <td>[{\"name\": \"Alliance Films\", \"id\": 2514}, {\"nam...</td>\n",
       "      <td>[{\"iso_3166_1\": \"GB\", \"name\": \"United Kingdom\"...</td>\n",
       "      <td>16123851</td>\n",
       "      <td>141.0</td>\n",
       "      <td>[{\"iso_639_1\": \"en\", \"name\": \"English\"}, {\"iso...</td>\n",
       "      <td>On September 1st, a heroine will rise.</td>\n",
       "      <td>73</td>\n",
       "      <td>Intermediate</td>\n",
       "      <td>Vanity Fair</td>\n",
       "      <td>[{\"cast_id\": 22, \"character\": \"Becky Sharp\", \"...</td>\n",
       "      <td>[{\"credit_id\": \"52fe446c9251416c75034365\", \"de...</td>\n",
       "      <td>1</td>\n",
       "      <td>9</td>\n",
       "      <td>2004</td>\n",
       "    </tr>\n",
       "    <tr>\n",
       "      <th>4</th>\n",
       "      <td>52000000</td>\n",
       "      <td>[{\"id\": 28, \"name\": \"Action\"}, {\"id\": 80, \"nam...</td>\n",
       "      <td>[{\"id\": 90, \"name\": \"paris\"}, {\"id\": 591, \"nam...</td>\n",
       "      <td>en</td>\n",
       "      <td>From Paris with Love</td>\n",
       "      <td>27.916284</td>\n",
       "      <td>[{\"name\": \"Apipoula\\u00ef\", \"id\": 1076}, {\"nam...</td>\n",
       "      <td>[{\"iso_3166_1\": \"GB\", \"name\": \"United Kingdom\"...</td>\n",
       "      <td>52826594</td>\n",
       "      <td>92.0</td>\n",
       "      <td>[{\"iso_639_1\": \"de\", \"name\": \"Deutsch\"}, {\"iso...</td>\n",
       "      <td>Two agents. One city. No merci.</td>\n",
       "      <td>675</td>\n",
       "      <td>Intermediate</td>\n",
       "      <td>From Paris with Love</td>\n",
       "      <td>[{\"cast_id\": 3, \"character\": \"Charlie Wax\", \"c...</td>\n",
       "      <td>[{\"credit_id\": \"5763f7b792514134cd00026b\", \"de...</td>\n",
       "      <td>5</td>\n",
       "      <td>2</td>\n",
       "      <td>2010</td>\n",
       "    </tr>\n",
       "  </tbody>\n",
       "</table>\n",
       "</div>"
      ],
      "text/plain": [
       "     budget                                             genres  \\\n",
       "0  25000000  [{\"id\": 18, \"name\": \"Drama\"}, {\"id\": 10749, \"n...   \n",
       "1  38000000  [{\"id\": 878, \"name\": \"Science Fiction\"}, {\"id\"...   \n",
       "2  20000000  [{\"id\": 36, \"name\": \"History\"}, {\"id\": 18, \"na...   \n",
       "3  23000000  [{\"id\": 18, \"name\": \"Drama\"}, {\"id\": 10749, \"n...   \n",
       "4  52000000  [{\"id\": 28, \"name\": \"Action\"}, {\"id\": 80, \"nam...   \n",
       "\n",
       "                                            keywords original_language  \\\n",
       "0  [{\"id\": 4328, \"name\": \"costume\"}, {\"id\": 4528,...                en   \n",
       "1  [{\"id\": 10988, \"name\": \"based on tv series\"}, ...                en   \n",
       "2  [{\"id\": 237, \"name\": \"gay\"}, {\"id\": 582, \"name...                en   \n",
       "3  [{\"id\": 212, \"name\": \"london england\"}, {\"id\":...                en   \n",
       "4  [{\"id\": 90, \"name\": \"paris\"}, {\"id\": 591, \"nam...                en   \n",
       "\n",
       "           original_title  viewercount  \\\n",
       "0       Mao's Last Dancer     1.876811   \n",
       "1  Star Trek: Generations    14.779041   \n",
       "2                    Milk    30.909699   \n",
       "3             Vanity Fair     6.618149   \n",
       "4    From Paris with Love    27.916284   \n",
       "\n",
       "                                production_companies  \\\n",
       "0  [{\"name\": \"Great Scott Productions Pty. Ltd.\",...   \n",
       "1          [{\"name\": \"Paramount Pictures\", \"id\": 4}]   \n",
       "2          [{\"name\": \"Focus Features\", \"id\": 10146}]   \n",
       "3  [{\"name\": \"Alliance Films\", \"id\": 2514}, {\"nam...   \n",
       "4  [{\"name\": \"Apipoula\\u00ef\", \"id\": 1076}, {\"nam...   \n",
       "\n",
       "                                production_countries    revenue  runtime  \\\n",
       "0        [{\"iso_3166_1\": \"AU\", \"name\": \"Australia\"}]   20719451    117.0   \n",
       "1  [{\"iso_3166_1\": \"US\", \"name\": \"United States o...  120000000    118.0   \n",
       "2  [{\"iso_3166_1\": \"US\", \"name\": \"United States o...   54586584    128.0   \n",
       "3  [{\"iso_3166_1\": \"GB\", \"name\": \"United Kingdom\"...   16123851    141.0   \n",
       "4  [{\"iso_3166_1\": \"GB\", \"name\": \"United Kingdom\"...   52826594     92.0   \n",
       "\n",
       "                                    spoken_languages  \\\n",
       "0  [{\"iso_639_1\": \"en\", \"name\": \"English\"}, {\"iso...   \n",
       "1           [{\"iso_639_1\": \"en\", \"name\": \"English\"}]   \n",
       "2           [{\"iso_639_1\": \"en\", \"name\": \"English\"}]   \n",
       "3  [{\"iso_639_1\": \"en\", \"name\": \"English\"}, {\"iso...   \n",
       "4  [{\"iso_639_1\": \"de\", \"name\": \"Deutsch\"}, {\"iso...   \n",
       "\n",
       "                                  tagline  vote_count          Rate  \\\n",
       "0                                   最后的舞者          28          High   \n",
       "1                              Boldly go.         452  Intermediate   \n",
       "2                         Never Blend In.         612          High   \n",
       "3  On September 1st, a heroine will rise.          73  Intermediate   \n",
       "4         Two agents. One city. No merci.         675  Intermediate   \n",
       "\n",
       "                    title                                               cast  \\\n",
       "0       Mao's Last Dancer  [{\"cast_id\": 2, \"character\": \"Li Cunxin - adul...   \n",
       "1  Star Trek: Generations  [{\"cast_id\": 5, \"character\": \"Captain Jean-Luc...   \n",
       "2                    Milk  [{\"cast_id\": 2, \"character\": \"Harvey Milk\", \"c...   \n",
       "3             Vanity Fair  [{\"cast_id\": 22, \"character\": \"Becky Sharp\", \"...   \n",
       "4    From Paris with Love  [{\"cast_id\": 3, \"character\": \"Charlie Wax\", \"c...   \n",
       "\n",
       "                                                crew  day  month  year  \n",
       "0  [{\"credit_id\": \"52fe45419251416c9102c18d\", \"de...    1     10  2009  \n",
       "1  [{\"credit_id\": \"52fe4225c3a36847f8007717\", \"de...   17     11  1994  \n",
       "2  [{\"credit_id\": \"52fe43339251416c7500756b\", \"de...   26     11  2008  \n",
       "3  [{\"credit_id\": \"52fe446c9251416c75034365\", \"de...    1      9  2004  \n",
       "4  [{\"credit_id\": \"5763f7b792514134cd00026b\", \"de...    5      2  2010  "
      ]
     },
     "execution_count": 15,
     "metadata": {},
     "output_type": "execute_result"
    }
   ],
   "source": [
    "data.head()"
   ]
  },
  {
   "cell_type": "markdown",
   "metadata": {
    "id": "BFV_UfF80XX5"
   },
   "source": [
    "# Data Split"
   ]
  },
  {
   "cell_type": "code",
   "execution_count": 16,
   "metadata": {
    "id": "VgtfzmXW0IpB"
   },
   "outputs": [],
   "source": [
    "data_input=data.drop(columns=['Rate'])\n",
    "data_output=data['Rate']"
   ]
  },
  {
   "cell_type": "code",
   "execution_count": 17,
   "metadata": {
    "id": "Tlspxb9G0Irs"
   },
   "outputs": [],
   "source": [
    "x_train ,x_test ,y_train ,y_test = train_test_split(data_input ,data_output ,test_size = 0.2 ,random_state = 21)"
   ]
  },
  {
   "cell_type": "code",
   "execution_count": 18,
   "metadata": {
    "colab": {
     "base_uri": "https://localhost:8080/",
     "height": 559
    },
    "id": "fh0s4xv5UQ08",
    "outputId": "2add4986-ada9-4464-da59-ce47311517cf"
   },
   "outputs": [
    {
     "data": {
      "text/plain": [
       "<AxesSubplot:xlabel='Rate'>"
      ]
     },
     "execution_count": 18,
     "metadata": {},
     "output_type": "execute_result"
    },
    {
     "data": {
      "image/png": "[encoded data removed]",
      "text/plain": [
       "<Figure size 432x288 with 1 Axes>"
      ]
     },
     "metadata": {
      "needs_background": "light"
     },
     "output_type": "display_data"
    }
   ],
   "source": [
    "# grouping by frequency\n",
    "fq =pd.DataFrame(y_train,columns=['Rate']).groupby('Rate').size()/len(y_train)\n",
    "fq.plot.bar(stacked=True)"
   ]
  },
  {
   "cell_type": "code",
   "execution_count": 19,
   "metadata": {
    "id": "a8GL32SuQzEh"
   },
   "outputs": [],
   "source": [
    "#encoding ordinal for Rate column and save it for test script\n",
    "oe = OrdinalEncoder(handle_unknown='use_encoded_value', unknown_value=-1)\n",
    "oe.fit(np.array(y_train).reshape(-1, 1))\n",
    "pickle.dump(oe, open(\"ordinal_encoder.pkl\", \"wb\"))\n",
    "y_train = oe.transform(np.array(y_train).reshape(-1, 1))\n",
    "y_test = oe.transform(np.array(y_test).reshape(-1, 1))"
   ]
  },
  {
   "cell_type": "code",
   "execution_count": 20,
   "metadata": {
    "colab": {
     "base_uri": "https://localhost:8080/"
    },
    "id": "gsh6anjCTXCz",
    "outputId": "a84bd234-8a44-44cd-8888-2e4e871970a0"
   },
   "outputs": [
    {
     "name": "stdout",
     "output_type": "stream",
     "text": [
      "Shape of train data is  (2425, 19)\n",
      "Shape of test data is  (607, 19)\n"
     ]
    }
   ],
   "source": [
    "print(\"Shape of train data is \",x_train.shape)\n",
    "print(\"Shape of test data is \",x_test.shape)"
   ]
  },
  {
   "cell_type": "markdown",
   "metadata": {},
   "source": [
    "## Preprocessing The \"Title\" and \"Original title\" Columns by removing the noise"
   ]
  },
  {
   "cell_type": "code",
   "execution_count": 21,
   "metadata": {
    "id": "xGduABUlQzEi"
   },
   "outputs": [],
   "source": [
    "lemmatizer = WordNetLemmatizer()\n",
    "stop_words = set(stopwords.words('english'))\n",
    "\n",
    "# Define a function to remove punctuation and stopwords and apply lemmatization\n",
    "def preprocess_text(text):\n",
    "    # Remove punctuation\n",
    "    text = text.translate(str.maketrans('', '', string.punctuation))\n",
    "    # Tokenize words\n",
    "    words = nltk.word_tokenize(text)\n",
    "    # Remove stopwords and apply lemmatization\n",
    "    words = [lemmatizer.lemmatize(word) for word in words if not word.lower() in stop_words]\n",
    "    # Join words into a sentence\n",
    "    text = \" \".join(words)\n",
    "    return text\n",
    "\n",
    "# Apply preprocessing on 'original_title' and 'title' on train and test\n",
    "x_train['original_title'] = x_train['original_title'].apply(preprocess_text)\n",
    "x_test['original_title'] = x_test['original_title'].apply(preprocess_text)\n",
    "x_train['title'] = x_train['title'].apply(preprocess_text)\n",
    "x_test['title'] = x_test['title'].apply(preprocess_text)"
   ]
  },
  {
   "cell_type": "code",
   "execution_count": 22,
   "metadata": {
    "colab": {
     "base_uri": "https://localhost:8080/"
    },
    "id": "7zrdo-uTQzEj",
    "outputId": "81cbff43-e453-4385-9a00-e37e62146442"
   },
   "outputs": [
    {
     "name": "stdout",
     "output_type": "stream",
     "text": [
      "The differnet rows between 'title' column and 'original_title' column in train data:\n"
     ]
    },
    {
     "data": {
      "text/html": [
       "<div>\n",
       "<style scoped>\n",
       "    .dataframe tbody tr th:only-of-type {\n",
       "        vertical-align: middle;\n",
       "    }\n",
       "\n",
       "    .dataframe tbody tr th {\n",
       "        vertical-align: top;\n",
       "    }\n",
       "\n",
       "    .dataframe thead th {\n",
       "        text-align: right;\n",
       "    }\n",
       "</style>\n",
       "<table border=\"1\" class=\"dataframe\">\n",
       "  <thead>\n",
       "    <tr style=\"text-align: right;\">\n",
       "      <th></th>\n",
       "      <th>title</th>\n",
       "      <th>original_title</th>\n",
       "    </tr>\n",
       "  </thead>\n",
       "  <tbody>\n",
       "    <tr>\n",
       "      <th>1346</th>\n",
       "      <td>tango</td>\n",
       "      <td>tango dejes nunca</td>\n",
       "    </tr>\n",
       "    <tr>\n",
       "      <th>487</th>\n",
       "      <td>warlords</td>\n",
       "      <td>投名狀</td>\n",
       "    </tr>\n",
       "    <tr>\n",
       "      <th>2482</th>\n",
       "      <td>kung fu hustle</td>\n",
       "      <td>功夫</td>\n",
       "    </tr>\n",
       "    <tr>\n",
       "      <th>1927</th>\n",
       "      <td>best offer</td>\n",
       "      <td>la migliore offerta</td>\n",
       "    </tr>\n",
       "    <tr>\n",
       "      <th>455</th>\n",
       "      <td>girl train</td>\n",
       "      <td>la fille du rer</td>\n",
       "    </tr>\n",
       "    <tr>\n",
       "      <th>...</th>\n",
       "      <td>...</td>\n",
       "      <td>...</td>\n",
       "    </tr>\n",
       "    <tr>\n",
       "      <th>1994</th>\n",
       "      <td>futuro beach</td>\n",
       "      <td>praia futuro</td>\n",
       "    </tr>\n",
       "    <tr>\n",
       "      <th>1362</th>\n",
       "      <td>forbidden kingdom</td>\n",
       "      <td>viy</td>\n",
       "    </tr>\n",
       "    <tr>\n",
       "      <th>2391</th>\n",
       "      <td>kabhi alvida naa kehna</td>\n",
       "      <td>कभी अलविदा ना कहना</td>\n",
       "    </tr>\n",
       "    <tr>\n",
       "      <th>2356</th>\n",
       "      <td>fly moon</td>\n",
       "      <td>un plan parfait</td>\n",
       "    </tr>\n",
       "    <tr>\n",
       "      <th>2811</th>\n",
       "      <td>white ribbon</td>\n",
       "      <td>das weisse band</td>\n",
       "    </tr>\n",
       "  </tbody>\n",
       "</table>\n",
       "<p>100 rows × 2 columns</p>\n",
       "</div>"
      ],
      "text/plain": [
       "                       title       original_title\n",
       "1346                   tango    tango dejes nunca\n",
       "487                 warlords                  投名狀\n",
       "2482          kung fu hustle                   功夫\n",
       "1927              best offer  la migliore offerta\n",
       "455               girl train      la fille du rer\n",
       "...                      ...                  ...\n",
       "1994            futuro beach         praia futuro\n",
       "1362       forbidden kingdom                  viy\n",
       "2391  kabhi alvida naa kehna   कभी अलविदा ना कहना\n",
       "2356                fly moon      un plan parfait\n",
       "2811            white ribbon      das weisse band\n",
       "\n",
       "[100 rows x 2 columns]"
      ]
     },
     "execution_count": 22,
     "metadata": {},
     "output_type": "execute_result"
    }
   ],
   "source": [
    "# make new column to display differnce between title and original title\n",
    "x_train['original_title'] = x_train['original_title'].str.lower()\n",
    "x_train['title'] = x_train['title'].str.lower()\n",
    "x_train['original_title_not_equal_title'] = x_train['original_title'] != x_train['title']\n",
    "rows_not_equal = x_train[x_train['original_title_not_equal_title']]\n",
    "print(\"The differnet rows between 'title' column and 'original_title' column in train data:\")\n",
    "rows_not_equal[['title','original_title']]"
   ]
  },
  {
   "cell_type": "code",
   "execution_count": 23,
   "metadata": {
    "colab": {
     "base_uri": "https://localhost:8080/"
    },
    "id": "fO5rHHZpQzEk",
    "outputId": "276f005e-17e7-44df-ae6b-9663eb1b9a31"
   },
   "outputs": [
    {
     "name": "stdout",
     "output_type": "stream",
     "text": [
      "The differnet rows between 'title' column and 'original_title' column in test data:\n"
     ]
    },
    {
     "data": {
      "text/html": [
       "<div>\n",
       "<style scoped>\n",
       "    .dataframe tbody tr th:only-of-type {\n",
       "        vertical-align: middle;\n",
       "    }\n",
       "\n",
       "    .dataframe tbody tr th {\n",
       "        vertical-align: top;\n",
       "    }\n",
       "\n",
       "    .dataframe thead th {\n",
       "        text-align: right;\n",
       "    }\n",
       "</style>\n",
       "<table border=\"1\" class=\"dataframe\">\n",
       "  <thead>\n",
       "    <tr style=\"text-align: right;\">\n",
       "      <th></th>\n",
       "      <th>title</th>\n",
       "      <th>original_title</th>\n",
       "    </tr>\n",
       "  </thead>\n",
       "  <tbody>\n",
       "    <tr>\n",
       "      <th>2987</th>\n",
       "      <td>diving bell butterfly</td>\n",
       "      <td>le scaphandre et le papillon</td>\n",
       "    </tr>\n",
       "    <tr>\n",
       "      <th>2804</th>\n",
       "      <td>instructions included</td>\n",
       "      <td>se aceptan devoluciones</td>\n",
       "    </tr>\n",
       "    <tr>\n",
       "      <th>2835</th>\n",
       "      <td>children huang shi</td>\n",
       "      <td>黃石的孩子</td>\n",
       "    </tr>\n",
       "    <tr>\n",
       "      <th>1958</th>\n",
       "      <td>exiled</td>\n",
       "      <td>放‧逐</td>\n",
       "    </tr>\n",
       "    <tr>\n",
       "      <th>1217</th>\n",
       "      <td>reign assassins</td>\n",
       "      <td>剑雨</td>\n",
       "    </tr>\n",
       "    <tr>\n",
       "      <th>370</th>\n",
       "      <td>chorus</td>\n",
       "      <td>les choristes</td>\n",
       "    </tr>\n",
       "    <tr>\n",
       "      <th>2310</th>\n",
       "      <td>highlander final dimension</td>\n",
       "      <td>highlander iii sorcerer</td>\n",
       "    </tr>\n",
       "    <tr>\n",
       "      <th>972</th>\n",
       "      <td>character</td>\n",
       "      <td>karakter</td>\n",
       "    </tr>\n",
       "    <tr>\n",
       "      <th>2042</th>\n",
       "      <td>micmacs</td>\n",
       "      <td>micmacs à tirelarigot</td>\n",
       "    </tr>\n",
       "    <tr>\n",
       "      <th>552</th>\n",
       "      <td>lilya 4ever</td>\n",
       "      <td>lilja 4ever</td>\n",
       "    </tr>\n",
       "    <tr>\n",
       "      <th>1702</th>\n",
       "      <td>evolution</td>\n",
       "      <td>évolution</td>\n",
       "    </tr>\n",
       "    <tr>\n",
       "      <th>3031</th>\n",
       "      <td>flame citron</td>\n",
       "      <td>flammen citronen</td>\n",
       "    </tr>\n",
       "    <tr>\n",
       "      <th>727</th>\n",
       "      <td>eat father</td>\n",
       "      <td>pourquoi jai pa mangé mon père</td>\n",
       "    </tr>\n",
       "    <tr>\n",
       "      <th>2534</th>\n",
       "      <td>bélier family</td>\n",
       "      <td>la famille bélier</td>\n",
       "    </tr>\n",
       "    <tr>\n",
       "      <th>2108</th>\n",
       "      <td>kung fu jungle</td>\n",
       "      <td>一個人的武林</td>\n",
       "    </tr>\n",
       "    <tr>\n",
       "      <th>2618</th>\n",
       "      <td>arthur invisibles</td>\n",
       "      <td>arthur et le minimoys</td>\n",
       "    </tr>\n",
       "    <tr>\n",
       "      <th>2933</th>\n",
       "      <td>wild grass</td>\n",
       "      <td>les herbes folles</td>\n",
       "    </tr>\n",
       "    <tr>\n",
       "      <th>2845</th>\n",
       "      <td>nowhere africa</td>\n",
       "      <td>nirgendwo afrika</td>\n",
       "    </tr>\n",
       "    <tr>\n",
       "      <th>272</th>\n",
       "      <td>sleep tight</td>\n",
       "      <td>mientras duermes</td>\n",
       "    </tr>\n",
       "    <tr>\n",
       "      <th>347</th>\n",
       "      <td>chambermaid titanic</td>\n",
       "      <td>la femme de chambre du titanic</td>\n",
       "    </tr>\n",
       "    <tr>\n",
       "      <th>1671</th>\n",
       "      <td>firestorm</td>\n",
       "      <td>風暴</td>\n",
       "    </tr>\n",
       "    <tr>\n",
       "      <th>1797</th>\n",
       "      <td>ponyo</td>\n",
       "      <td>崖の上のポニョ</td>\n",
       "    </tr>\n",
       "    <tr>\n",
       "      <th>2807</th>\n",
       "      <td>upon time west</td>\n",
       "      <td>cera una volta il west</td>\n",
       "    </tr>\n",
       "    <tr>\n",
       "      <th>2594</th>\n",
       "      <td>rocket legend rocket richard</td>\n",
       "      <td>maurice richard</td>\n",
       "    </tr>\n",
       "    <tr>\n",
       "      <th>548</th>\n",
       "      <td></td>\n",
       "      <td>michael jacksons</td>\n",
       "    </tr>\n",
       "    <tr>\n",
       "      <th>58</th>\n",
       "      <td>dragon wars dwar</td>\n",
       "      <td>디워</td>\n",
       "    </tr>\n",
       "    <tr>\n",
       "      <th>1384</th>\n",
       "      <td>crouching tiger hidden dragon</td>\n",
       "      <td>卧虎藏龙</td>\n",
       "    </tr>\n",
       "    <tr>\n",
       "      <th>1228</th>\n",
       "      <td>host</td>\n",
       "      <td>괴물</td>\n",
       "    </tr>\n",
       "    <tr>\n",
       "      <th>1283</th>\n",
       "      <td>sympathy lady vengeance</td>\n",
       "      <td>친절한 금자씨</td>\n",
       "    </tr>\n",
       "    <tr>\n",
       "      <th>3025</th>\n",
       "      <td>coco chanel</td>\n",
       "      <td>coco avant chanel</td>\n",
       "    </tr>\n",
       "    <tr>\n",
       "      <th>450</th>\n",
       "      <td>saving private perez</td>\n",
       "      <td>salvando al soldado perez</td>\n",
       "    </tr>\n",
       "  </tbody>\n",
       "</table>\n",
       "</div>"
      ],
      "text/plain": [
       "                              title                  original_title\n",
       "2987          diving bell butterfly    le scaphandre et le papillon\n",
       "2804          instructions included         se aceptan devoluciones\n",
       "2835             children huang shi                           黃石的孩子\n",
       "1958                         exiled                             放‧逐\n",
       "1217                reign assassins                              剑雨\n",
       "370                          chorus                   les choristes\n",
       "2310     highlander final dimension         highlander iii sorcerer\n",
       "972                       character                        karakter\n",
       "2042                        micmacs           micmacs à tirelarigot\n",
       "552                     lilya 4ever                     lilja 4ever\n",
       "1702                      evolution                       évolution\n",
       "3031                   flame citron                flammen citronen\n",
       "727                      eat father  pourquoi jai pa mangé mon père\n",
       "2534                  bélier family               la famille bélier\n",
       "2108                 kung fu jungle                          一個人的武林\n",
       "2618              arthur invisibles           arthur et le minimoys\n",
       "2933                     wild grass               les herbes folles\n",
       "2845                 nowhere africa                nirgendwo afrika\n",
       "272                     sleep tight                mientras duermes\n",
       "347             chambermaid titanic  la femme de chambre du titanic\n",
       "1671                      firestorm                              風暴\n",
       "1797                          ponyo                         崖の上のポニョ\n",
       "2807                 upon time west          cera una volta il west\n",
       "2594   rocket legend rocket richard                 maurice richard\n",
       "548                                                michael jacksons\n",
       "58                 dragon wars dwar                              디워\n",
       "1384  crouching tiger hidden dragon                            卧虎藏龙\n",
       "1228                           host                              괴물\n",
       "1283        sympathy lady vengeance                         친절한 금자씨\n",
       "3025                    coco chanel               coco avant chanel\n",
       "450            saving private perez       salvando al soldado perez"
      ]
     },
     "execution_count": 23,
     "metadata": {},
     "output_type": "execute_result"
    }
   ],
   "source": [
    "# make the same on test\n",
    "x_test['original_title'] = x_test['original_title'].str.lower()\n",
    "x_test['title'] = x_test['title'].str.lower()\n",
    "x_test['original_title_not_equal_title'] = x_test['original_title'] != x_test['title']\n",
    "rows_not_equal = x_test[x_test['original_title_not_equal_title']]\n",
    "print(\"The differnet rows between 'title' column and 'original_title' column in test data:\")\n",
    "rows_not_equal[['title','original_title']]"
   ]
  },
  {
   "cell_type": "code",
   "execution_count": 24,
   "metadata": {},
   "outputs": [],
   "source": [
    "x_train.drop(columns=['original_title_not_equal_title'],inplace=True)\n",
    "x_test.drop(columns=['original_title_not_equal_title'],inplace=True)"
   ]
  },
  {
   "cell_type": "code",
   "execution_count": 25,
   "metadata": {
    "id": "CUDQnp0XQzEm"
   },
   "outputs": [],
   "source": [
    "# This Column is similar to \"Tiltle\" Column with number of rows 2897 to the original data 3040 rows\n",
    "x_train.drop(axis=1, columns=['original_title'], inplace=True)\n",
    "x_test.drop(axis=1, columns=['original_title'], inplace=True)"
   ]
  },
  {
   "cell_type": "markdown",
   "metadata": {},
   "source": [
    "# Preprocessing The \"Tagline\" and \"Title\" using sentiment analysis"
   ]
  },
  {
   "cell_type": "code",
   "execution_count": 26,
   "metadata": {
    "id": "GHOSbcXTQzEm"
   },
   "outputs": [],
   "source": [
    "#fill null with empty string\n",
    "x_train['tagline'] = x_train['tagline'].astype(str).fillna('')\n",
    "x_test['tagline'] = x_test['tagline'].astype(str).fillna('')"
   ]
  },
  {
   "cell_type": "code",
   "execution_count": 27,
   "metadata": {
    "id": "G91IX5A9QzEn"
   },
   "outputs": [],
   "source": [
    "# Define a function to get the sentiment score of a movie title and tagline using TextBlob\n",
    "def get_sentiment_score(title):\n",
    "    text_blob = TextBlob(title)\n",
    "    return text_blob.sentiment.polarity\n",
    "\n",
    "# Apply the function to the 'title' column of the DataFrame to get the sentiment scores\n",
    "x_train['title'] = x_train['title'].apply(get_sentiment_score)\n",
    "x_test['title'] = x_test['title'].apply(get_sentiment_score)\n",
    "\n",
    "x_train['tagline'] = x_train['tagline'].apply(get_sentiment_score)\n",
    "x_test['tagline'] = x_test['tagline'].apply(get_sentiment_score)"
   ]
  },
  {
   "cell_type": "markdown",
   "metadata": {
    "id": "itZfY4E2zc-w"
   },
   "source": [
    "# Detect and Handling Outliers"
   ]
  },
  {
   "cell_type": "code",
   "execution_count": 28,
   "metadata": {
    "id": "Mz4U05Xy4QNS"
   },
   "outputs": [],
   "source": [
    "x_train = x_train.reset_index(drop=True)"
   ]
  },
  {
   "cell_type": "code",
   "execution_count": 29,
   "metadata": {
    "colab": {
     "base_uri": "https://localhost:8080/",
     "height": 500
    },
    "id": "ZayVmXn7yzZd",
    "outputId": "17e15d55-4c8b-49a6-c310-3787229f31fa"
   },
   "outputs": [
    {
     "data": {
      "image/png": "[encoded data removed]",
      "text/plain": [
       "<Figure size 1080x360 with 8 Axes>"
      ]
     },
     "metadata": {},
     "output_type": "display_data"
    }
   ],
   "source": [
    "#checking outliers of train data\n",
    "sns.set()\n",
    "fig, axs = plt.subplots(1,8, figsize = (15,5))\n",
    "plt1 = sns.boxplot(x_train['revenue'], ax = axs[0])\n",
    "plt2 = sns.boxplot(x_train['budget'], ax = axs[1])\n",
    "plt3 = sns.boxplot(x_train['viewercount'], ax = axs[2])\n",
    "plt4 = sns.boxplot(x_train['runtime'], ax = axs[3])\n",
    "plt5 = sns.boxplot(x_train['vote_count'], ax = axs[4])\n",
    "plt6 = sns.boxplot(x_train['year'], ax = axs[5])\n",
    "plt7 = sns.boxplot(x_train['month'], ax = axs[6])\n",
    "plt8 = sns.boxplot(x_train['day'], ax = axs[7])\n",
    "\n",
    "plt.tight_layout()"
   ]
  },
  {
   "cell_type": "code",
   "execution_count": 30,
   "metadata": {
    "id": "NsifuVrJZp_x"
   },
   "outputs": [],
   "source": [
    "x_test = x_test.reset_index(drop=True)"
   ]
  },
  {
   "cell_type": "code",
   "execution_count": 31,
   "metadata": {
    "colab": {
     "base_uri": "https://localhost:8080/",
     "height": 500
    },
    "id": "FGLyBNcHS7G5",
    "outputId": "7f19ba97-ee44-4b7c-bdb7-2b543c189b99"
   },
   "outputs": [
    {
     "data": {
      "image/png": "[encoded data removed]",
      "text/plain": [
       "<Figure size 1080x360 with 8 Axes>"
      ]
     },
     "metadata": {},
     "output_type": "display_data"
    }
   ],
   "source": [
    "#checking outliers of testing data\n",
    "sns.set()\n",
    "fig, axs = plt.subplots(1,8, figsize = (15,5))\n",
    "plt1 = sns.boxplot(x_test['revenue'], ax = axs[0])\n",
    "plt2 = sns.boxplot(x_test['budget'], ax = axs[1])\n",
    "plt3 = sns.boxplot(x_test['viewercount'], ax = axs[2])\n",
    "plt4 = sns.boxplot(x_test['runtime'], ax = axs[3])\n",
    "plt5 = sns.boxplot(x_test['vote_count'], ax = axs[4])\n",
    "plt6 = sns.boxplot(x_test['year'], ax = axs[5])\n",
    "plt7 = sns.boxplot(x_test['month'], ax = axs[6])\n",
    "plt8 = sns.boxplot(x_test['day'], ax = axs[7])\n",
    "\n",
    "plt.tight_layout()"
   ]
  },
  {
   "cell_type": "code",
   "execution_count": 32,
   "metadata": {
    "id": "4GXudodizky9"
   },
   "outputs": [],
   "source": [
    "# handling outlier of train and test using knowledge of outliers of train\n",
    "def replace_outlier(col):\n",
    "    limits=[]\n",
    "    col_q1=x_train[col].quantile(0.25)\n",
    "    col_q3=x_train[col].quantile(0.75)\n",
    "    col_iqr=col_q3-col_q1\n",
    "\n",
    "    col_upper_limit=col_q3+(1.5*col_iqr)\n",
    "    col_lower_limit=col_q1-(1.5*col_iqr)\n",
    "\n",
    "    limits.append(col_upper_limit)\n",
    "    limits.append(col_lower_limit)\n",
    "\n",
    "    x_train.loc[x_train[col] > col_upper_limit,col]= col_upper_limit\n",
    "    x_train.loc[x_train[col] < col_lower_limit,col]= col_lower_limit\n",
    "    return limits\n",
    "\n",
    "def replace_test_outlier(col,limits):\n",
    "    x_test.loc[x_test[col] > limits[0],col]=limits[0]\n",
    "    x_test.loc[x_test[col] < limits[1],col]=limits[1]"
   ]
  },
  {
   "cell_type": "code",
   "execution_count": 33,
   "metadata": {
    "id": "Xh-gplkEQzEq"
   },
   "outputs": [],
   "source": [
    " # define list to use in test script\n",
    "limit_values = []"
   ]
  },
  {
   "cell_type": "code",
   "execution_count": 34,
   "metadata": {
    "id": "2y646Mhlzk1b"
   },
   "outputs": [],
   "source": [
    "outliers_column=['revenue','budget','runtime','vote_count','viewercount','year']\n",
    "for col in outliers_column:\n",
    "    limits=replace_outlier(col)\n",
    "    #append the outliers value into list to apply on test script\n",
    "    limit_values.append(limits)\n",
    "    replace_test_outlier(col,limits)"
   ]
  },
  {
   "cell_type": "code",
   "execution_count": 35,
   "metadata": {},
   "outputs": [],
   "source": [
    "# save list of train outliers \n",
    "pickle.dump(limit_values, open(\"limit_values_c.pkl\", \"wb\"))"
   ]
  },
  {
   "cell_type": "code",
   "execution_count": 36,
   "metadata": {
    "colab": {
     "base_uri": "https://localhost:8080/",
     "height": 500
    },
    "id": "qIPEqjQTTKlY",
    "outputId": "4e937e6d-d848-474e-9822-29f3e3fc47a0"
   },
   "outputs": [
    {
     "data": {
      "image/png": "[encoded data removed]",
      "text/plain": [
       "<Figure size 720x360 with 6 Axes>"
      ]
     },
     "metadata": {},
     "output_type": "display_data"
    }
   ],
   "source": [
    "#checking outliers test\n",
    "sns.set()\n",
    "fig, axs = plt.subplots(1,6, figsize = (10,5))\n",
    "plt7 = sns.boxplot(x_test['revenue'], ax = axs[0])\n",
    "plt2 = sns.boxplot(x_test['budget'], ax = axs[1])\n",
    "plt3 = sns.boxplot(x_test['viewercount'], ax = axs[2])\n",
    "plt4 = sns.boxplot(x_test['runtime'], ax = axs[3])\n",
    "plt5 = sns.boxplot(x_test['vote_count'], ax = axs[4])\n",
    "plt6 = sns.boxplot(x_test['year'], ax = axs[5])\n",
    "\n",
    "plt.tight_layout()"
   ]
  },
  {
   "cell_type": "code",
   "execution_count": 37,
   "metadata": {
    "colab": {
     "base_uri": "https://localhost:8080/",
     "height": 500
    },
    "id": "_25k4214zk4_",
    "outputId": "d3732341-4a11-4ff8-de9d-4a6525da14c3"
   },
   "outputs": [
    {
     "data": {
      "image/png": "[encoded data removed]",
      "text/plain": [
       "<Figure size 1080x360 with 6 Axes>"
      ]
     },
     "metadata": {},
     "output_type": "display_data"
    }
   ],
   "source": [
    "#checking outliers train\n",
    "sns.set()\n",
    "fig, axs = plt.subplots(1,6, figsize = (15,5))\n",
    "plt1 = sns.boxplot(x_train['revenue'], ax = axs[0])\n",
    "plt2 = sns.boxplot(x_train['budget'], ax = axs[1])\n",
    "plt3 = sns.boxplot(x_train['viewercount'], ax = axs[2])\n",
    "plt4 = sns.boxplot(x_train['runtime'], ax = axs[3])\n",
    "plt5 = sns.boxplot(x_train['vote_count'], ax = axs[4])\n",
    "plt6 = sns.boxplot(x_train['year'], ax = axs[5])\n",
    "plt.tight_layout()"
   ]
  },
  {
   "cell_type": "markdown",
   "metadata": {
    "id": "b7C-94ovQzEs"
   },
   "source": [
    "# Handling Missing Values of \"budget\" and \"runtime\" Columns"
   ]
  },
  {
   "cell_type": "code",
   "execution_count": 38,
   "metadata": {
    "id": "UKcwmvQkQzEs"
   },
   "outputs": [],
   "source": [
    "budget_mean = x_train[x_train[\"budget\"] > 0].budget.describe().mean()\n",
    "runtime_mean=  x_train[x_train[\"runtime\"] > 0].runtime.describe().mean()"
   ]
  },
  {
   "cell_type": "code",
   "execution_count": 39,
   "metadata": {},
   "outputs": [],
   "source": [
    "pickle.dump(budget_mean, open(\"budget_mean_c.pkl\", \"wb\"))\n",
    "pickle.dump(runtime_mean, open(\"runtime_mean_c.pkl\", \"wb\"))"
   ]
  },
  {
   "cell_type": "code",
   "execution_count": 40,
   "metadata": {
    "id": "3k2BhOheQzEs"
   },
   "outputs": [],
   "source": [
    "x_train['budget'].replace(0, budget_mean,inplace = True)\n",
    "x_train['runtime'].replace(0, runtime_mean,inplace = True)\n",
    "\n",
    "x_test['budget'].replace(0, budget_mean, inplace = True)\n",
    "x_test['runtime'].replace(0, runtime_mean, inplace = True)"
   ]
  },
  {
   "cell_type": "markdown",
   "metadata": {
    "id": "qPa_VM83E2eL"
   },
   "source": [
    "# Preprocessing The \"original_language\" Column using ordinal encoder"
   ]
  },
  {
   "cell_type": "code",
   "execution_count": 41,
   "metadata": {
    "colab": {
     "base_uri": "https://localhost:8080/"
    },
    "id": "ctFX3S2wE2eL",
    "outputId": "517e9fde-051f-4d05-a37c-5f8473429954"
   },
   "outputs": [
    {
     "name": "stdout",
     "output_type": "stream",
     "text": [
      "Unique values of 'original_language' column: ['en' 'hi' 'es' 'zh' 'fr' 'cn' 'de' 'ja' 'sv' 'ko' 'nl' 'ru' 'th' 'ta'\n",
      " 'cs' 'hu' 'it' 'is' 'da' 'pt']\n"
     ]
    }
   ],
   "source": [
    "# Get unique values of \"original_language\" column\n",
    "unique_values = x_train['original_language'].unique()\n",
    "print(f\"Unique values of 'original_language' column: {unique_values}\")"
   ]
  },
  {
   "cell_type": "code",
   "execution_count": 42,
   "metadata": {
    "id": "E4yUH5V7QzEu"
   },
   "outputs": [],
   "source": [
    "# The most frequently occurring value in the column\n",
    "OL_mode = x_train['original_language'].mode()[0]     "
   ]
  },
  {
   "cell_type": "code",
   "execution_count": 43,
   "metadata": {},
   "outputs": [],
   "source": [
    "pickle.dump(OL_mode, open(\"OL_mode_c.pkl\", \"wb\"))"
   ]
  },
  {
   "cell_type": "code",
   "execution_count": 44,
   "metadata": {
    "id": "V5IdJxEIQzEu"
   },
   "outputs": [],
   "source": [
    "# Fit the ordinal encoder and save it to a file\n",
    "oe = OrdinalEncoder(handle_unknown='use_encoded_value', unknown_value=-1)\n",
    "oe.fit(x_train[['original_language']])\n",
    "\n",
    "# Save the encoder to a file using pickle\n",
    "with open('encoder_c.pkl', 'wb') as f:\n",
    "    pickle.dump(oe, f)\n",
    "\n",
    "# Transform \"original_language\" column for both training and test sets\n",
    "x_train['original_language'] = oe.transform(x_train[['original_language']])\n",
    "x_test['original_language'] = oe.transform(x_test[['original_language']])"
   ]
  },
  {
   "cell_type": "markdown",
   "metadata": {
    "id": "E0AWVPRs2maJ"
   },
   "source": [
    "# Extracting the \"name\" attribute from the Columns"
   ]
  },
  {
   "cell_type": "code",
   "execution_count": 45,
   "metadata": {
    "id": "1fQVnYqqIK1j"
   },
   "outputs": [],
   "source": [
    "json_cols = ['genres', 'keywords', 'production_companies', 'spoken_languages', 'production_countries', 'cast', 'crew']\n",
    "\n",
    "def extract_keywords(x):\n",
    "    L=[]\n",
    "    for i in ast.literal_eval(x):\n",
    "            L.append(i['name'])\n",
    "    return L\n",
    "\n",
    "# Apply extract_keywords function to train data\n",
    "for col in json_cols:\n",
    "    x_train[col]=x_train[col].apply(extract_keywords)\n",
    "\n",
    "# Apply extract_keywords function to test data\n",
    "for col in json_cols:\n",
    "    x_test[col]=x_test[col].apply(extract_keywords)"
   ]
  },
  {
   "cell_type": "markdown",
   "metadata": {},
   "source": [
    "# One Hot Encoding"
   ]
  },
  {
   "cell_type": "code",
   "execution_count": 46,
   "metadata": {
    "id": "z2CwQL313bY4"
   },
   "outputs": [],
   "source": [
    "class Our_OneHotEncoder:\n",
    "    data = set()\n",
    "\n",
    "    def _init_(self):\n",
    "        self.data.clear()\n",
    "\n",
    "    # adding items to data field\n",
    "    def fit_freq(self, freq_set):\n",
    "        self.data = freq_set\n",
    "\n",
    "    def fit(self, df, column_name):\n",
    "        # adding items to data field\n",
    "        for lst in df[column_name]:\n",
    "            for element in lst:\n",
    "                self.data.add(element)\n",
    "\n",
    "    def transform(self, df, column_name):\n",
    "        data_lst = list(self.data)\n",
    "\n",
    "        # Initializing the one-hot columns\n",
    "        for col in data_lst:\n",
    "            df[col] = np.zeros(df.shape[0], dtype=int)\n",
    "\n",
    "        # One-Hot Encoding\n",
    "        for i, row in df.iterrows():\n",
    "            for element in row[column_name]:\n",
    "                if element in data_lst:\n",
    "                    df.loc[i, element] = 1\n",
    "        df.drop(columns=[column_name], inplace=True)\n",
    "\n",
    "\n",
    "saved_fitted_data = []\n",
    "encoder = Our_OneHotEncoder()\n",
    "encoder.fit(x_train, 'genres')\n",
    "saved_fitted_data.append(list(encoder.data))\n",
    "encoder.transform(x_train, 'genres')\n",
    "encoder.transform(x_test, 'genres')\n",
    "\n",
    "arr = [60, 20, 20]\n",
    "most_common_cols = ['production_companies', 'production_countries', 'cast']\n",
    "i = 0\n",
    "\n",
    "for col in most_common_cols:\n",
    "    keywords_freq = set()\n",
    "    \n",
    "    # Flatten the list of keywords into a single list of words\n",
    "    words = [keyword for keyword_list in x_train[col] for keyword in keyword_list]\n",
    "\n",
    "    freq_count = Counter(words)\n",
    "    \n",
    "    for word, count in freq_count.most_common(arr[i]):\n",
    "        if word not in list(stop_words):\n",
    "            # print(word, count)\n",
    "            keywords_freq.add(word)\n",
    "    i += 1\n",
    "    encoder = Our_OneHotEncoder()\n",
    "    encoder.fit_freq(keywords_freq)\n",
    "    saved_fitted_data.append(list(encoder.data))\n",
    "    encoder.transform(x_train, col)\n",
    "    encoder.transform(x_test, col)\n"
   ]
  },
  {
   "cell_type": "code",
   "execution_count": 47,
   "metadata": {
    "id": "tlLibCSlQzEx"
   },
   "outputs": [],
   "source": [
    "pickle.dump(saved_fitted_data, open(\"saved_fitted_data_c.pkl\", \"wb\"))"
   ]
  },
  {
   "cell_type": "markdown",
   "metadata": {},
   "source": [
    "# Preprocessing \"keywords\",\"crew\",\"spoken_languages\" by word2vector"
   ]
  },
  {
   "cell_type": "code",
   "execution_count": 48,
   "metadata": {
    "id": "VRGhhwK9-L3t"
   },
   "outputs": [],
   "source": [
    "word2vectorColumns=['keywords', 'crew', 'spoken_languages']\n",
    "\n",
    "def word2vectorFunction(data, col):\n",
    "    model1 = gensim.models.Word2Vec(data[col],  min_count = 1)\n",
    "    X = []\n",
    "    for keyword in data[col]:\n",
    "        feature_vec = np.zeros((100,))\n",
    "        for word in keyword:\n",
    "            if word in model1.wv.key_to_index:\n",
    "                feature_vec += model1.wv[word]\n",
    "        X.append(feature_vec)\n",
    "    data[col] = X\n",
    "    \n",
    "for col in word2vectorColumns:\n",
    "    word2vectorFunction(x_train,col)\n",
    "    word2vectorFunction(x_test,col)"
   ]
  },
  {
   "cell_type": "markdown",
   "metadata": {
    "id": "lMMTejlaQzEx"
   },
   "source": [
    "# Calculating mean"
   ]
  },
  {
   "cell_type": "code",
   "execution_count": 49,
   "metadata": {
    "id": "tUTKm_phQzEy"
   },
   "outputs": [],
   "source": [
    "import statistics\n",
    "from statistics import mean\n",
    "columns = ['keywords', 'crew', 'spoken_languages']   \n",
    "\n",
    "def calculate_mean(df, col):\n",
    "    for i, row in df.iterrows():\n",
    "        df.loc[i, col] = mean(df.loc[i, col])\n",
    "        \n",
    "for col in columns:\n",
    "    calculate_mean(x_train, col)\n",
    "    calculate_mean(x_test, col)"
   ]
  },
  {
   "cell_type": "code",
   "execution_count": 50,
   "metadata": {
    "id": "U4dyKZbZQzEy"
   },
   "outputs": [],
   "source": [
    "vote_count_med = x_train['vote_count'].median()"
   ]
  },
  {
   "cell_type": "code",
   "execution_count": 51,
   "metadata": {
    "id": "JyS6GZ8MQzEz"
   },
   "outputs": [],
   "source": [
    "viewer_count_med = x_train['viewercount'].median()"
   ]
  },
  {
   "cell_type": "code",
   "execution_count": 52,
   "metadata": {
    "id": "sN2R4D5FQzEz"
   },
   "outputs": [],
   "source": [
    "revnue_med = x_train['revenue'].median()"
   ]
  },
  {
   "cell_type": "code",
   "execution_count": 53,
   "metadata": {},
   "outputs": [],
   "source": [
    "pickle.dump(vote_count_med, open(\"vote_count_med_c.pkl\", \"wb\"))\n",
    "pickle.dump(viewer_count_med, open(\"viewer_count_med_c.pkl\", \"wb\"))\n",
    "pickle.dump(revnue_med, open(\"revnue_med_c.pkl\", \"wb\"))"
   ]
  },
  {
   "cell_type": "markdown",
   "metadata": {
    "id": "faonvgnnQzE0"
   },
   "source": [
    "# Scaling"
   ]
  },
  {
   "cell_type": "code",
   "execution_count": 54,
   "metadata": {
    "colab": {
     "base_uri": "https://localhost:8080/"
    },
    "id": "7n-Hba3NQzE0",
    "outputId": "87845b7a-3ed1-4396-98af-eae53515859a"
   },
   "outputs": [
    {
     "name": "stdout",
     "output_type": "stream",
     "text": [
      "     budget  keywords  original_language  viewercount   revenue   runtime  \\\n",
      "0 -0.829751  0.499768                4.0     2.414452 -0.296574  2.607843   \n",
      "1  0.075130 -0.288890                4.0    -0.285527 -0.508565  0.001692   \n",
      "2 -0.096073 -0.087141                4.0    -0.177130 -0.816813 -1.218208   \n",
      "3  2.571931  0.306559                4.0     1.597931  2.312327 -0.996408   \n",
      "4  0.075130 -0.614079                4.0    -0.594435 -0.816813  0.999792   \n",
      "\n",
      "   spoken_languages  tagline  vote_count  title  ...  Steve Buscemi  \\\n",
      "0          1.601773     0.00    2.195619    0.0  ...              0   \n",
      "1         -0.416439     0.00   -0.381870    0.0  ...              0   \n",
      "2         -0.416439     0.00   -0.384904    0.0  ...              0   \n",
      "3         -0.416439     0.00    1.942270    0.0  ...              0   \n",
      "4         -0.416439    -0.15    0.183994    0.0  ...              0   \n",
      "\n",
      "   Nicolas Cage  Meryl Streep  Matthew McConaughey  Stanley Tucci  \\\n",
      "0             0             0                    0              0   \n",
      "1             0             0                    0              0   \n",
      "2             0             0                    0              0   \n",
      "3             0             0                    0              0   \n",
      "4             0             0                    0              0   \n",
      "\n",
      "   Paul Giamatti  Matt Damon  Samuel L. Jackson  Robert De Niro  Johnny Depp  \n",
      "0              0           0                  0               1            0  \n",
      "1              0           0                  0               0            0  \n",
      "2              0           0                  0               0            0  \n",
      "3              0           0                  0               0            0  \n",
      "4              0           0                  0               0            0  \n",
      "\n",
      "[5 rows x 134 columns]\n"
     ]
    }
   ],
   "source": [
    "cols=['budget','viewercount','revenue','runtime','vote_count','year','month','day', 'keywords','crew', 'spoken_languages']\n",
    "scaler = StandardScaler()\n",
    "scaler.fit(x_train[cols])\n",
    "with open('scaler_c.pkl', 'wb') as f:\n",
    "    pickle.dump(scaler, f)\n",
    "x_train[cols]=scaler.transform(x_train[cols])\n",
    "x_test[cols]=scaler.transform(x_test[cols])\n",
    "print(x_train.head())"
   ]
  },
  {
   "cell_type": "markdown",
   "metadata": {
    "id": "ile-prp6f_2T"
   },
   "source": [
    "## Feature Selection"
   ]
  },
  {
   "cell_type": "code",
   "execution_count": 55,
   "metadata": {
    "colab": {
     "base_uri": "https://localhost:8080/"
    },
    "id": "oHHhvqyFQzE1",
    "outputId": "0af1441d-888c-43b5-f9fd-d340d7347f73"
   },
   "outputs": [
    {
     "name": "stdout",
     "output_type": "stream",
     "text": [
      "Index(['budget', 'viewercount', 'runtime', 'tagline', 'vote_count', 'year',\n",
      "       'Documentary', 'War', 'Music', 'Science Fiction', 'Action', 'Animation',\n",
      "       'TV Movie', 'Crime', 'Drama', 'Horror', 'Comedy',\n",
      "       'Happy Madison Productions', 'TSG Entertainment', 'Film4',\n",
      "       'Summit Entertainment', 'Original Film', 'Canal+',\n",
      "       'DreamWorks Animation', 'StudioCanal', 'Regency Enterprises',\n",
      "       'BBC Films', 'Spyglass Entertainment', 'UK Film Council',\n",
      "       'The Weinstein Company', 'Castle Rock Entertainment', 'United Artists',\n",
      "       'Paramount Pictures', 'TriStar Pictures', 'MTV Films',\n",
      "       'Dimension Films', 'Working Title Films', 'Ingenious Film Partners',\n",
      "       'Columbia Pictures Corporation', 'New Regency Pictures',\n",
      "       'Walt Disney Pictures', 'NPV Entertainment', 'Silver Pictures',\n",
      "       'Lionsgate', 'Davis Entertainment', 'Fox Searchlight Pictures',\n",
      "       'Morgan Creek Productions', 'Warner Bros.', 'Hollywood Pictures',\n",
      "       'Scott Free Productions', 'Millennium Films', 'Scott Rudin Productions',\n",
      "       'Metro-Goldwyn-Mayer (MGM)', 'Spain', 'Ireland', 'New Zealand', 'India',\n",
      "       'Belgium', 'Italy', 'Hong Kong', 'Hungary', 'United States of America',\n",
      "       'South Korea', 'Russia', 'Japan', 'South Africa', 'J.K. Simmons',\n",
      "       'Bill Murray', 'Bruce Willis', 'Morgan Freeman', 'Anthony Hopkins',\n",
      "       'Philip Seymour Hoffman', 'Jack Black', 'Nicolas Cage', 'Meryl Streep',\n",
      "       'Stanley Tucci', 'Paul Giamatti', 'Matt Damon', 'Samuel L. Jackson',\n",
      "       'Robert De Niro'],\n",
      "      dtype='object')\n"
     ]
    }
   ],
   "source": [
    "from sklearn.feature_selection import RFE\n",
    "from sklearn.linear_model import LogisticRegression\n",
    "\n",
    "# X is the feature matrix and y is the target variable\n",
    "# Create a logistic regression object\n",
    "lr = LogisticRegression()\n",
    "\n",
    "# Create the RFE object and select 10 features\n",
    "rfe = RFE(lr, n_features_to_select=80)\n",
    "\n",
    "# Fit the RFE object to the data\n",
    "rfe.fit(x_train, y_train)\n",
    "\n",
    "# Print the selected features\n",
    "print(x_train.columns[rfe.support_])"
   ]
  },
  {
   "cell_type": "code",
   "execution_count": 56,
   "metadata": {
    "id": "9SYgJuFlQzE2"
   },
   "outputs": [],
   "source": [
    "filterd_Cols = x_train.columns[rfe.support_]\n",
    "pickle.dump(filterd_Cols, open(\"filterd_Cols.pkl\", \"wb\"))"
   ]
  },
  {
   "cell_type": "code",
   "execution_count": 57,
   "metadata": {
    "id": "LrYR8KfGQzE4"
   },
   "outputs": [],
   "source": [
    "x_train = x_train[filterd_Cols]\n",
    "\n",
    "x_test = x_test[filterd_Cols]"
   ]
  },
  {
   "cell_type": "code",
   "execution_count": 58,
   "metadata": {
    "colab": {
     "base_uri": "https://localhost:8080/"
    },
    "id": "cyTTn2wIQzE4",
    "outputId": "744f32c7-444d-4e33-ec24-53d6e734a53e"
   },
   "outputs": [
    {
     "name": "stdout",
     "output_type": "stream",
     "text": [
      "shape of train data after selection is  (2425, 80)\n"
     ]
    }
   ],
   "source": [
    "print(\"shape of train data after selection is \",x_train.shape)"
   ]
  },
  {
   "cell_type": "code",
   "execution_count": 59,
   "metadata": {
    "colab": {
     "base_uri": "https://localhost:8080/"
    },
    "id": "KaqNLBs3QzE5",
    "outputId": "c360f83f-890c-4da0-b6d4-2ad0de99679a"
   },
   "outputs": [
    {
     "name": "stdout",
     "output_type": "stream",
     "text": [
      "shape of test data after selection is  (607, 80)\n"
     ]
    }
   ],
   "source": [
    "print(\"shape of test data after selection is \",x_test.shape)"
   ]
  },
  {
   "cell_type": "code",
   "execution_count": 60,
   "metadata": {},
   "outputs": [],
   "source": [
    "def show_matrix(ax, y, y_pred):\n",
    "    cm = confusion_matrix(y, y_pred)\n",
    "\n",
    "    fig = ax.figure\n",
    "    fig.set_size_inches(50, 20)  # Set the width to 10 inches and height to 6 inches\n",
    "\n",
    "    # Create the heatmap using seaborn\n",
    "    sns.heatmap(cm, annot=True, cmap='Blues', ax=ax)"
   ]
  },
  {
   "cell_type": "code",
   "execution_count": 61,
   "metadata": {},
   "outputs": [],
   "source": [
    "# find the training accurracy\n",
    "def model_prediction(model,data,y,_type,model_name):\n",
    "    y_pred = model.predict(data)\n",
    "    accuracy = accuracy_score(y, y_pred)\n",
    "    print(f\"{_type} Accuracy of {model_name}:\", accuracy)"
   ]
  },
  {
   "cell_type": "code",
   "execution_count": 62,
   "metadata": {},
   "outputs": [],
   "source": [
    "# find the test accurracy\n",
    "def predictWithMatrix(model,data,y,_type,model_name):\n",
    "    \n",
    "    start_test_time = time.time()\n",
    "    y_pred = model.predict(data)\n",
    "    end_test_time = time.time()\n",
    "    \n",
    "    accuracy = accuracy_score(y, y_pred)\n",
    "    \n",
    "    print(f\"{_type} Accuracy of {model_name}:\", accuracy)\n",
    "    total_test_time = end_test_time - start_test_time\n",
    "    \n",
    "    print(\"Test time:\", total_test_time, \"seconds\")\n",
    "    \n",
    "    \n",
    "    show_matrix(ax[0], y, y_pred)\n",
    "    ax[0].set_title('Confusion Matrix')\n",
    "    \n",
    "    # Plot bar graphs for accuracy, training time, and testing time\n",
    "    \n",
    "    ax[1].bar([f\"Test accuracy of {model_name}\"], [accuracy], color=[\"blue\"])\n",
    "    ax[1].set_title('Classification accuracy')\n",
    "    ax[1].set_ylim([0.0, 1])\n",
    "    ax[1].set_yticks(np.arange(0, 1, step=0.05))\n",
    "    \n",
    "    ax[2].bar([\"Total Testing Time\"], [total_test_time], color=[\"#CD5C5C\"])\n",
    "    ax[2].set_title('Test Time')\n",
    "    ax[2].set_ylim([0.0, 1])\n",
    "    ax[2].set_yticks(np.arange(0, 1, step=0.05))\n",
    "    "
   ]
  },
  {
   "cell_type": "markdown",
   "metadata": {
    "id": "30b1UKwlQzE6"
   },
   "source": [
    "# Classification Models"
   ]
  },
  {
   "cell_type": "markdown",
   "metadata": {
    "id": "rFjk5m1KO-b7"
   },
   "source": [
    "### Obtaining the best parameters for the model based on the accuracy"
   ]
  },
  {
   "cell_type": "code",
   "execution_count": 63,
   "metadata": {
    "id": "tj4d-cE1PF5X"
   },
   "outputs": [],
   "source": [
    "# That class is obtaining the best parameters for the model based on the accuracy\n",
    "import itertools\n",
    "class HyperTuning:\n",
    "\n",
    "    params_obtained = []\n",
    "    params_accuracies = []\n",
    "    df_params_acc = pd.DataFrame()\n",
    "    best_params = []\n",
    "    \n",
    "    def __init__(self):\n",
    "        self.df_params_acc.drop(index=self.df_params_acc.index, inplace=True, errors='ignore')\n",
    "        self.params_accuracies.clear()\n",
    "        self.params_obtained.clear()\n",
    "        self.best_params.clear()\n",
    "    \n",
    "    def search(self, model, params, x_train, y_train, x_test, y_test):\n",
    "        # Getting the combinations of parameters\n",
    "        for combination in itertools.product(*params.values()):\n",
    "            test_params = dict()\n",
    "            for i, key in enumerate(params):\n",
    "                test_params[key] = combination[i]\n",
    "            \n",
    "            self.params_obtained.append(test_params)\n",
    "            \n",
    "            # Now, lest's see its accuracy on the model\n",
    "            model = type(model)(**test_params)\n",
    "            model.fit(x_train, y_train)\n",
    "            y_pred = model.predict(x_test)\n",
    "            accuracy = accuracy_score(y_test, y_pred)\n",
    "            self.params_accuracies.append(accuracy)\n",
    "\n",
    "        \n",
    "        \n",
    "        self.df_params_acc['accuracy'] = self.params_accuracies\n",
    "        self.df_params_acc['params'] = self.params_obtained\n",
    "        \n",
    "        # Then, let's search\n",
    "        self.best_params = self.df_params_acc.loc[self.df_params_acc['accuracy'].idxmax(), 'params']\n",
    "        return self.best_params\n",
    "    \n",
    "    def print_params_results(self):\n",
    "        for i, row in self.df_params_acc.iterrows():\n",
    "            print(f'accuracy: {row[\"accuracy\"]}' + ' Params: ' + str(row['params']))"
   ]
  },
  {
   "cell_type": "markdown",
   "metadata": {},
   "source": [
    "# -+-+-+-+-+-+-+-+-+-+-+-+-+-+-+-+-+-+-+-+-+-+-+-+-+-+-+-+-+-+-+-+-+-++-+-+-+-+-"
   ]
  },
  {
   "cell_type": "markdown",
   "metadata": {
    "id": "twVQr5fcEtyN"
   },
   "source": [
    "# SVM after hyperparameter tuning"
   ]
  },
  {
   "cell_type": "code",
   "execution_count": 64,
   "metadata": {
    "colab": {
     "base_uri": "https://localhost:8080/"
    },
    "id": "QojLcylZPGDD",
    "outputId": "d87c611d-9b26-453c-d0c7-491ce2340a8f",
    "scrolled": false
   },
   "outputs": [
    {
     "name": "stdout",
     "output_type": "stream",
     "text": [
      "Train time: 0.7230446338653564 seconds\n",
      "train Accuracy of svm: 0.8065979381443299\n",
      "test Accuracy of svm: 0.7611202635914333\n",
      "Test time: 0.34955310821533203 seconds\n"
     ]
    },
    {
     "data": {
      "image/png": "[encoded data removed]",
      "text/plain": [
       "<Figure size 3600x1440 with 5 Axes>"
      ]
     },
     "metadata": {},
     "output_type": "display_data"
    },
    {
     "name": "stdout",
     "output_type": "stream",
     "text": [
      "accuracy: 0.7215815485996705 Params: {'kernel': 'linear', 'C': 1, 'gamma': 'scale'}\n",
      "accuracy: 0.7215815485996705 Params: {'kernel': 'linear', 'C': 1, 'gamma': 'auto'}\n",
      "accuracy: 0.7199341021416804 Params: {'kernel': 'linear', 'C': 1.5, 'gamma': 'scale'}\n",
      "accuracy: 0.7199341021416804 Params: {'kernel': 'linear', 'C': 1.5, 'gamma': 'auto'}\n",
      "accuracy: 0.7166392092257001 Params: {'kernel': 'linear', 'C': 2.0, 'gamma': 'scale'}\n",
      "accuracy: 0.7166392092257001 Params: {'kernel': 'linear', 'C': 2.0, 'gamma': 'auto'}\n",
      "accuracy: 0.71499176276771 Params: {'kernel': 'linear', 'C': 2.2, 'gamma': 'scale'}\n",
      "accuracy: 0.71499176276771 Params: {'kernel': 'linear', 'C': 2.2, 'gamma': 'auto'}\n",
      "accuracy: 0.71499176276771 Params: {'kernel': 'linear', 'C': 2.4, 'gamma': 'scale'}\n",
      "accuracy: 0.71499176276771 Params: {'kernel': 'linear', 'C': 2.4, 'gamma': 'auto'}\n",
      "accuracy: 0.71499176276771 Params: {'kernel': 'linear', 'C': 2.6, 'gamma': 'scale'}\n",
      "accuracy: 0.71499176276771 Params: {'kernel': 'linear', 'C': 2.6, 'gamma': 'auto'}\n",
      "accuracy: 0.71499176276771 Params: {'kernel': 'linear', 'C': 2.8, 'gamma': 'scale'}\n",
      "accuracy: 0.71499176276771 Params: {'kernel': 'linear', 'C': 2.8, 'gamma': 'auto'}\n",
      "accuracy: 0.7512355848434926 Params: {'kernel': 'rbf', 'C': 1, 'gamma': 'scale'}\n",
      "accuracy: 0.7232289950576606 Params: {'kernel': 'rbf', 'C': 1, 'gamma': 'auto'}\n",
      "accuracy: 0.7594728171334432 Params: {'kernel': 'rbf', 'C': 1.5, 'gamma': 'scale'}\n",
      "accuracy: 0.729818780889621 Params: {'kernel': 'rbf', 'C': 1.5, 'gamma': 'auto'}\n",
      "accuracy: 0.7611202635914333 Params: {'kernel': 'rbf', 'C': 2.0, 'gamma': 'scale'}\n",
      "accuracy: 0.729818780889621 Params: {'kernel': 'rbf', 'C': 2.0, 'gamma': 'auto'}\n",
      "accuracy: 0.7578253706754531 Params: {'kernel': 'rbf', 'C': 2.2, 'gamma': 'scale'}\n",
      "accuracy: 0.729818780889621 Params: {'kernel': 'rbf', 'C': 2.2, 'gamma': 'auto'}\n",
      "accuracy: 0.7578253706754531 Params: {'kernel': 'rbf', 'C': 2.4, 'gamma': 'scale'}\n",
      "accuracy: 0.728171334431631 Params: {'kernel': 'rbf', 'C': 2.4, 'gamma': 'auto'}\n",
      "accuracy: 0.7561779242174629 Params: {'kernel': 'rbf', 'C': 2.6, 'gamma': 'scale'}\n",
      "accuracy: 0.7331136738056013 Params: {'kernel': 'rbf', 'C': 2.6, 'gamma': 'auto'}\n",
      "accuracy: 0.7611202635914333 Params: {'kernel': 'rbf', 'C': 2.8, 'gamma': 'scale'}\n",
      "accuracy: 0.7364085667215815 Params: {'kernel': 'rbf', 'C': 2.8, 'gamma': 'auto'}\n",
      "accuracy: 0.7166392092257001 Params: {'kernel': 'poly', 'C': 1, 'gamma': 'scale'}\n",
      "accuracy: 0.6210873146622735 Params: {'kernel': 'poly', 'C': 1, 'gamma': 'auto'}\n",
      "accuracy: 0.7215815485996705 Params: {'kernel': 'poly', 'C': 1.5, 'gamma': 'scale'}\n",
      "accuracy: 0.6210873146622735 Params: {'kernel': 'poly', 'C': 1.5, 'gamma': 'auto'}\n",
      "accuracy: 0.7331136738056013 Params: {'kernel': 'poly', 'C': 2.0, 'gamma': 'scale'}\n",
      "accuracy: 0.6293245469522241 Params: {'kernel': 'poly', 'C': 2.0, 'gamma': 'auto'}\n",
      "accuracy: 0.729818780889621 Params: {'kernel': 'poly', 'C': 2.2, 'gamma': 'scale'}\n",
      "accuracy: 0.6326194398682042 Params: {'kernel': 'poly', 'C': 2.2, 'gamma': 'auto'}\n",
      "accuracy: 0.7331136738056013 Params: {'kernel': 'poly', 'C': 2.4, 'gamma': 'scale'}\n",
      "accuracy: 0.6342668863261944 Params: {'kernel': 'poly', 'C': 2.4, 'gamma': 'auto'}\n",
      "accuracy: 0.7265238879736409 Params: {'kernel': 'poly', 'C': 2.6, 'gamma': 'scale'}\n",
      "accuracy: 0.6375617792421746 Params: {'kernel': 'poly', 'C': 2.6, 'gamma': 'auto'}\n",
      "accuracy: 0.7314662273476112 Params: {'kernel': 'poly', 'C': 2.8, 'gamma': 'scale'}\n",
      "accuracy: 0.6490939044481054 Params: {'kernel': 'poly', 'C': 2.8, 'gamma': 'auto'}\n",
      "accuracy: 0.5848434925864909 Params: {'kernel': 'sigmoid', 'C': 1, 'gamma': 'scale'}\n",
      "accuracy: 0.71334431630972 Params: {'kernel': 'sigmoid', 'C': 1, 'gamma': 'auto'}\n",
      "accuracy: 0.5799011532125206 Params: {'kernel': 'sigmoid', 'C': 1.5, 'gamma': 'scale'}\n",
      "accuracy: 0.7215815485996705 Params: {'kernel': 'sigmoid', 'C': 1.5, 'gamma': 'auto'}\n",
      "accuracy: 0.5782537067545305 Params: {'kernel': 'sigmoid', 'C': 2.0, 'gamma': 'scale'}\n",
      "accuracy: 0.7232289950576606 Params: {'kernel': 'sigmoid', 'C': 2.0, 'gamma': 'auto'}\n",
      "accuracy: 0.57166392092257 Params: {'kernel': 'sigmoid', 'C': 2.2, 'gamma': 'scale'}\n",
      "accuracy: 0.7248764415156508 Params: {'kernel': 'sigmoid', 'C': 2.2, 'gamma': 'auto'}\n",
      "accuracy: 0.5733113673805601 Params: {'kernel': 'sigmoid', 'C': 2.4, 'gamma': 'scale'}\n",
      "accuracy: 0.7265238879736409 Params: {'kernel': 'sigmoid', 'C': 2.4, 'gamma': 'auto'}\n",
      "accuracy: 0.57166392092257 Params: {'kernel': 'sigmoid', 'C': 2.6, 'gamma': 'scale'}\n",
      "accuracy: 0.7265238879736409 Params: {'kernel': 'sigmoid', 'C': 2.6, 'gamma': 'auto'}\n",
      "accuracy: 0.57166392092257 Params: {'kernel': 'sigmoid', 'C': 2.8, 'gamma': 'scale'}\n",
      "accuracy: 0.729818780889621 Params: {'kernel': 'sigmoid', 'C': 2.8, 'gamma': 'auto'}\n"
     ]
    }
   ],
   "source": [
    "from sklearn.svm import SVC\n",
    "from sklearn.metrics import accuracy_score\n",
    "from sklearn.ensemble import BaggingClassifier\n",
    "import time\n",
    "import numpy as np\n",
    "import matplotlib.pyplot as plt\n",
    "\n",
    "param_grid = { 'kernel': ['linear', 'rbf', 'poly', 'sigmoid'], 'C': [1, 1.5, 2.0, 2.2, 2.4, 2.6,2.8], 'gamma': ['scale','auto'] }\n",
    "\n",
    "svm_model = SVC()\n",
    "tuning = HyperTuning()\n",
    "best_params = tuning.search(svm_model, param_grid, x_train, y_train, x_test, y_test)\n",
    "\n",
    "svm_model = SVC(**best_params)\n",
    "\n",
    "\n",
    "# Record start time of training\n",
    "start_train_time = time.time()\n",
    "\n",
    "# Train the model\n",
    "svm_model.fit(x_train, y_train)\n",
    "\n",
    "# Record end time of training\n",
    "end_train_time = time.time()\n",
    "\n",
    "\n",
    "# Calculate total training time and total test time\n",
    "total_train_time = end_train_time - start_train_time\n",
    "print(\"Train time:\", total_train_time, \"seconds\")\n",
    "\n",
    "\n",
    "\n",
    "fig, ax = plt.subplots(1, 4, figsize=(16,6))\n",
    "\n",
    "# find the training accurracy\n",
    "model_prediction(svm_model,x_train,y_train,\"train\",\"svm\")\n",
    "# find the test accurracy\n",
    "predictWithMatrix(svm_model,x_test,y_test,\"test\",\"svm\")\n",
    "\n",
    "\n",
    "# Plot bar graphs for accuracy, training time, and testing time\n",
    "ax[3].bar([\"Total Testing Time\"], [total_train_time], color=[\"#ADD8E6\"])\n",
    "ax[3].set_title('Train Time')\n",
    "ax[3].set_ylim([0.0, 1])\n",
    "ax[3].set_yticks(np.arange(0, 1, step=0.05))\n",
    "\n",
    "plt.subplots_adjust(wspace=1.4)\n",
    "plt.show()\n",
    "\n",
    "\n",
    "# tuning.print_max_row()\n",
    "tuning.print_params_results()"
   ]
  },
  {
   "cell_type": "markdown",
   "metadata": {
    "id": "DvT-YOUFEzmE"
   },
   "source": [
    "# Logistic Regression after hyperparameter tuning "
   ]
  },
  {
   "cell_type": "code",
   "execution_count": 65,
   "metadata": {
    "colab": {
     "base_uri": "https://localhost:8080/",
     "height": 486
    },
    "id": "nPwMzJASE3At",
    "outputId": "07f9ba6e-9033-44e6-8171-02522c207256"
   },
   "outputs": [
    {
     "name": "stdout",
     "output_type": "stream",
     "text": [
      "Total training time: 0.20609807968139648 seconds\n",
      "test Accuracy of logistic Regression: 0.742998352553542\n",
      "Test time: 0.006949424743652344 seconds\n",
      "train Accuracy of logistic Regression: 0.7364948453608248\n"
     ]
    },
    {
     "data": {
      "image/png": "[encoded data removed]",
      "text/plain": [
       "<Figure size 3600x1440 with 5 Axes>"
      ]
     },
     "metadata": {},
     "output_type": "display_data"
    },
    {
     "name": "stdout",
     "output_type": "stream",
     "text": [
      "accuracy: 0.7331136738056013 Params: {'penalty': 'l2', 'C': 0.1, 'solver': 'lbfgs'}\n",
      "accuracy: 0.7347611202635914 Params: {'penalty': 'l2', 'C': 0.1, 'solver': 'liblinear'}\n",
      "accuracy: 0.7331136738056013 Params: {'penalty': 'l2', 'C': 0.1, 'solver': 'newton-cg'}\n",
      "accuracy: 0.7331136738056013 Params: {'penalty': 'l2', 'C': 0.1, 'solver': 'sag'}\n",
      "accuracy: 0.7331136738056013 Params: {'penalty': 'l2', 'C': 0.1, 'solver': 'saga'}\n",
      "accuracy: 0.6869851729818781 Params: {'penalty': 'l2', 'C': 0.001, 'solver': 'lbfgs'}\n",
      "accuracy: 0.6820428336079077 Params: {'penalty': 'l2', 'C': 0.001, 'solver': 'liblinear'}\n",
      "accuracy: 0.6869851729818781 Params: {'penalty': 'l2', 'C': 0.001, 'solver': 'newton-cg'}\n",
      "accuracy: 0.6869851729818781 Params: {'penalty': 'l2', 'C': 0.001, 'solver': 'sag'}\n",
      "accuracy: 0.6869851729818781 Params: {'penalty': 'l2', 'C': 0.001, 'solver': 'saga'}\n",
      "accuracy: 0.7331136738056013 Params: {'penalty': 'l2', 'C': 1.5, 'solver': 'lbfgs'}\n",
      "accuracy: 0.7331136738056013 Params: {'penalty': 'l2', 'C': 1.5, 'solver': 'liblinear'}\n",
      "accuracy: 0.7314662273476112 Params: {'penalty': 'l2', 'C': 1.5, 'solver': 'newton-cg'}\n",
      "accuracy: 0.7314662273476112 Params: {'penalty': 'l2', 'C': 1.5, 'solver': 'sag'}\n",
      "accuracy: 0.7314662273476112 Params: {'penalty': 'l2', 'C': 1.5, 'solver': 'saga'}\n",
      "accuracy: 0.7265238879736409 Params: {'penalty': 'l2', 'C': 1.3, 'solver': 'lbfgs'}\n",
      "accuracy: 0.7380560131795717 Params: {'penalty': 'l2', 'C': 1.3, 'solver': 'liblinear'}\n",
      "accuracy: 0.7265238879736409 Params: {'penalty': 'l2', 'C': 1.3, 'solver': 'newton-cg'}\n",
      "accuracy: 0.7265238879736409 Params: {'penalty': 'l2', 'C': 1.3, 'solver': 'sag'}\n",
      "accuracy: 0.7265238879736409 Params: {'penalty': 'l2', 'C': 1.3, 'solver': 'saga'}\n",
      "accuracy: 0.729818780889621 Params: {'penalty': 'l2', 'C': 1.4, 'solver': 'lbfgs'}\n",
      "accuracy: 0.7331136738056013 Params: {'penalty': 'l2', 'C': 1.4, 'solver': 'liblinear'}\n",
      "accuracy: 0.7314662273476112 Params: {'penalty': 'l2', 'C': 1.4, 'solver': 'newton-cg'}\n",
      "accuracy: 0.7314662273476112 Params: {'penalty': 'l2', 'C': 1.4, 'solver': 'sag'}\n",
      "accuracy: 0.7314662273476112 Params: {'penalty': 'l2', 'C': 1.4, 'solver': 'saga'}\n",
      "accuracy: 0.7265238879736409 Params: {'penalty': 'l2', 'C': 1.0, 'solver': 'lbfgs'}\n",
      "accuracy: 0.7380560131795717 Params: {'penalty': 'l2', 'C': 1.0, 'solver': 'liblinear'}\n",
      "accuracy: 0.7265238879736409 Params: {'penalty': 'l2', 'C': 1.0, 'solver': 'newton-cg'}\n",
      "accuracy: 0.7265238879736409 Params: {'penalty': 'l2', 'C': 1.0, 'solver': 'sag'}\n",
      "accuracy: 0.7265238879736409 Params: {'penalty': 'l2', 'C': 1.0, 'solver': 'saga'}\n",
      "accuracy: 0.729818780889621 Params: {'penalty': 'l2', 'C': 0.9, 'solver': 'lbfgs'}\n",
      "accuracy: 0.7380560131795717 Params: {'penalty': 'l2', 'C': 0.9, 'solver': 'liblinear'}\n",
      "accuracy: 0.729818780889621 Params: {'penalty': 'l2', 'C': 0.9, 'solver': 'newton-cg'}\n",
      "accuracy: 0.729818780889621 Params: {'penalty': 'l2', 'C': 0.9, 'solver': 'sag'}\n",
      "accuracy: 0.729818780889621 Params: {'penalty': 'l2', 'C': 0.9, 'solver': 'saga'}\n",
      "accuracy: 0.742998352553542 Params: {'penalty': 'l2', 'C': 0.2, 'solver': 'lbfgs'}\n",
      "accuracy: 0.7380560131795717 Params: {'penalty': 'l2', 'C': 0.2, 'solver': 'liblinear'}\n",
      "accuracy: 0.742998352553542 Params: {'penalty': 'l2', 'C': 0.2, 'solver': 'newton-cg'}\n",
      "accuracy: 0.742998352553542 Params: {'penalty': 'l2', 'C': 0.2, 'solver': 'sag'}\n",
      "accuracy: 0.742998352553542 Params: {'penalty': 'l2', 'C': 0.2, 'solver': 'saga'}\n",
      "accuracy: 0.7413509060955519 Params: {'penalty': 'l2', 'C': 0.3, 'solver': 'lbfgs'}\n",
      "accuracy: 0.7347611202635914 Params: {'penalty': 'l2', 'C': 0.3, 'solver': 'liblinear'}\n",
      "accuracy: 0.7413509060955519 Params: {'penalty': 'l2', 'C': 0.3, 'solver': 'newton-cg'}\n",
      "accuracy: 0.7413509060955519 Params: {'penalty': 'l2', 'C': 0.3, 'solver': 'sag'}\n",
      "accuracy: 0.7413509060955519 Params: {'penalty': 'l2', 'C': 0.3, 'solver': 'saga'}\n"
     ]
    }
   ],
   "source": [
    "import time\n",
    "import matplotlib.pyplot as plt\n",
    "from sklearn.model_selection import GridSearchCV\n",
    "from sklearn.linear_model import LogisticRegression\n",
    "from sklearn.metrics import accuracy_score\n",
    "\n",
    "# define models and parameters\n",
    "model = LogisticRegression()\n",
    "param_grid = {'penalty': ['l2'], 'C':[0.1,0.001,1.5,1.3,1.4,1.0,0.9,0.2,0.3], 'solver':['lbfgs', 'liblinear', 'newton-cg','sag', 'saga']}\n",
    "tuning = HyperTuning()\n",
    "\n",
    "\n",
    "# Search for best hyperparameters\n",
    "best_params = tuning.search(model, param_grid, x_train, y_train, x_test, y_test)\n",
    "\n",
    "# Train a new model with the best hyperparameters on the combined training and validation sets\n",
    "Logistic_Regression_Model = LogisticRegression(**best_params)\n",
    "\n",
    "# Record start time of training\n",
    "start_train_time = time.time()\n",
    "\n",
    "# Train the model\n",
    "Logistic_Regression_Model.fit(x_train, y_train)\n",
    "\n",
    "# Record end time of training\n",
    "end_train_time = time.time()\n",
    "\n",
    "\n",
    "# Calculate total training time and total test time\n",
    "total_train_time = end_train_time - start_train_time\n",
    "print(\"Total training time:\", total_train_time, \"seconds\")\n",
    "\n",
    "\n",
    "\n",
    "fig, ax = plt.subplots(1, 4, figsize=(16,6))\n",
    "\n",
    "# find the test accurracy\n",
    "predictWithMatrix(Logistic_Regression_Model,x_test,y_test,\"test\",\"logistic Regression\")\n",
    "# find the training accurracy\n",
    "model_prediction(Logistic_Regression_Model,x_train,y_train,\"train\",\"logistic Regression\")\n",
    "\n",
    "\n",
    "# Plot bar graphs for accuracy, training time, and testing time\n",
    "ax[3].bar([\"Total Train Time\"], [total_train_time], color=[\"#ADD8E6\"])\n",
    "ax[3].set_title('Train Time')\n",
    "ax[3].set_ylim([0.0, 1])\n",
    "ax[3].set_yticks(np.arange(0, 1, step=0.05))\n",
    "\n",
    "plt.subplots_adjust(wspace=1.4)\n",
    "plt.show()\n",
    "\n",
    "\n",
    "# tuning.print_max_row()\n",
    "tuning.print_params_results()"
   ]
  },
  {
   "cell_type": "markdown",
   "metadata": {
    "id": "inoff-8heKMm"
   },
   "source": [
    "# Gradient Boosting"
   ]
  },
  {
   "cell_type": "code",
   "execution_count": 66,
   "metadata": {
    "colab": {
     "base_uri": "https://localhost:8080/"
    },
    "id": "fTTCeBvSQzE9",
    "outputId": "668fc9b9-f6f5-4d0c-d02a-b7d7860a2027",
    "scrolled": false
   },
   "outputs": [
    {
     "name": "stdout",
     "output_type": "stream",
     "text": [
      "Train time: 1.240471601486206 seconds\n",
      "test Accuracy of Gradient_Boosting: 0.7495881383855024\n",
      "Test time: 0.012087821960449219 seconds\n",
      "train Accuracy of Gradient_Boosting: 0.7896907216494845\n"
     ]
    },
    {
     "data": {
      "image/png": "[encoded data removed]",
      "text/plain": [
       "<Figure size 3600x1440 with 5 Axes>"
      ]
     },
     "metadata": {},
     "output_type": "display_data"
    },
    {
     "name": "stdout",
     "output_type": "stream",
     "text": [
      "accuracy: 0.6820428336079077 Params: {'n_estimators': 40, 'max_depth': 1, 'learning_rate': 0.1}\n",
      "accuracy: 0.7018121911037891 Params: {'n_estimators': 40, 'max_depth': 1, 'learning_rate': 0.2}\n",
      "accuracy: 0.7232289950576606 Params: {'n_estimators': 40, 'max_depth': 1, 'learning_rate': 0.3}\n",
      "accuracy: 0.7018121911037891 Params: {'n_estimators': 40, 'max_depth': 2, 'learning_rate': 0.1}\n",
      "accuracy: 0.7199341021416804 Params: {'n_estimators': 40, 'max_depth': 2, 'learning_rate': 0.2}\n",
      "accuracy: 0.7446457990115322 Params: {'n_estimators': 40, 'max_depth': 2, 'learning_rate': 0.3}\n",
      "accuracy: 0.7265238879736409 Params: {'n_estimators': 40, 'max_depth': 3, 'learning_rate': 0.1}\n",
      "accuracy: 0.7314662273476112 Params: {'n_estimators': 40, 'max_depth': 3, 'learning_rate': 0.2}\n",
      "accuracy: 0.7397034596375618 Params: {'n_estimators': 40, 'max_depth': 3, 'learning_rate': 0.3}\n",
      "accuracy: 0.728171334431631 Params: {'n_estimators': 40, 'max_depth': 4, 'learning_rate': 0.1}\n",
      "accuracy: 0.7347611202635914 Params: {'n_estimators': 40, 'max_depth': 4, 'learning_rate': 0.2}\n",
      "accuracy: 0.7232289950576606 Params: {'n_estimators': 40, 'max_depth': 4, 'learning_rate': 0.3}\n",
      "accuracy: 0.7413509060955519 Params: {'n_estimators': 40, 'max_depth': 5, 'learning_rate': 0.1}\n",
      "accuracy: 0.7314662273476112 Params: {'n_estimators': 40, 'max_depth': 5, 'learning_rate': 0.2}\n",
      "accuracy: 0.742998352553542 Params: {'n_estimators': 40, 'max_depth': 5, 'learning_rate': 0.3}\n",
      "accuracy: 0.685337726523888 Params: {'n_estimators': 41, 'max_depth': 1, 'learning_rate': 0.1}\n",
      "accuracy: 0.7084019769357496 Params: {'n_estimators': 41, 'max_depth': 1, 'learning_rate': 0.2}\n",
      "accuracy: 0.729818780889621 Params: {'n_estimators': 41, 'max_depth': 1, 'learning_rate': 0.3}\n",
      "accuracy: 0.7051070840197694 Params: {'n_estimators': 41, 'max_depth': 2, 'learning_rate': 0.1}\n",
      "accuracy: 0.7215815485996705 Params: {'n_estimators': 41, 'max_depth': 2, 'learning_rate': 0.2}\n",
      "accuracy: 0.7446457990115322 Params: {'n_estimators': 41, 'max_depth': 2, 'learning_rate': 0.3}\n",
      "accuracy: 0.7265238879736409 Params: {'n_estimators': 41, 'max_depth': 3, 'learning_rate': 0.1}\n",
      "accuracy: 0.7314662273476112 Params: {'n_estimators': 41, 'max_depth': 3, 'learning_rate': 0.2}\n",
      "accuracy: 0.7364085667215815 Params: {'n_estimators': 41, 'max_depth': 3, 'learning_rate': 0.3}\n",
      "accuracy: 0.7331136738056013 Params: {'n_estimators': 41, 'max_depth': 4, 'learning_rate': 0.1}\n",
      "accuracy: 0.7364085667215815 Params: {'n_estimators': 41, 'max_depth': 4, 'learning_rate': 0.2}\n",
      "accuracy: 0.7446457990115322 Params: {'n_estimators': 41, 'max_depth': 4, 'learning_rate': 0.3}\n",
      "accuracy: 0.7232289950576606 Params: {'n_estimators': 41, 'max_depth': 5, 'learning_rate': 0.1}\n",
      "accuracy: 0.7347611202635914 Params: {'n_estimators': 41, 'max_depth': 5, 'learning_rate': 0.2}\n",
      "accuracy: 0.7413509060955519 Params: {'n_estimators': 41, 'max_depth': 5, 'learning_rate': 0.3}\n",
      "accuracy: 0.6836902800658978 Params: {'n_estimators': 42, 'max_depth': 1, 'learning_rate': 0.1}\n",
      "accuracy: 0.71334431630972 Params: {'n_estimators': 42, 'max_depth': 1, 'learning_rate': 0.2}\n",
      "accuracy: 0.7265238879736409 Params: {'n_estimators': 42, 'max_depth': 1, 'learning_rate': 0.3}\n",
      "accuracy: 0.7084019769357496 Params: {'n_estimators': 42, 'max_depth': 2, 'learning_rate': 0.1}\n",
      "accuracy: 0.7199341021416804 Params: {'n_estimators': 42, 'max_depth': 2, 'learning_rate': 0.2}\n",
      "accuracy: 0.7462932454695222 Params: {'n_estimators': 42, 'max_depth': 2, 'learning_rate': 0.3}\n",
      "accuracy: 0.7248764415156508 Params: {'n_estimators': 42, 'max_depth': 3, 'learning_rate': 0.1}\n",
      "accuracy: 0.7347611202635914 Params: {'n_estimators': 42, 'max_depth': 3, 'learning_rate': 0.2}\n",
      "accuracy: 0.7380560131795717 Params: {'n_estimators': 42, 'max_depth': 3, 'learning_rate': 0.3}\n",
      "accuracy: 0.728171334431631 Params: {'n_estimators': 42, 'max_depth': 4, 'learning_rate': 0.1}\n",
      "accuracy: 0.7413509060955519 Params: {'n_estimators': 42, 'max_depth': 4, 'learning_rate': 0.2}\n",
      "accuracy: 0.7331136738056013 Params: {'n_estimators': 42, 'max_depth': 4, 'learning_rate': 0.3}\n",
      "accuracy: 0.7232289950576606 Params: {'n_estimators': 42, 'max_depth': 5, 'learning_rate': 0.1}\n",
      "accuracy: 0.7265238879736409 Params: {'n_estimators': 42, 'max_depth': 5, 'learning_rate': 0.2}\n",
      "accuracy: 0.7331136738056013 Params: {'n_estimators': 42, 'max_depth': 5, 'learning_rate': 0.3}\n",
      "accuracy: 0.6803953871499177 Params: {'n_estimators': 43, 'max_depth': 1, 'learning_rate': 0.1}\n",
      "accuracy: 0.7116968698517299 Params: {'n_estimators': 43, 'max_depth': 1, 'learning_rate': 0.2}\n",
      "accuracy: 0.728171334431631 Params: {'n_estimators': 43, 'max_depth': 1, 'learning_rate': 0.3}\n",
      "accuracy: 0.7100494233937397 Params: {'n_estimators': 43, 'max_depth': 2, 'learning_rate': 0.1}\n",
      "accuracy: 0.7232289950576606 Params: {'n_estimators': 43, 'max_depth': 2, 'learning_rate': 0.2}\n",
      "accuracy: 0.7446457990115322 Params: {'n_estimators': 43, 'max_depth': 2, 'learning_rate': 0.3}\n",
      "accuracy: 0.7232289950576606 Params: {'n_estimators': 43, 'max_depth': 3, 'learning_rate': 0.1}\n",
      "accuracy: 0.7314662273476112 Params: {'n_estimators': 43, 'max_depth': 3, 'learning_rate': 0.2}\n",
      "accuracy: 0.7347611202635914 Params: {'n_estimators': 43, 'max_depth': 3, 'learning_rate': 0.3}\n",
      "accuracy: 0.728171334431631 Params: {'n_estimators': 43, 'max_depth': 4, 'learning_rate': 0.1}\n",
      "accuracy: 0.7380560131795717 Params: {'n_estimators': 43, 'max_depth': 4, 'learning_rate': 0.2}\n",
      "accuracy: 0.7314662273476112 Params: {'n_estimators': 43, 'max_depth': 4, 'learning_rate': 0.3}\n",
      "accuracy: 0.7380560131795717 Params: {'n_estimators': 43, 'max_depth': 5, 'learning_rate': 0.1}\n",
      "accuracy: 0.7347611202635914 Params: {'n_estimators': 43, 'max_depth': 5, 'learning_rate': 0.2}\n",
      "accuracy: 0.7331136738056013 Params: {'n_estimators': 43, 'max_depth': 5, 'learning_rate': 0.3}\n",
      "accuracy: 0.6803953871499177 Params: {'n_estimators': 44, 'max_depth': 1, 'learning_rate': 0.1}\n",
      "accuracy: 0.7100494233937397 Params: {'n_estimators': 44, 'max_depth': 1, 'learning_rate': 0.2}\n",
      "accuracy: 0.7314662273476112 Params: {'n_estimators': 44, 'max_depth': 1, 'learning_rate': 0.3}\n",
      "accuracy: 0.7051070840197694 Params: {'n_estimators': 44, 'max_depth': 2, 'learning_rate': 0.1}\n",
      "accuracy: 0.7182866556836903 Params: {'n_estimators': 44, 'max_depth': 2, 'learning_rate': 0.2}\n",
      "accuracy: 0.7495881383855024 Params: {'n_estimators': 44, 'max_depth': 2, 'learning_rate': 0.3}\n",
      "accuracy: 0.7265238879736409 Params: {'n_estimators': 44, 'max_depth': 3, 'learning_rate': 0.1}\n",
      "accuracy: 0.729818780889621 Params: {'n_estimators': 44, 'max_depth': 3, 'learning_rate': 0.2}\n",
      "accuracy: 0.7347611202635914 Params: {'n_estimators': 44, 'max_depth': 3, 'learning_rate': 0.3}\n",
      "accuracy: 0.7331136738056013 Params: {'n_estimators': 44, 'max_depth': 4, 'learning_rate': 0.1}\n",
      "accuracy: 0.7347611202635914 Params: {'n_estimators': 44, 'max_depth': 4, 'learning_rate': 0.2}\n",
      "accuracy: 0.728171334431631 Params: {'n_estimators': 44, 'max_depth': 4, 'learning_rate': 0.3}\n",
      "accuracy: 0.7479406919275123 Params: {'n_estimators': 44, 'max_depth': 5, 'learning_rate': 0.1}\n",
      "accuracy: 0.7331136738056013 Params: {'n_estimators': 44, 'max_depth': 5, 'learning_rate': 0.2}\n",
      "accuracy: 0.7265238879736409 Params: {'n_estimators': 44, 'max_depth': 5, 'learning_rate': 0.3}\n"
     ]
    }
   ],
   "source": [
    "from sklearn.ensemble import GradientBoostingClassifier\n",
    "from sklearn.metrics import accuracy_score\n",
    "import matplotlib.pyplot as plt\n",
    "import time\n",
    "\n",
    "# define models and parameters\n",
    "model = GradientBoostingClassifier()\n",
    "param_grid = {'n_estimators': [40,41,42,43,44], 'max_depth':[1,2,3,4,5], 'learning_rate':[0.1, 0.2,0.3]}\n",
    "\n",
    "tuning = HyperTuning()\n",
    "\n",
    "# Search for best hyperparameters\n",
    "best_params = tuning.search(model, param_grid, x_train, y_train, x_test, y_test)\n",
    "\n",
    "# Train a new model with the best hyperparameters on the combined training and validation sets\n",
    "Gradient_Boosting_model = GradientBoostingClassifier(**best_params)\n",
    "\n",
    "\n",
    "\n",
    "# Record start time of training\n",
    "start_train_time = time.time()\n",
    "\n",
    "# Train the model\n",
    "Gradient_Boosting_model.fit(x_train, y_train)\n",
    "\n",
    "# Record end time of training\n",
    "end_train_time = time.time()\n",
    "\n",
    "\n",
    "# Calculate total training time and total test time\n",
    "total_train_time = end_train_time - start_train_time\n",
    "print(\"Train time:\", total_train_time, \"seconds\")\n",
    "\n",
    "\n",
    "\n",
    "fig, ax = plt.subplots(1, 4, figsize=(16,6))\n",
    "\n",
    "# find the test accurracy\n",
    "predictWithMatrix(Gradient_Boosting_model,x_test,y_test,\"test\",\"Gradient_Boosting\")\n",
    "# find the training accurracy\n",
    "model_prediction(Gradient_Boosting_model,x_train,y_train,\"train\",\"Gradient_Boosting\")\n",
    "\n",
    "\n",
    "# Plot bar graphs for accuracy, training time, and testing time\n",
    "ax[3].bar([\"Total Training Time\"], [total_train_time], color=[\"#ADD8E6\"])\n",
    "ax[3].set_title('Train Time')\n",
    "ax[3].set_ylim([0.0, 1])\n",
    "ax[3].set_yticks(np.arange(0, 1, step=0.05))\n",
    "\n",
    "plt.subplots_adjust(wspace=1.4)\n",
    "plt.show()\n",
    "\n",
    "\n",
    "# tuning.print_max_row()\n",
    "tuning.print_params_results()"
   ]
  },
  {
   "cell_type": "markdown",
   "metadata": {
    "id": "iFyJED8G84lv"
   },
   "source": [
    "# Voting"
   ]
  },
  {
   "cell_type": "code",
   "execution_count": 67,
   "metadata": {
    "id": "c8yscz4P3hbI",
    "scrolled": false
   },
   "outputs": [
    {
     "name": "stdout",
     "output_type": "stream",
     "text": [
      "Train time: 2.2359619140625 seconds\n",
      "test Accuracy of Voting: 0.7561779242174629\n",
      "Test time: 2.0628135204315186 seconds\n",
      "train Accuracy of Voting: 0.777319587628866\n"
     ]
    },
    {
     "data": {
      "image/png": "[encoded data removed]",
      "text/plain": [
       "<Figure size 3600x1440 with 5 Axes>"
      ]
     },
     "metadata": {},
     "output_type": "display_data"
    }
   ],
   "source": [
    "from sklearn.ensemble import VotingClassifier\n",
    "\n",
    "ensemble = VotingClassifier(estimators=[('svm', svm_model),('lr', Logistic_Regression_Model), ('gb', Gradient_Boosting_model)], voting='hard')\n",
    "#ensemble = VotingClassifier(estimators=[('lr', lr),('svm', svm_model), ('nb', random_forest_model), ('dt', Gradient_Boosting_model),  ('nc', Linear_Discriminant_model)], voting='hard')\n",
    "\n",
    "\n",
    "\n",
    "# Record start time of training\n",
    "start_train_time = time.time()\n",
    "\n",
    "# Train the model\n",
    "ensemble.fit(x_train, y_train)\n",
    "\n",
    "# Record end time of training\n",
    "end_train_time = time.time()\n",
    "\n",
    "\n",
    "# Calculate total training time and total test time\n",
    "total_train_time = end_train_time - start_train_time\n",
    "print(\"Train time:\", total_train_time, \"seconds\")\n",
    "\n",
    "\n",
    "\n",
    "fig, ax = plt.subplots(1, 4, figsize=(16,6))\n",
    "\n",
    "# find the test accurracy\n",
    "predictWithMatrix(ensemble,x_test,y_test,\"test\",\"Voting\")\n",
    "# find the training accurracy\n",
    "model_prediction(ensemble,x_train,y_train,\"train\",\"Voting\")\n",
    "\n",
    "\n",
    "# Plot bar graphs for accuracy, training time, and testing time\n",
    "ax[3].bar([\"Total Training Time\"], [total_train_time], color=[\"#ADD8E6\"])\n",
    "ax[3].set_title('Train Time')\n",
    "ax[3].set_ylim([0.0, 1])\n",
    "ax[3].set_yticks(np.arange(0, 1, step=0.05))\n",
    "\n",
    "plt.subplots_adjust(wspace=1.4)\n",
    "plt.show()"
   ]
  },
  {
   "cell_type": "markdown",
   "metadata": {},
   "source": []
  }
 ],
 "metadata": {
  "colab": {
   "provenance": []
  },
  "kernelspec": {
   "display_name": "Python 3 (ipykernel)",
   "language": "python",
   "name": "python3"
  },
  "language_info": {
   "codemirror_mode": {
    "name": "ipython",
    "version": 3
   },
   "file_extension": ".py",
   "mimetype": "text/x-python",
   "name": "python",
   "nbconvert_exporter": "python",
   "pygments_lexer": "ipython3",
   "version": "3.9.7"
  }
 },
 "nbformat": 4,
 "nbformat_minor": 1
}
