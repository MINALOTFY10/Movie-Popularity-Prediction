{
 "cells": [
  {
   "cell_type": "code",
   "execution_count": 1,
   "id": "14ae09a8",
   "metadata": {},
   "outputs": [
    {
     "name": "stderr",
     "output_type": "stream",
     "text": [
      "[nltk_data] Downloading package punkt to\n",
      "[nltk_data]     C:\\Users\\hp\\AppData\\Roaming\\nltk_data...\n",
      "[nltk_data]   Package punkt is already up-to-date!\n",
      "[nltk_data] Downloading package stopwords to\n",
      "[nltk_data]     C:\\Users\\hp\\AppData\\Roaming\\nltk_data...\n",
      "[nltk_data]   Package stopwords is already up-to-date!\n",
      "[nltk_data] Downloading package wordnet to\n",
      "[nltk_data]     C:\\Users\\hp\\AppData\\Roaming\\nltk_data...\n",
      "[nltk_data]   Package wordnet is already up-to-date!\n"
     ]
    },
    {
     "data": {
      "text/plain": [
       "True"
      ]
     },
     "execution_count": 1,
     "metadata": {},
     "output_type": "execute_result"
    }
   ],
   "source": [
    "import os\n",
    "import ast\n",
    "import json\n",
    "import nltk\n",
    "import string\n",
    "import gensim\n",
    "import pickle\n",
    "import statistics\n",
    "import numpy as np\n",
    "import pandas as pd\n",
    "import seaborn as sns\n",
    "from scipy import stats\n",
    "from sklearn.svm import SVR\n",
    "from textblob import TextBlob\n",
    "import matplotlib.pyplot as plt\n",
    "from sklearn import preprocessing\n",
    "from nltk.corpus import stopwords\n",
    "from gensim.models import Word2Vec\n",
    "from sklearn.linear_model import Ridge\n",
    "from nltk.tokenize import word_tokenize\n",
    "from nltk.stem import WordNetLemmatizer\n",
    "from scipy.stats.mstats import winsorize\n",
    "import sklearn.feature_extraction.text as text\n",
    "from sklearn.preprocessing import OneHotEncoder\n",
    "from sklearn.preprocessing import OrdinalEncoder\n",
    "from sklearn.preprocessing import OrdinalEncoder\n",
    "from sklearn.metrics import accuracy_score\n",
    "from collections import Counter\n",
    "from sklearn.linear_model import LinearRegression\n",
    "from sklearn.ensemble import RandomForestRegressor\n",
    "from nltk.stem import SnowballStemmer,PorterStemmer\n",
    "from sklearn.model_selection import  GridSearchCV, train_test_split\n",
    "from sklearn.feature_extraction.text import CountVectorizer,TfidfVectorizer\n",
    "from sklearn.preprocessing import MinMaxScaler, StandardScaler, PolynomialFeatures\n",
    "import seaborn as sns\n",
    "from sklearn.metrics import confusion_matrix\n",
    "from sklearn.metrics import mean_squared_error, r2_score, confusion_matrix, classification_report, f1_score\n",
    "import warnings\n",
    "warnings.simplefilter(\"ignore\")\n",
    "# Download required resources (only needed once)\n",
    "nltk.download('punkt')\n",
    "nltk.download('stopwords')\n",
    "nltk.download('wordnet')"
   ]
  },
  {
   "cell_type": "markdown",
   "id": "2abbebfd",
   "metadata": {},
   "source": [
    "## Test Data Preprocessing"
   ]
  },
  {
   "cell_type": "markdown",
   "id": "ebd20bca",
   "metadata": {},
   "source": [
    "### Data Gathering and merge"
   ]
  },
  {
   "cell_type": "code",
   "execution_count": 2,
   "id": "74123445",
   "metadata": {},
   "outputs": [],
   "source": [
    "test_data = pd.read_csv(\"movies-classification-dataset.csv\");"
   ]
  },
  {
   "cell_type": "code",
   "execution_count": 3,
   "id": "8b469587",
   "metadata": {},
   "outputs": [],
   "source": [
    "credits = pd.read_csv(\"movies-credit-students-train.csv\");"
   ]
  },
  {
   "cell_type": "code",
   "execution_count": 4,
   "id": "97d612d1",
   "metadata": {},
   "outputs": [],
   "source": [
    "credits.rename(columns = {'movie_id':'id'}, inplace = True)"
   ]
  },
  {
   "cell_type": "code",
   "execution_count": 5,
   "id": "04d48d10",
   "metadata": {},
   "outputs": [],
   "source": [
    "test_data = test_data.merge(credits,on='id')"
   ]
  },
  {
   "cell_type": "code",
   "execution_count": 6,
   "id": "3108ddff",
   "metadata": {},
   "outputs": [],
   "source": [
    "test_data.drop(columns=['id','title_x'],inplace=True)\n",
    "test_data.rename(columns={'title_y':'title'},inplace=True)\n",
    "test_data.drop(columns=['overview','homepage','status'],inplace=True)"
   ]
  },
  {
   "cell_type": "code",
   "execution_count": 7,
   "id": "8c3c343f",
   "metadata": {},
   "outputs": [],
   "source": [
    "Y = test_data['Rate']\n",
    "test_data = test_data.drop(axis=1, columns=['Rate'])"
   ]
  },
  {
   "cell_type": "code",
   "execution_count": 8,
   "id": "8b78b96d",
   "metadata": {},
   "outputs": [
    {
     "data": {
      "text/html": [
       "<div>\n",
       "<style scoped>\n",
       "    .dataframe tbody tr th:only-of-type {\n",
       "        vertical-align: middle;\n",
       "    }\n",
       "\n",
       "    .dataframe tbody tr th {\n",
       "        vertical-align: top;\n",
       "    }\n",
       "\n",
       "    .dataframe thead th {\n",
       "        text-align: right;\n",
       "    }\n",
       "</style>\n",
       "<table border=\"1\" class=\"dataframe\">\n",
       "  <thead>\n",
       "    <tr style=\"text-align: right;\">\n",
       "      <th></th>\n",
       "      <th>budget</th>\n",
       "      <th>genres</th>\n",
       "      <th>keywords</th>\n",
       "      <th>original_language</th>\n",
       "      <th>original_title</th>\n",
       "      <th>viewercount</th>\n",
       "      <th>production_companies</th>\n",
       "      <th>production_countries</th>\n",
       "      <th>release_date</th>\n",
       "      <th>revenue</th>\n",
       "      <th>runtime</th>\n",
       "      <th>spoken_languages</th>\n",
       "      <th>tagline</th>\n",
       "      <th>vote_count</th>\n",
       "      <th>title</th>\n",
       "      <th>cast</th>\n",
       "      <th>crew</th>\n",
       "    </tr>\n",
       "  </thead>\n",
       "  <tbody>\n",
       "    <tr>\n",
       "      <th>0</th>\n",
       "      <td>25000000</td>\n",
       "      <td>[{\"id\": 18, \"name\": \"Drama\"}, {\"id\": 10749, \"n...</td>\n",
       "      <td>[{\"id\": 4328, \"name\": \"costume\"}, {\"id\": 4528,...</td>\n",
       "      <td>en</td>\n",
       "      <td>Mao's Last Dancer</td>\n",
       "      <td>1.876811</td>\n",
       "      <td>[{\"name\": \"Great Scott Productions Pty. Ltd.\",...</td>\n",
       "      <td>[{\"iso_3166_1\": \"AU\", \"name\": \"Australia\"}]</td>\n",
       "      <td>10/1/2009</td>\n",
       "      <td>20719451</td>\n",
       "      <td>117.0</td>\n",
       "      <td>[{\"iso_639_1\": \"en\", \"name\": \"English\"}, {\"iso...</td>\n",
       "      <td>最后的舞者</td>\n",
       "      <td>28</td>\n",
       "      <td>Mao's Last Dancer</td>\n",
       "      <td>[{\"cast_id\": 2, \"character\": \"Li Cunxin - adul...</td>\n",
       "      <td>[{\"credit_id\": \"52fe45419251416c9102c18d\", \"de...</td>\n",
       "    </tr>\n",
       "    <tr>\n",
       "      <th>1</th>\n",
       "      <td>38000000</td>\n",
       "      <td>[{\"id\": 878, \"name\": \"Science Fiction\"}, {\"id\"...</td>\n",
       "      <td>[{\"id\": 10988, \"name\": \"based on tv series\"}, ...</td>\n",
       "      <td>en</td>\n",
       "      <td>Star Trek: Generations</td>\n",
       "      <td>14.779041</td>\n",
       "      <td>[{\"name\": \"Paramount Pictures\", \"id\": 4}]</td>\n",
       "      <td>[{\"iso_3166_1\": \"US\", \"name\": \"United States o...</td>\n",
       "      <td>11/17/1994</td>\n",
       "      <td>120000000</td>\n",
       "      <td>118.0</td>\n",
       "      <td>[{\"iso_639_1\": \"en\", \"name\": \"English\"}]</td>\n",
       "      <td>Boldly go.</td>\n",
       "      <td>452</td>\n",
       "      <td>Star Trek: Generations</td>\n",
       "      <td>[{\"cast_id\": 5, \"character\": \"Captain Jean-Luc...</td>\n",
       "      <td>[{\"credit_id\": \"52fe4225c3a36847f8007717\", \"de...</td>\n",
       "    </tr>\n",
       "    <tr>\n",
       "      <th>2</th>\n",
       "      <td>20000000</td>\n",
       "      <td>[{\"id\": 36, \"name\": \"History\"}, {\"id\": 18, \"na...</td>\n",
       "      <td>[{\"id\": 237, \"name\": \"gay\"}, {\"id\": 582, \"name...</td>\n",
       "      <td>en</td>\n",
       "      <td>Milk</td>\n",
       "      <td>30.909699</td>\n",
       "      <td>[{\"name\": \"Focus Features\", \"id\": 10146}]</td>\n",
       "      <td>[{\"iso_3166_1\": \"US\", \"name\": \"United States o...</td>\n",
       "      <td>11/26/2008</td>\n",
       "      <td>54586584</td>\n",
       "      <td>128.0</td>\n",
       "      <td>[{\"iso_639_1\": \"en\", \"name\": \"English\"}]</td>\n",
       "      <td>Never Blend In.</td>\n",
       "      <td>612</td>\n",
       "      <td>Milk</td>\n",
       "      <td>[{\"cast_id\": 2, \"character\": \"Harvey Milk\", \"c...</td>\n",
       "      <td>[{\"credit_id\": \"52fe43339251416c7500756b\", \"de...</td>\n",
       "    </tr>\n",
       "    <tr>\n",
       "      <th>3</th>\n",
       "      <td>23000000</td>\n",
       "      <td>[{\"id\": 18, \"name\": \"Drama\"}, {\"id\": 10749, \"n...</td>\n",
       "      <td>[{\"id\": 212, \"name\": \"london england\"}, {\"id\":...</td>\n",
       "      <td>en</td>\n",
       "      <td>Vanity Fair</td>\n",
       "      <td>6.618149</td>\n",
       "      <td>[{\"name\": \"Alliance Films\", \"id\": 2514}, {\"nam...</td>\n",
       "      <td>[{\"iso_3166_1\": \"GB\", \"name\": \"United Kingdom\"...</td>\n",
       "      <td>9/1/2004</td>\n",
       "      <td>16123851</td>\n",
       "      <td>141.0</td>\n",
       "      <td>[{\"iso_639_1\": \"en\", \"name\": \"English\"}, {\"iso...</td>\n",
       "      <td>On September 1st, a heroine will rise.</td>\n",
       "      <td>73</td>\n",
       "      <td>Vanity Fair</td>\n",
       "      <td>[{\"cast_id\": 22, \"character\": \"Becky Sharp\", \"...</td>\n",
       "      <td>[{\"credit_id\": \"52fe446c9251416c75034365\", \"de...</td>\n",
       "    </tr>\n",
       "    <tr>\n",
       "      <th>4</th>\n",
       "      <td>52000000</td>\n",
       "      <td>[{\"id\": 28, \"name\": \"Action\"}, {\"id\": 80, \"nam...</td>\n",
       "      <td>[{\"id\": 90, \"name\": \"paris\"}, {\"id\": 591, \"nam...</td>\n",
       "      <td>en</td>\n",
       "      <td>From Paris with Love</td>\n",
       "      <td>27.916284</td>\n",
       "      <td>[{\"name\": \"Apipoula\\u00ef\", \"id\": 1076}, {\"nam...</td>\n",
       "      <td>[{\"iso_3166_1\": \"GB\", \"name\": \"United Kingdom\"...</td>\n",
       "      <td>2/5/2010</td>\n",
       "      <td>52826594</td>\n",
       "      <td>92.0</td>\n",
       "      <td>[{\"iso_639_1\": \"de\", \"name\": \"Deutsch\"}, {\"iso...</td>\n",
       "      <td>Two agents. One city. No merci.</td>\n",
       "      <td>675</td>\n",
       "      <td>From Paris with Love</td>\n",
       "      <td>[{\"cast_id\": 3, \"character\": \"Charlie Wax\", \"c...</td>\n",
       "      <td>[{\"credit_id\": \"5763f7b792514134cd00026b\", \"de...</td>\n",
       "    </tr>\n",
       "  </tbody>\n",
       "</table>\n",
       "</div>"
      ],
      "text/plain": [
       "     budget                                             genres  \\\n",
       "0  25000000  [{\"id\": 18, \"name\": \"Drama\"}, {\"id\": 10749, \"n...   \n",
       "1  38000000  [{\"id\": 878, \"name\": \"Science Fiction\"}, {\"id\"...   \n",
       "2  20000000  [{\"id\": 36, \"name\": \"History\"}, {\"id\": 18, \"na...   \n",
       "3  23000000  [{\"id\": 18, \"name\": \"Drama\"}, {\"id\": 10749, \"n...   \n",
       "4  52000000  [{\"id\": 28, \"name\": \"Action\"}, {\"id\": 80, \"nam...   \n",
       "\n",
       "                                            keywords original_language  \\\n",
       "0  [{\"id\": 4328, \"name\": \"costume\"}, {\"id\": 4528,...                en   \n",
       "1  [{\"id\": 10988, \"name\": \"based on tv series\"}, ...                en   \n",
       "2  [{\"id\": 237, \"name\": \"gay\"}, {\"id\": 582, \"name...                en   \n",
       "3  [{\"id\": 212, \"name\": \"london england\"}, {\"id\":...                en   \n",
       "4  [{\"id\": 90, \"name\": \"paris\"}, {\"id\": 591, \"nam...                en   \n",
       "\n",
       "           original_title  viewercount  \\\n",
       "0       Mao's Last Dancer     1.876811   \n",
       "1  Star Trek: Generations    14.779041   \n",
       "2                    Milk    30.909699   \n",
       "3             Vanity Fair     6.618149   \n",
       "4    From Paris with Love    27.916284   \n",
       "\n",
       "                                production_companies  \\\n",
       "0  [{\"name\": \"Great Scott Productions Pty. Ltd.\",...   \n",
       "1          [{\"name\": \"Paramount Pictures\", \"id\": 4}]   \n",
       "2          [{\"name\": \"Focus Features\", \"id\": 10146}]   \n",
       "3  [{\"name\": \"Alliance Films\", \"id\": 2514}, {\"nam...   \n",
       "4  [{\"name\": \"Apipoula\\u00ef\", \"id\": 1076}, {\"nam...   \n",
       "\n",
       "                                production_countries release_date    revenue  \\\n",
       "0        [{\"iso_3166_1\": \"AU\", \"name\": \"Australia\"}]    10/1/2009   20719451   \n",
       "1  [{\"iso_3166_1\": \"US\", \"name\": \"United States o...   11/17/1994  120000000   \n",
       "2  [{\"iso_3166_1\": \"US\", \"name\": \"United States o...   11/26/2008   54586584   \n",
       "3  [{\"iso_3166_1\": \"GB\", \"name\": \"United Kingdom\"...     9/1/2004   16123851   \n",
       "4  [{\"iso_3166_1\": \"GB\", \"name\": \"United Kingdom\"...     2/5/2010   52826594   \n",
       "\n",
       "   runtime                                   spoken_languages  \\\n",
       "0    117.0  [{\"iso_639_1\": \"en\", \"name\": \"English\"}, {\"iso...   \n",
       "1    118.0           [{\"iso_639_1\": \"en\", \"name\": \"English\"}]   \n",
       "2    128.0           [{\"iso_639_1\": \"en\", \"name\": \"English\"}]   \n",
       "3    141.0  [{\"iso_639_1\": \"en\", \"name\": \"English\"}, {\"iso...   \n",
       "4     92.0  [{\"iso_639_1\": \"de\", \"name\": \"Deutsch\"}, {\"iso...   \n",
       "\n",
       "                                  tagline  vote_count                   title  \\\n",
       "0                                   最后的舞者          28       Mao's Last Dancer   \n",
       "1                              Boldly go.         452  Star Trek: Generations   \n",
       "2                         Never Blend In.         612                    Milk   \n",
       "3  On September 1st, a heroine will rise.          73             Vanity Fair   \n",
       "4         Two agents. One city. No merci.         675    From Paris with Love   \n",
       "\n",
       "                                                cast  \\\n",
       "0  [{\"cast_id\": 2, \"character\": \"Li Cunxin - adul...   \n",
       "1  [{\"cast_id\": 5, \"character\": \"Captain Jean-Luc...   \n",
       "2  [{\"cast_id\": 2, \"character\": \"Harvey Milk\", \"c...   \n",
       "3  [{\"cast_id\": 22, \"character\": \"Becky Sharp\", \"...   \n",
       "4  [{\"cast_id\": 3, \"character\": \"Charlie Wax\", \"c...   \n",
       "\n",
       "                                                crew  \n",
       "0  [{\"credit_id\": \"52fe45419251416c9102c18d\", \"de...  \n",
       "1  [{\"credit_id\": \"52fe4225c3a36847f8007717\", \"de...  \n",
       "2  [{\"credit_id\": \"52fe43339251416c7500756b\", \"de...  \n",
       "3  [{\"credit_id\": \"52fe446c9251416c75034365\", \"de...  \n",
       "4  [{\"credit_id\": \"5763f7b792514134cd00026b\", \"de...  "
      ]
     },
     "execution_count": 8,
     "metadata": {},
     "output_type": "execute_result"
    }
   ],
   "source": [
    "test_data.head()"
   ]
  },
  {
   "cell_type": "code",
   "execution_count": 9,
   "id": "469aba67",
   "metadata": {},
   "outputs": [
    {
     "data": {
      "text/plain": [
       "0            High\n",
       "1    Intermediate\n",
       "2            High\n",
       "3    Intermediate\n",
       "4    Intermediate\n",
       "Name: Rate, dtype: object"
      ]
     },
     "execution_count": 9,
     "metadata": {},
     "output_type": "execute_result"
    }
   ],
   "source": [
    "Y.head()"
   ]
  },
  {
   "cell_type": "code",
   "execution_count": 10,
   "id": "bc372253",
   "metadata": {},
   "outputs": [],
   "source": [
    "oe = pickle.load(open(\"ordinal_encoder.pkl\", \"rb\"))\n",
    "Y = oe.transform(np.array(Y).reshape(-1, 1))"
   ]
  },
  {
   "cell_type": "code",
   "execution_count": 11,
   "id": "ae7f62e7",
   "metadata": {},
   "outputs": [
    {
     "name": "stdout",
     "output_type": "stream",
     "text": [
      "budget                    0\n",
      "genres                    0\n",
      "keywords                  0\n",
      "original_language         0\n",
      "original_title            0\n",
      "viewercount               0\n",
      "production_companies      0\n",
      "production_countries      0\n",
      "release_date              0\n",
      "revenue                   0\n",
      "runtime                   1\n",
      "spoken_languages          0\n",
      "tagline                 383\n",
      "vote_count                0\n",
      "title                     0\n",
      "cast                      0\n",
      "crew                      0\n"
     ]
    }
   ],
   "source": [
    "#check the missing values\n",
    "print(test_data.isnull().sum().to_string())"
   ]
  },
  {
   "cell_type": "code",
   "execution_count": 12,
   "id": "3bcdab47",
   "metadata": {},
   "outputs": [],
   "source": [
    "# Initialize WordNetLemmatizer and stopwords\n",
    "lemmatizer = WordNetLemmatizer()\n",
    "stop_words = set(stopwords.words('english'))\n",
    "\n",
    "# Define a function to remove punctuation and stopwords and apply lemmatization\n",
    "def preprocess_text(text):\n",
    "    # Remove punctuation\n",
    "    text = text.translate(str.maketrans('', '', string.punctuation))\n",
    "    # Tokenize words\n",
    "    words = nltk.word_tokenize(text)\n",
    "    # Remove stopwords and apply lemmatization\n",
    "    words = [lemmatizer.lemmatize(word) for word in words if not word.lower() in stop_words]\n",
    "    # Join words into a sentence\n",
    "    text = \" \".join(words)\n",
    "    return text\n",
    "\n",
    "# Apply preprocessing on 'original_title' and 'title'\n",
    "test_data['original_title'] = test_data['original_title'].apply(preprocess_text)\n",
    "test_data['title'] = test_data['title'].apply(preprocess_text)"
   ]
  },
  {
   "cell_type": "code",
   "execution_count": 13,
   "id": "d9d3a3fe",
   "metadata": {},
   "outputs": [
    {
     "name": "stdout",
     "output_type": "stream",
     "text": [
      "The differnet rows between 'title' column and 'original_title' column in train data:\n",
      "        budget                                             genres  \\\n",
      "22           0                      [{\"id\": 18, \"name\": \"Drama\"}]   \n",
      "25           0  [{\"id\": 53, \"name\": \"Thriller\"}, {\"id\": 80, \"n...   \n",
      "58    70000000  [{\"id\": 14, \"name\": \"Fantasy\"}, {\"id\": 18, \"na...   \n",
      "71           0  [{\"id\": 18, \"name\": \"Drama\"}, {\"id\": 36, \"name...   \n",
      "80           0  [{\"id\": 28, \"name\": \"Action\"}, {\"id\": 36, \"nam...   \n",
      "...        ...                                                ...   \n",
      "2976   7000000  [{\"id\": 53, \"name\": \"Thriller\"}, {\"id\": 878, \"...   \n",
      "2987  14000000                      [{\"id\": 18, \"name\": \"Drama\"}]   \n",
      "3009  15000000  [{\"id\": 16, \"name\": \"Animation\"}, {\"id\": 10751...   \n",
      "3025         0  [{\"id\": 18, \"name\": \"Drama\"}, {\"id\": 36, \"name...   \n",
      "3031   6500000  [{\"id\": 80, \"name\": \"Crime\"}, {\"id\": 18, \"name...   \n",
      "\n",
      "                                               keywords original_language  \\\n",
      "22                                                   []                ja   \n",
      "25    [{\"id\": 13095, \"name\": \"death of lover\"}, {\"id...                en   \n",
      "58    [{\"id\": 3891, \"name\": \"giant snake\"}, {\"id\": 1...                ko   \n",
      "71    [{\"id\": 2303, \"name\": \"mathematician\"}, {\"id\":...                ta   \n",
      "80    [{\"id\": 3389, \"name\": \"warrior woman\"}, {\"id\":...                en   \n",
      "...                                                 ...               ...   \n",
      "2976  [{\"id\": 310, \"name\": \"artificial intelligence\"...                en   \n",
      "2987  [{\"id\": 1731, \"name\": \"writing\"}, {\"id\": 1808,...                fr   \n",
      "3009  [{\"id\": 2535, \"name\": \"destroy\"}, {\"id\": 2964,...                fr   \n",
      "3025  [{\"id\": 7024, \"name\": \"fashion designer\"}, {\"i...                fr   \n",
      "3031  [{\"id\": 782, \"name\": \"assassin\"}, {\"id\": 792, ...                da   \n",
      "\n",
      "                    original_title  viewercount  \\\n",
      "22                           まあだだよ     2.930853   \n",
      "25                     hodejegerne    20.821846   \n",
      "58                              디워     4.822033   \n",
      "71                       ராமானுஜன்     0.416179   \n",
      "80                         三国之见龙卸甲     4.127155   \n",
      "...                            ...          ...   \n",
      "2976                      autómata    49.808505   \n",
      "2987  le scaphandre et le papillon    13.654940   \n",
      "3009           chasseurs de dragon     8.884405   \n",
      "3025             coco avant chanel     8.426589   \n",
      "3031              flammen citronen     7.028946   \n",
      "\n",
      "                                   production_companies  \\\n",
      "22    [{\"name\": \"Tokuma Shoten\", \"id\": 1779}, {\"name...   \n",
      "25    [{\"name\": \"Nordisk Film\", \"id\": 235}, {\"name\":...   \n",
      "58    [{\"name\": \"Younggu-Art Movies\", \"id\": 6366}, {...   \n",
      "71            [{\"name\": \"Camphor Cinema\", \"id\": 82667}]   \n",
      "80    [{\"name\": \"Visualizer Film Productions\", \"id\":...   \n",
      "...                                                 ...   \n",
      "2976  [{\"name\": \"Green Moon Productions\", \"id\": 4434...   \n",
      "2987  [{\"name\": \"France 3 Cin\\u00e9ma\", \"id\": 591}, ...   \n",
      "3009                [{\"name\": \"Futurikon\", \"id\": 2613}]   \n",
      "3025  [{\"name\": \"France 2 Cin\\u00e9ma\", \"id\": 83}, {...   \n",
      "3031  [{\"name\": \"Det Danske Filminstitut\", \"id\": 118...   \n",
      "\n",
      "                                   production_countries release_date  \\\n",
      "22              [{\"iso_3166_1\": \"JP\", \"name\": \"Japan\"}]    4/17/1993   \n",
      "25    [{\"iso_3166_1\": \"DE\", \"name\": \"Germany\"}, {\"is...     8/4/2011   \n",
      "58        [{\"iso_3166_1\": \"KR\", \"name\": \"South Korea\"}]     2/8/2007   \n",
      "71              [{\"iso_3166_1\": \"IN\", \"name\": \"India\"}]    7/11/2014   \n",
      "80    [{\"iso_3166_1\": \"CN\", \"name\": \"China\"}, {\"iso_...     4/3/2008   \n",
      "...                                                 ...          ...   \n",
      "2976            [{\"iso_3166_1\": \"ES\", \"name\": \"Spain\"}]    10/9/2014   \n",
      "2987  [{\"iso_3166_1\": \"FR\", \"name\": \"France\"}, {\"iso...    5/22/2007   \n",
      "3009           [{\"iso_3166_1\": \"FR\", \"name\": \"France\"}]    3/19/2008   \n",
      "3025  [{\"iso_3166_1\": \"BE\", \"name\": \"Belgium\"}, {\"is...    4/22/2009   \n",
      "3031  [{\"iso_3166_1\": \"CZ\", \"name\": \"Czech Republic\"...    3/25/2008   \n",
      "\n",
      "       revenue  runtime                                   spoken_languages  \\\n",
      "22           0    134.0  [{\"iso_639_1\": \"en\", \"name\": \"English\"}, {\"iso...   \n",
      "25    15699707    100.0  [{\"iso_639_1\": \"da\", \"name\": \"Dansk\"}, {\"iso_6...   \n",
      "58    53587404     90.0  [{\"iso_639_1\": \"en\", \"name\": \"English\"}, {\"iso...   \n",
      "71           0    170.0  [{\"iso_639_1\": \"ta\", \"name\": \"\\u0ba4\\u0bae\\u0b...   \n",
      "80           0    102.0  [{\"iso_639_1\": \"zh\", \"name\": \"\\u666e\\u901a\\u8b...   \n",
      "...        ...      ...                                                ...   \n",
      "2976         0    110.0           [{\"iso_639_1\": \"en\", \"name\": \"English\"}]   \n",
      "2987  19777647    112.0     [{\"iso_639_1\": \"fr\", \"name\": \"Fran\\u00e7ais\"}]   \n",
      "3009         0     80.0     [{\"iso_639_1\": \"fr\", \"name\": \"Fran\\u00e7ais\"}]   \n",
      "3025         0    110.0  [{\"iso_639_1\": \"fr\", \"name\": \"Fran\\u00e7ais\"},...   \n",
      "3031         0    130.0  [{\"iso_639_1\": \"da\", \"name\": \"Dansk\"}, {\"iso_6...   \n",
      "\n",
      "                                                tagline  vote_count  \\\n",
      "22                                                  NaN          20   \n",
      "25                                      The hunt is on.         399   \n",
      "58            They've made our world their battleground         104   \n",
      "71                                                  NaN           3   \n",
      "80                                                  NaN          35   \n",
      "...                                                 ...         ...   \n",
      "2976  Your time is coming to an end – Ours is now be...         670   \n",
      "2987                  Let your imagination set you free         283   \n",
      "3009                  Dragon hunting isn't a fairy tale         129   \n",
      "3025     Before she was France's famous mademoiselle...         246   \n",
      "3031                                                NaN          68   \n",
      "\n",
      "                                   title  \\\n",
      "22                              madadayo   \n",
      "25                           headhunters   \n",
      "58                      dragon wars dwar   \n",
      "71                             ramanujan   \n",
      "80    three kingdoms resurrection dragon   \n",
      "...                                  ...   \n",
      "2976                            automata   \n",
      "2987               diving bell butterfly   \n",
      "3009                      dragon hunters   \n",
      "3025                         coco chanel   \n",
      "3031                        flame citron   \n",
      "\n",
      "                                                   cast  \\\n",
      "22    [{\"cast_id\": 2, \"character\": \"Professor Hyakke...   \n",
      "25    [{\"cast_id\": 7, \"character\": \"Roger Brown\", \"c...   \n",
      "58    [{\"cast_id\": 13, \"character\": \"Ethan Kendrick\"...   \n",
      "71    [{\"cast_id\": 9, \"character\": \"Srinivasa Ramanu...   \n",
      "80    [{\"cast_id\": 2, \"character\": \"Luo Ping-An\", \"c...   \n",
      "...                                                 ...   \n",
      "2976  [{\"cast_id\": 0, \"character\": \"Jacq Vaucan\", \"c...   \n",
      "2987  [{\"cast_id\": 9, \"character\": \"Jean-Dominique B...   \n",
      "3009  [{\"cast_id\": 8, \"character\": \"Lian-Chu\", \"cred...   \n",
      "3025  [{\"cast_id\": 7, \"character\": \"Gabrielle 'Coco'...   \n",
      "3031  [{\"cast_id\": 28, \"character\": \"Flame\", \"credit...   \n",
      "\n",
      "                                                   crew  \\\n",
      "22    [{\"credit_id\": \"52fe45b09251416c7505f055\", \"de...   \n",
      "25    [{\"credit_id\": \"52fe4808c3a368484e0e62c5\", \"de...   \n",
      "58    [{\"credit_id\": \"52fe434a9251416c7500ad21\", \"de...   \n",
      "71    [{\"credit_id\": \"53bc55d8c3a3684cf9000067\", \"de...   \n",
      "80    [{\"credit_id\": \"52fe45fd9251416c7506960d\", \"de...   \n",
      "...                                                 ...   \n",
      "2976  [{\"credit_id\": \"5450fb9f0e0a2639fe004693\", \"de...   \n",
      "2987  [{\"credit_id\": \"52fe432cc3a36847f803fd69\", \"de...   \n",
      "3009  [{\"credit_id\": \"52fe43b99251416c7501bb79\", \"de...   \n",
      "3025  [{\"credit_id\": \"52fe44039251416c75026013\", \"de...   \n",
      "3031  [{\"credit_id\": \"52fe44c4c3a36847f80a8e85\", \"de...   \n",
      "\n",
      "      original_title_not_equal_title  \n",
      "22                              True  \n",
      "25                              True  \n",
      "58                              True  \n",
      "71                              True  \n",
      "80                              True  \n",
      "...                              ...  \n",
      "2976                            True  \n",
      "2987                            True  \n",
      "3009                            True  \n",
      "3025                            True  \n",
      "3031                            True  \n",
      "\n",
      "[131 rows x 18 columns]\n"
     ]
    }
   ],
   "source": [
    "test_data['original_title'] = test_data['original_title'].str.lower()\n",
    "test_data['title'] = test_data['title'].str.lower()\n",
    "test_data['original_title_not_equal_title'] = test_data['original_title'] != test_data['title']\n",
    "rows_not_equal = test_data[test_data['original_title_not_equal_title']]\n",
    "print(\"The differnet rows between 'title' column and 'original_title' column in train data:\")\n",
    "print(rows_not_equal)"
   ]
  },
  {
   "cell_type": "code",
   "execution_count": 14,
   "id": "fd959333",
   "metadata": {},
   "outputs": [],
   "source": [
    "test_data.drop(columns=['original_title','title','original_title_not_equal_title'],inplace=True)"
   ]
  },
  {
   "cell_type": "code",
   "execution_count": 15,
   "id": "63492ebb",
   "metadata": {},
   "outputs": [],
   "source": [
    "test_data['tagline'] = test_data['tagline'].astype(str).fillna('')"
   ]
  },
  {
   "cell_type": "code",
   "execution_count": 16,
   "id": "187172b7",
   "metadata": {},
   "outputs": [],
   "source": [
    "# get sentiment value from title\n",
    "# Define a function to get the sentiment score of a movie title using TextBlob\n",
    "def get_sentiment_score(title):\n",
    "    text_blob = TextBlob(title)\n",
    "    return text_blob.sentiment.polarity\n",
    "\n",
    "# Apply the function to the 'title' column of the DataFrame to get the sentiment scores\n",
    "test_data['tagline'] = test_data['tagline'].apply(get_sentiment_score)"
   ]
  },
  {
   "cell_type": "code",
   "execution_count": 17,
   "id": "949b65ae",
   "metadata": {},
   "outputs": [
    {
     "data": {
      "text/plain": [
       "0.0"
      ]
     },
     "execution_count": 17,
     "metadata": {},
     "output_type": "execute_result"
    }
   ],
   "source": [
    "get_sentiment_score('depressed')"
   ]
  },
  {
   "cell_type": "code",
   "execution_count": 18,
   "id": "708887ee",
   "metadata": {},
   "outputs": [],
   "source": [
    "# date extraction\n",
    "test_data['day'] = pd.to_datetime(test_data['release_date']).dt.day # drop if it is not needed\n",
    "test_data['month'] = pd.to_datetime(test_data['release_date']).dt.month\n",
    "test_data['year'] = pd.to_datetime(test_data['release_date']).dt.year"
   ]
  },
  {
   "cell_type": "code",
   "execution_count": 19,
   "id": "3f6eea8c",
   "metadata": {},
   "outputs": [
    {
     "data": {
      "image/png": "[encoded data removed]",
      "text/plain": [
       "<Figure size 1500x500 with 8 Axes>"
      ]
     },
     "metadata": {},
     "output_type": "display_data"
    }
   ],
   "source": [
    "#checking outliers\n",
    "sns.set()\n",
    "fig, axs = plt.subplots(1,8, figsize = (15,5))\n",
    "plt1 = sns.boxplot(test_data['revenue'], ax = axs[0])\n",
    "plt2 = sns.boxplot(test_data['budget'], ax = axs[1])\n",
    "plt3 = sns.boxplot(test_data['viewercount'], ax = axs[2])\n",
    "plt4 = sns.boxplot(test_data['runtime'], ax = axs[3])\n",
    "plt5 = sns.boxplot(test_data['vote_count'], ax = axs[4])\n",
    "plt6 = sns.boxplot(test_data['year'], ax = axs[5])\n",
    "plt7 = sns.boxplot(test_data['month'], ax = axs[6])\n",
    "plt8 = sns.boxplot(test_data['day'], ax = axs[7])\n",
    "\n",
    "plt.tight_layout()"
   ]
  },
  {
   "cell_type": "code",
   "execution_count": 20,
   "id": "302743c4",
   "metadata": {},
   "outputs": [],
   "source": [
    "def replace_test_outlier(col,limits):\n",
    "    test_data.loc[test_data[col] > limits[0],col]=limits[0]\n",
    "    test_data.loc[test_data[col] < limits[1],col]=limits[1]"
   ]
  },
  {
   "cell_type": "code",
   "execution_count": 21,
   "id": "847f398e",
   "metadata": {},
   "outputs": [],
   "source": [
    "limit_values = pickle.load(open(\"limit_values_c.pkl\", \"rb\"))"
   ]
  },
  {
   "cell_type": "code",
   "execution_count": 22,
   "id": "45505b2b",
   "metadata": {},
   "outputs": [],
   "source": [
    "outliers_column=['revenue','budget','runtime','vote_count','viewercount','year']\n",
    "i = 0\n",
    "for col in outliers_column:\n",
    "    replace_test_outlier(col,limit_values[i])\n",
    "    i += 1"
   ]
  },
  {
   "cell_type": "code",
   "execution_count": 23,
   "id": "52d4a7fe",
   "metadata": {},
   "outputs": [
    {
     "data": {
      "image/png": "[encoded data removed]",
      "text/plain": [
       "<Figure size 1500x500 with 6 Axes>"
      ]
     },
     "metadata": {},
     "output_type": "display_data"
    }
   ],
   "source": [
    "#checking outliers\n",
    "sns.set()\n",
    "fig, axs = plt.subplots(1,6, figsize = (15,5))\n",
    "plt1 = sns.boxplot(test_data['revenue'], ax = axs[0])\n",
    "plt2 = sns.boxplot(test_data['budget'], ax = axs[1])\n",
    "plt3 = sns.boxplot(test_data['viewercount'], ax = axs[2])\n",
    "plt4 = sns.boxplot(test_data['runtime'], ax = axs[3])\n",
    "plt5 = sns.boxplot(test_data['vote_count'], ax = axs[4])\n",
    "plt6 = sns.boxplot(test_data['year'], ax = axs[5])\n",
    "plt.tight_layout()"
   ]
  },
  {
   "cell_type": "code",
   "execution_count": 24,
   "id": "c09b1c6e",
   "metadata": {},
   "outputs": [],
   "source": [
    "date_mode = pickle.load(open(\"date_mode_c.pkl\", \"rb\"))\n",
    "runtime_mean = pickle.load(open(\"runtime_mean_c.pkl\", \"rb\"))\n",
    "vote_count_med = pickle.load(open(\"vote_count_med_c.pkl\", \"rb\"))\n",
    "viewer_count_med = pickle.load(open(\"viewer_count_med_c.pkl\", \"rb\"))\n",
    "revnue_med = pickle.load(open(\"revnue_med_c.pkl\", \"rb\"))\n",
    "OL_mode = pickle.load(open(\"OL_mode_c.pkl\", \"rb\"))\n",
    "budget_mean = pickle.load(open(\"budget_mean_c.pkl\", \"rb\"))\n",
    "saved_fitted_data = pickle.load(open(\"saved_fitted_data_c.pkl\", \"rb\"))\n",
    "filterd_Col = pickle.load(open(\"filterd_Cols.pkl\", \"rb\"))"
   ]
  },
  {
   "cell_type": "code",
   "execution_count": 25,
   "id": "d8be5aac",
   "metadata": {},
   "outputs": [],
   "source": [
    "test_data['release_date'].fillna(value=date_mode, inplace=True)\n",
    "test_data['release_date'].replace(0, date_mode, inplace=True)"
   ]
  },
  {
   "cell_type": "code",
   "execution_count": 26,
   "id": "79488fa4",
   "metadata": {},
   "outputs": [],
   "source": [
    "test_data['runtime'].replace(0,runtime_mean,inplace=True)\n",
    "test_data['runtime'].fillna(value=runtime_mean, inplace=True)"
   ]
  },
  {
   "cell_type": "code",
   "execution_count": 27,
   "id": "085a1929",
   "metadata": {},
   "outputs": [],
   "source": [
    "test_data['vote_count'].fillna(value=vote_count_med, inplace=True)\n",
    "test_data['vote_count'].replace(0, vote_count_med, inplace=True)"
   ]
  },
  {
   "cell_type": "code",
   "execution_count": 28,
   "id": "e43a03ed",
   "metadata": {},
   "outputs": [],
   "source": [
    "test_data['viewercount'].fillna(value=viewer_count_med, inplace=True)\n",
    "test_data['viewercount'].replace(0, viewer_count_med, inplace=True)"
   ]
  },
  {
   "cell_type": "code",
   "execution_count": 29,
   "id": "77afadf4",
   "metadata": {},
   "outputs": [],
   "source": [
    "test_data['revenue'].fillna(value=revnue_med, inplace=True)\n",
    "test_data['revenue'].replace(0, revnue_med, inplace=True)"
   ]
  },
  {
   "cell_type": "code",
   "execution_count": 30,
   "id": "0deee8cb",
   "metadata": {},
   "outputs": [
    {
     "data": {
      "text/plain": [
       "dtype('int64')"
      ]
     },
     "execution_count": 30,
     "metadata": {},
     "output_type": "execute_result"
    }
   ],
   "source": [
    "test_data['budget'].dtype"
   ]
  },
  {
   "cell_type": "code",
   "execution_count": 31,
   "id": "e62c6a14",
   "metadata": {},
   "outputs": [],
   "source": [
    "test_data['original_language'] = test_data['original_language'].apply(lambda x: OL_mode if str(x).isdigit() else x)"
   ]
  },
  {
   "cell_type": "code",
   "execution_count": 32,
   "id": "81b48b0b",
   "metadata": {},
   "outputs": [
    {
     "data": {
      "text/html": [
       "<div>\n",
       "<style scoped>\n",
       "    .dataframe tbody tr th:only-of-type {\n",
       "        vertical-align: middle;\n",
       "    }\n",
       "\n",
       "    .dataframe tbody tr th {\n",
       "        vertical-align: top;\n",
       "    }\n",
       "\n",
       "    .dataframe thead th {\n",
       "        text-align: right;\n",
       "    }\n",
       "</style>\n",
       "<table border=\"1\" class=\"dataframe\">\n",
       "  <thead>\n",
       "    <tr style=\"text-align: right;\">\n",
       "      <th></th>\n",
       "      <th>budget</th>\n",
       "      <th>genres</th>\n",
       "      <th>keywords</th>\n",
       "      <th>original_language</th>\n",
       "      <th>viewercount</th>\n",
       "      <th>production_companies</th>\n",
       "      <th>production_countries</th>\n",
       "      <th>release_date</th>\n",
       "      <th>revenue</th>\n",
       "      <th>runtime</th>\n",
       "      <th>spoken_languages</th>\n",
       "      <th>tagline</th>\n",
       "      <th>vote_count</th>\n",
       "      <th>cast</th>\n",
       "      <th>crew</th>\n",
       "      <th>day</th>\n",
       "      <th>month</th>\n",
       "      <th>year</th>\n",
       "    </tr>\n",
       "  </thead>\n",
       "  <tbody>\n",
       "    <tr>\n",
       "      <th>0</th>\n",
       "      <td>25000000</td>\n",
       "      <td>[{\"id\": 18, \"name\": \"Drama\"}, {\"id\": 10749, \"n...</td>\n",
       "      <td>[{\"id\": 4328, \"name\": \"costume\"}, {\"id\": 4528,...</td>\n",
       "      <td>en</td>\n",
       "      <td>1.876811</td>\n",
       "      <td>[{\"name\": \"Great Scott Productions Pty. Ltd.\",...</td>\n",
       "      <td>[{\"iso_3166_1\": \"AU\", \"name\": \"Australia\"}]</td>\n",
       "      <td>10/1/2009</td>\n",
       "      <td>20719451.0</td>\n",
       "      <td>117.0</td>\n",
       "      <td>[{\"iso_639_1\": \"en\", \"name\": \"English\"}, {\"iso...</td>\n",
       "      <td>0.000000</td>\n",
       "      <td>28</td>\n",
       "      <td>[{\"cast_id\": 2, \"character\": \"Li Cunxin - adul...</td>\n",
       "      <td>[{\"credit_id\": \"52fe45419251416c9102c18d\", \"de...</td>\n",
       "      <td>1</td>\n",
       "      <td>10</td>\n",
       "      <td>2009.0</td>\n",
       "    </tr>\n",
       "    <tr>\n",
       "      <th>1</th>\n",
       "      <td>38000000</td>\n",
       "      <td>[{\"id\": 878, \"name\": \"Science Fiction\"}, {\"id\"...</td>\n",
       "      <td>[{\"id\": 10988, \"name\": \"based on tv series\"}, ...</td>\n",
       "      <td>en</td>\n",
       "      <td>14.779041</td>\n",
       "      <td>[{\"name\": \"Paramount Pictures\", \"id\": 4}]</td>\n",
       "      <td>[{\"iso_3166_1\": \"US\", \"name\": \"United States o...</td>\n",
       "      <td>11/17/1994</td>\n",
       "      <td>120000000.0</td>\n",
       "      <td>118.0</td>\n",
       "      <td>[{\"iso_639_1\": \"en\", \"name\": \"English\"}]</td>\n",
       "      <td>0.333333</td>\n",
       "      <td>452</td>\n",
       "      <td>[{\"cast_id\": 5, \"character\": \"Captain Jean-Luc...</td>\n",
       "      <td>[{\"credit_id\": \"52fe4225c3a36847f8007717\", \"de...</td>\n",
       "      <td>17</td>\n",
       "      <td>11</td>\n",
       "      <td>1994.0</td>\n",
       "    </tr>\n",
       "    <tr>\n",
       "      <th>2</th>\n",
       "      <td>20000000</td>\n",
       "      <td>[{\"id\": 36, \"name\": \"History\"}, {\"id\": 18, \"na...</td>\n",
       "      <td>[{\"id\": 237, \"name\": \"gay\"}, {\"id\": 582, \"name...</td>\n",
       "      <td>en</td>\n",
       "      <td>30.909699</td>\n",
       "      <td>[{\"name\": \"Focus Features\", \"id\": 10146}]</td>\n",
       "      <td>[{\"iso_3166_1\": \"US\", \"name\": \"United States o...</td>\n",
       "      <td>11/26/2008</td>\n",
       "      <td>54586584.0</td>\n",
       "      <td>128.0</td>\n",
       "      <td>[{\"iso_639_1\": \"en\", \"name\": \"English\"}]</td>\n",
       "      <td>0.000000</td>\n",
       "      <td>612</td>\n",
       "      <td>[{\"cast_id\": 2, \"character\": \"Harvey Milk\", \"c...</td>\n",
       "      <td>[{\"credit_id\": \"52fe43339251416c7500756b\", \"de...</td>\n",
       "      <td>26</td>\n",
       "      <td>11</td>\n",
       "      <td>2008.0</td>\n",
       "    </tr>\n",
       "    <tr>\n",
       "      <th>3</th>\n",
       "      <td>23000000</td>\n",
       "      <td>[{\"id\": 18, \"name\": \"Drama\"}, {\"id\": 10749, \"n...</td>\n",
       "      <td>[{\"id\": 212, \"name\": \"london england\"}, {\"id\":...</td>\n",
       "      <td>en</td>\n",
       "      <td>6.618149</td>\n",
       "      <td>[{\"name\": \"Alliance Films\", \"id\": 2514}, {\"nam...</td>\n",
       "      <td>[{\"iso_3166_1\": \"GB\", \"name\": \"United Kingdom\"...</td>\n",
       "      <td>9/1/2004</td>\n",
       "      <td>16123851.0</td>\n",
       "      <td>141.0</td>\n",
       "      <td>[{\"iso_639_1\": \"en\", \"name\": \"English\"}, {\"iso...</td>\n",
       "      <td>0.000000</td>\n",
       "      <td>73</td>\n",
       "      <td>[{\"cast_id\": 22, \"character\": \"Becky Sharp\", \"...</td>\n",
       "      <td>[{\"credit_id\": \"52fe446c9251416c75034365\", \"de...</td>\n",
       "      <td>1</td>\n",
       "      <td>9</td>\n",
       "      <td>2004.0</td>\n",
       "    </tr>\n",
       "    <tr>\n",
       "      <th>4</th>\n",
       "      <td>52000000</td>\n",
       "      <td>[{\"id\": 28, \"name\": \"Action\"}, {\"id\": 80, \"nam...</td>\n",
       "      <td>[{\"id\": 90, \"name\": \"paris\"}, {\"id\": 591, \"nam...</td>\n",
       "      <td>en</td>\n",
       "      <td>27.916284</td>\n",
       "      <td>[{\"name\": \"Apipoula\\u00ef\", \"id\": 1076}, {\"nam...</td>\n",
       "      <td>[{\"iso_3166_1\": \"GB\", \"name\": \"United Kingdom\"...</td>\n",
       "      <td>2/5/2010</td>\n",
       "      <td>52826594.0</td>\n",
       "      <td>92.0</td>\n",
       "      <td>[{\"iso_639_1\": \"de\", \"name\": \"Deutsch\"}, {\"iso...</td>\n",
       "      <td>0.000000</td>\n",
       "      <td>675</td>\n",
       "      <td>[{\"cast_id\": 3, \"character\": \"Charlie Wax\", \"c...</td>\n",
       "      <td>[{\"credit_id\": \"5763f7b792514134cd00026b\", \"de...</td>\n",
       "      <td>5</td>\n",
       "      <td>2</td>\n",
       "      <td>2010.0</td>\n",
       "    </tr>\n",
       "  </tbody>\n",
       "</table>\n",
       "</div>"
      ],
      "text/plain": [
       "     budget                                             genres  \\\n",
       "0  25000000  [{\"id\": 18, \"name\": \"Drama\"}, {\"id\": 10749, \"n...   \n",
       "1  38000000  [{\"id\": 878, \"name\": \"Science Fiction\"}, {\"id\"...   \n",
       "2  20000000  [{\"id\": 36, \"name\": \"History\"}, {\"id\": 18, \"na...   \n",
       "3  23000000  [{\"id\": 18, \"name\": \"Drama\"}, {\"id\": 10749, \"n...   \n",
       "4  52000000  [{\"id\": 28, \"name\": \"Action\"}, {\"id\": 80, \"nam...   \n",
       "\n",
       "                                            keywords original_language  \\\n",
       "0  [{\"id\": 4328, \"name\": \"costume\"}, {\"id\": 4528,...                en   \n",
       "1  [{\"id\": 10988, \"name\": \"based on tv series\"}, ...                en   \n",
       "2  [{\"id\": 237, \"name\": \"gay\"}, {\"id\": 582, \"name...                en   \n",
       "3  [{\"id\": 212, \"name\": \"london england\"}, {\"id\":...                en   \n",
       "4  [{\"id\": 90, \"name\": \"paris\"}, {\"id\": 591, \"nam...                en   \n",
       "\n",
       "   viewercount                               production_companies  \\\n",
       "0     1.876811  [{\"name\": \"Great Scott Productions Pty. Ltd.\",...   \n",
       "1    14.779041          [{\"name\": \"Paramount Pictures\", \"id\": 4}]   \n",
       "2    30.909699          [{\"name\": \"Focus Features\", \"id\": 10146}]   \n",
       "3     6.618149  [{\"name\": \"Alliance Films\", \"id\": 2514}, {\"nam...   \n",
       "4    27.916284  [{\"name\": \"Apipoula\\u00ef\", \"id\": 1076}, {\"nam...   \n",
       "\n",
       "                                production_countries release_date  \\\n",
       "0        [{\"iso_3166_1\": \"AU\", \"name\": \"Australia\"}]    10/1/2009   \n",
       "1  [{\"iso_3166_1\": \"US\", \"name\": \"United States o...   11/17/1994   \n",
       "2  [{\"iso_3166_1\": \"US\", \"name\": \"United States o...   11/26/2008   \n",
       "3  [{\"iso_3166_1\": \"GB\", \"name\": \"United Kingdom\"...     9/1/2004   \n",
       "4  [{\"iso_3166_1\": \"GB\", \"name\": \"United Kingdom\"...     2/5/2010   \n",
       "\n",
       "       revenue  runtime                                   spoken_languages  \\\n",
       "0   20719451.0    117.0  [{\"iso_639_1\": \"en\", \"name\": \"English\"}, {\"iso...   \n",
       "1  120000000.0    118.0           [{\"iso_639_1\": \"en\", \"name\": \"English\"}]   \n",
       "2   54586584.0    128.0           [{\"iso_639_1\": \"en\", \"name\": \"English\"}]   \n",
       "3   16123851.0    141.0  [{\"iso_639_1\": \"en\", \"name\": \"English\"}, {\"iso...   \n",
       "4   52826594.0     92.0  [{\"iso_639_1\": \"de\", \"name\": \"Deutsch\"}, {\"iso...   \n",
       "\n",
       "    tagline  vote_count                                               cast  \\\n",
       "0  0.000000          28  [{\"cast_id\": 2, \"character\": \"Li Cunxin - adul...   \n",
       "1  0.333333         452  [{\"cast_id\": 5, \"character\": \"Captain Jean-Luc...   \n",
       "2  0.000000         612  [{\"cast_id\": 2, \"character\": \"Harvey Milk\", \"c...   \n",
       "3  0.000000          73  [{\"cast_id\": 22, \"character\": \"Becky Sharp\", \"...   \n",
       "4  0.000000         675  [{\"cast_id\": 3, \"character\": \"Charlie Wax\", \"c...   \n",
       "\n",
       "                                                crew  day  month    year  \n",
       "0  [{\"credit_id\": \"52fe45419251416c9102c18d\", \"de...    1     10  2009.0  \n",
       "1  [{\"credit_id\": \"52fe4225c3a36847f8007717\", \"de...   17     11  1994.0  \n",
       "2  [{\"credit_id\": \"52fe43339251416c7500756b\", \"de...   26     11  2008.0  \n",
       "3  [{\"credit_id\": \"52fe446c9251416c75034365\", \"de...    1      9  2004.0  \n",
       "4  [{\"credit_id\": \"5763f7b792514134cd00026b\", \"de...    5      2  2010.0  "
      ]
     },
     "execution_count": 32,
     "metadata": {},
     "output_type": "execute_result"
    }
   ],
   "source": [
    "test_data.head()"
   ]
  },
  {
   "cell_type": "code",
   "execution_count": 33,
   "id": "d807a32d",
   "metadata": {},
   "outputs": [],
   "source": [
    "test_data['budget'].fillna(value=budget_mean, inplace=True)\n",
    "test_data['budget'].replace(0, budget_mean, inplace=True)"
   ]
  },
  {
   "cell_type": "code",
   "execution_count": 34,
   "id": "15470c2c",
   "metadata": {},
   "outputs": [],
   "source": [
    "from sklearn.preprocessing import LabelEncoder\n",
    "# Load the encoder from the file\n",
    "with open('encoder_c.pkl', 'rb') as f:\n",
    "    encoder = pickle.load(f)\n",
    "\n",
    "# Use the loaded encoder to transform the test set\n",
    "test_data['original_language'] = encoder.transform(test_data[['original_language']])"
   ]
  },
  {
   "cell_type": "code",
   "execution_count": 35,
   "id": "7c465392",
   "metadata": {},
   "outputs": [],
   "source": [
    "json_cols = ['genres', 'keywords', 'production_companies', 'spoken_languages', 'production_countries','cast','crew']\n",
    "\n",
    "def extract_keywords(x):\n",
    "    L=[]\n",
    "    for i in ast.literal_eval(x):\n",
    "            L.append(i['name'])\n",
    "    return L\n",
    "for col in json_cols:\n",
    "    test_data[col]=test_data[col].apply(extract_keywords)\n"
   ]
  },
  {
   "cell_type": "code",
   "execution_count": 36,
   "id": "4673358e",
   "metadata": {},
   "outputs": [
    {
     "data": {
      "text/html": [
       "<div>\n",
       "<style scoped>\n",
       "    .dataframe tbody tr th:only-of-type {\n",
       "        vertical-align: middle;\n",
       "    }\n",
       "\n",
       "    .dataframe tbody tr th {\n",
       "        vertical-align: top;\n",
       "    }\n",
       "\n",
       "    .dataframe thead th {\n",
       "        text-align: right;\n",
       "    }\n",
       "</style>\n",
       "<table border=\"1\" class=\"dataframe\">\n",
       "  <thead>\n",
       "    <tr style=\"text-align: right;\">\n",
       "      <th></th>\n",
       "      <th>budget</th>\n",
       "      <th>genres</th>\n",
       "      <th>keywords</th>\n",
       "      <th>original_language</th>\n",
       "      <th>viewercount</th>\n",
       "      <th>production_companies</th>\n",
       "      <th>production_countries</th>\n",
       "      <th>release_date</th>\n",
       "      <th>revenue</th>\n",
       "      <th>runtime</th>\n",
       "      <th>spoken_languages</th>\n",
       "      <th>tagline</th>\n",
       "      <th>vote_count</th>\n",
       "      <th>cast</th>\n",
       "      <th>crew</th>\n",
       "      <th>day</th>\n",
       "      <th>month</th>\n",
       "      <th>year</th>\n",
       "    </tr>\n",
       "  </thead>\n",
       "  <tbody>\n",
       "    <tr>\n",
       "      <th>0</th>\n",
       "      <td>25000000.0</td>\n",
       "      <td>[Drama, Romance]</td>\n",
       "      <td>[costume, song, village, promise, ballet]</td>\n",
       "      <td>4.0</td>\n",
       "      <td>1.876811</td>\n",
       "      <td>[Great Scott Productions Pty. Ltd.]</td>\n",
       "      <td>[Australia]</td>\n",
       "      <td>10/1/2009</td>\n",
       "      <td>20719451.0</td>\n",
       "      <td>117.0</td>\n",
       "      <td>[English, 普通话]</td>\n",
       "      <td>0.000000</td>\n",
       "      <td>28</td>\n",
       "      <td>[Chi Cao, Chengwu Guo, Wen Bin Huang, Joan Che...</td>\n",
       "      <td>[Bruce Beresford]</td>\n",
       "      <td>1</td>\n",
       "      <td>10</td>\n",
       "      <td>2009.0</td>\n",
       "    </tr>\n",
       "    <tr>\n",
       "      <th>1</th>\n",
       "      <td>38000000.0</td>\n",
       "      <td>[Science Fiction, Action, Adventure, Thriller]</td>\n",
       "      <td>[based on tv series, death, exploding planet, ...</td>\n",
       "      <td>4.0</td>\n",
       "      <td>14.779041</td>\n",
       "      <td>[Paramount Pictures]</td>\n",
       "      <td>[United States of America]</td>\n",
       "      <td>11/17/1994</td>\n",
       "      <td>120000000.0</td>\n",
       "      <td>118.0</td>\n",
       "      <td>[English]</td>\n",
       "      <td>0.333333</td>\n",
       "      <td>452</td>\n",
       "      <td>[Patrick Stewart, Jonathan Frakes, Brent Spine...</td>\n",
       "      <td>[John M. Dwyer, John A. Alonzo, Peter E. Berge...</td>\n",
       "      <td>17</td>\n",
       "      <td>11</td>\n",
       "      <td>1994.0</td>\n",
       "    </tr>\n",
       "    <tr>\n",
       "      <th>2</th>\n",
       "      <td>20000000.0</td>\n",
       "      <td>[History, Drama]</td>\n",
       "      <td>[gay, san francisco, homophobia, mayor, biogra...</td>\n",
       "      <td>4.0</td>\n",
       "      <td>30.909699</td>\n",
       "      <td>[Focus Features]</td>\n",
       "      <td>[United States of America]</td>\n",
       "      <td>11/26/2008</td>\n",
       "      <td>54586584.0</td>\n",
       "      <td>128.0</td>\n",
       "      <td>[English]</td>\n",
       "      <td>0.000000</td>\n",
       "      <td>612</td>\n",
       "      <td>[Sean Penn, Emile Hirsch, James Franco, Josh B...</td>\n",
       "      <td>[Bruce Cohen, Gus Van Sant, Gus Van Sant, Harr...</td>\n",
       "      <td>26</td>\n",
       "      <td>11</td>\n",
       "      <td>2008.0</td>\n",
       "    </tr>\n",
       "    <tr>\n",
       "      <th>3</th>\n",
       "      <td>23000000.0</td>\n",
       "      <td>[Drama, Romance]</td>\n",
       "      <td>[london england, british empire, lover, advanc...</td>\n",
       "      <td>4.0</td>\n",
       "      <td>6.618149</td>\n",
       "      <td>[Alliance Films, Focus Features]</td>\n",
       "      <td>[United Kingdom, United States of America]</td>\n",
       "      <td>9/1/2004</td>\n",
       "      <td>16123851.0</td>\n",
       "      <td>141.0</td>\n",
       "      <td>[English, Français, Deutsch]</td>\n",
       "      <td>0.000000</td>\n",
       "      <td>73</td>\n",
       "      <td>[Reese Witherspoon, James Purefoy, Jonathan Rh...</td>\n",
       "      <td>[Mychael Danna, Declan Quinn, Pippa Cross, Mir...</td>\n",
       "      <td>1</td>\n",
       "      <td>9</td>\n",
       "      <td>2004.0</td>\n",
       "    </tr>\n",
       "    <tr>\n",
       "      <th>4</th>\n",
       "      <td>52000000.0</td>\n",
       "      <td>[Action, Crime, Thriller]</td>\n",
       "      <td>[paris, cia, undercover, explosive, pimp, amba...</td>\n",
       "      <td>4.0</td>\n",
       "      <td>27.916284</td>\n",
       "      <td>[Apipoulaï, M6 Films, Canal+, TPS Star, Grive ...</td>\n",
       "      <td>[United Kingdom, France]</td>\n",
       "      <td>2/5/2010</td>\n",
       "      <td>52826594.0</td>\n",
       "      <td>92.0</td>\n",
       "      <td>[Deutsch, English, Français, 普通话]</td>\n",
       "      <td>0.000000</td>\n",
       "      <td>675</td>\n",
       "      <td>[John Travolta, Jonathan Rhys Meyers, Kasia Sm...</td>\n",
       "      <td>[Luc Besson, Jacques Bufnoir, Philippe Hubin, ...</td>\n",
       "      <td>5</td>\n",
       "      <td>2</td>\n",
       "      <td>2010.0</td>\n",
       "    </tr>\n",
       "  </tbody>\n",
       "</table>\n",
       "</div>"
      ],
      "text/plain": [
       "       budget                                          genres  \\\n",
       "0  25000000.0                                [Drama, Romance]   \n",
       "1  38000000.0  [Science Fiction, Action, Adventure, Thriller]   \n",
       "2  20000000.0                                [History, Drama]   \n",
       "3  23000000.0                                [Drama, Romance]   \n",
       "4  52000000.0                       [Action, Crime, Thriller]   \n",
       "\n",
       "                                            keywords  original_language  \\\n",
       "0          [costume, song, village, promise, ballet]                4.0   \n",
       "1  [based on tv series, death, exploding planet, ...                4.0   \n",
       "2  [gay, san francisco, homophobia, mayor, biogra...                4.0   \n",
       "3  [london england, british empire, lover, advanc...                4.0   \n",
       "4  [paris, cia, undercover, explosive, pimp, amba...                4.0   \n",
       "\n",
       "   viewercount                               production_companies  \\\n",
       "0     1.876811                [Great Scott Productions Pty. Ltd.]   \n",
       "1    14.779041                               [Paramount Pictures]   \n",
       "2    30.909699                                   [Focus Features]   \n",
       "3     6.618149                   [Alliance Films, Focus Features]   \n",
       "4    27.916284  [Apipoulaï, M6 Films, Canal+, TPS Star, Grive ...   \n",
       "\n",
       "                         production_countries release_date      revenue  \\\n",
       "0                                 [Australia]    10/1/2009   20719451.0   \n",
       "1                  [United States of America]   11/17/1994  120000000.0   \n",
       "2                  [United States of America]   11/26/2008   54586584.0   \n",
       "3  [United Kingdom, United States of America]     9/1/2004   16123851.0   \n",
       "4                    [United Kingdom, France]     2/5/2010   52826594.0   \n",
       "\n",
       "   runtime                   spoken_languages   tagline  vote_count  \\\n",
       "0    117.0                     [English, 普通话]  0.000000          28   \n",
       "1    118.0                          [English]  0.333333         452   \n",
       "2    128.0                          [English]  0.000000         612   \n",
       "3    141.0       [English, Français, Deutsch]  0.000000          73   \n",
       "4     92.0  [Deutsch, English, Français, 普通话]  0.000000         675   \n",
       "\n",
       "                                                cast  \\\n",
       "0  [Chi Cao, Chengwu Guo, Wen Bin Huang, Joan Che...   \n",
       "1  [Patrick Stewart, Jonathan Frakes, Brent Spine...   \n",
       "2  [Sean Penn, Emile Hirsch, James Franco, Josh B...   \n",
       "3  [Reese Witherspoon, James Purefoy, Jonathan Rh...   \n",
       "4  [John Travolta, Jonathan Rhys Meyers, Kasia Sm...   \n",
       "\n",
       "                                                crew  day  month    year  \n",
       "0                                  [Bruce Beresford]    1     10  2009.0  \n",
       "1  [John M. Dwyer, John A. Alonzo, Peter E. Berge...   17     11  1994.0  \n",
       "2  [Bruce Cohen, Gus Van Sant, Gus Van Sant, Harr...   26     11  2008.0  \n",
       "3  [Mychael Danna, Declan Quinn, Pippa Cross, Mir...    1      9  2004.0  \n",
       "4  [Luc Besson, Jacques Bufnoir, Philippe Hubin, ...    5      2  2010.0  "
      ]
     },
     "execution_count": 36,
     "metadata": {},
     "output_type": "execute_result"
    }
   ],
   "source": [
    "test_data.head()"
   ]
  },
  {
   "cell_type": "code",
   "execution_count": 37,
   "id": "cca1ece7",
   "metadata": {},
   "outputs": [],
   "source": [
    "class Our_OneHotEncoder:\n",
    "    data = set()\n",
    "    \n",
    "    def __init__(self):\n",
    "        self.data.clear()\n",
    "    \n",
    "    def fit_freq(self, freq_set):\n",
    "        # adding items to data field\n",
    "        self.data = freq_set\n",
    "    \n",
    "    def fit(self, df, column_name):\n",
    "        # adding items to data field\n",
    "        for lst in df[column_name]:\n",
    "            for element in lst:\n",
    "                self.data.add(element)\n",
    "\n",
    "    def transform(self, df, column_name):\n",
    "        data_lst = list(self.data)\n",
    "        \n",
    "        #Initializing the one-hot columns\n",
    "        for col in data_lst:\n",
    "            df[col] = np.zeros(df.shape[0], dtype=int)\n",
    "        \n",
    "        # One-Hot Encoding\n",
    "        for i, row in df.iterrows():\n",
    "            for element in row[column_name]:\n",
    "                if element in data_lst:\n",
    "                    df.loc[i, element] = 1\n",
    "        df.drop(columns=[column_name],inplace=True)    \n"
   ]
  },
  {
   "cell_type": "code",
   "execution_count": 38,
   "id": "9fdd3c8b",
   "metadata": {},
   "outputs": [],
   "source": [
    "oneHotColumns=['genres', 'production_companies','production_countries','cast']\n",
    "i = 0\n",
    "for col in oneHotColumns:\n",
    "    encoder = Our_OneHotEncoder()\n",
    "    encoder.data = set(saved_fitted_data[i])\n",
    "    encoder.transform(test_data,col)\n",
    "    i+=1"
   ]
  },
  {
   "cell_type": "code",
   "execution_count": 39,
   "id": "20f94bbd",
   "metadata": {},
   "outputs": [],
   "source": [
    "word2vectorColumns=['keywords','crew', 'spoken_languages']\n",
    "def word2vectorFunction(data,col):\n",
    "    model1 = gensim.models.Word2Vec(data[col], min_count = 1)\n",
    "    X = []\n",
    "    for keyword in data[col]:\n",
    "        feature_vec = np.zeros((100,))\n",
    "        for word in keyword:\n",
    "            if word in model1.wv.key_to_index:\n",
    "                feature_vec += model1.wv[word]\n",
    "        X.append(feature_vec)\n",
    "    data[col] = X\n",
    "for col in word2vectorColumns:\n",
    "    word2vectorFunction(test_data,col)"
   ]
  },
  {
   "cell_type": "code",
   "execution_count": 40,
   "id": "2c50642d",
   "metadata": {},
   "outputs": [],
   "source": [
    "import statistics\n",
    "from statistics import mean\n",
    "columns = ['keywords', 'crew', 'spoken_languages']   \n",
    "\n",
    "def calculate_mean(df, col):\n",
    "    for i, row in df.iterrows():\n",
    "        df.loc[i, col] = mean(df.loc[i, col])\n",
    "        \n",
    "for col in columns:\n",
    "    calculate_mean(test_data, col)"
   ]
  },
  {
   "cell_type": "code",
   "execution_count": 41,
   "id": "f18e2342",
   "metadata": {},
   "outputs": [],
   "source": [
    "cols=['budget','viewercount','revenue','runtime','vote_count','year','month','day', 'keywords','crew', 'spoken_languages']\n",
    "with open('scaler_c.pkl', 'rb') as f:\n",
    "    scaler = pickle.load(f)\n",
    "test_data[cols]=scaler.transform(test_data[cols])"
   ]
  },
  {
   "cell_type": "code",
   "execution_count": 42,
   "id": "92004c63",
   "metadata": {},
   "outputs": [],
   "source": [
    "test_data = test_data[filterd_Col]"
   ]
  },
  {
   "cell_type": "code",
   "execution_count": 43,
   "id": "7cd03cd2",
   "metadata": {},
   "outputs": [],
   "source": [
    "DT = pickle.load(open(\"DT.pkl\", \"rb\"))\n",
    "svc = pickle.load(open(\"svm_c.pkl\", \"rb\"))\n",
    "logistic = pickle.load(open(\"lr_c.pkl\", \"rb\"))\n",
    "KNN = pickle.load(open(\"KNN.pkl\", \"rb\"))\n",
    "Linear_Discriminant_model = pickle.load(open(\"Linear_Discriminant_model.pkl\", \"rb\"))\n",
    "random_forest_model = pickle.load(open(\"random_forest_model.pkl\", \"rb\"))\n",
    "Gradient_Boosting_model = pickle.load(open(\"Gradient_Boosting_model.pkl\", \"rb\"))\n",
    "ensemble = pickle.load(open(\"ensemble.pkl\", \"rb\"))"
   ]
  },
  {
   "cell_type": "code",
   "execution_count": 44,
   "id": "e836e213",
   "metadata": {},
   "outputs": [],
   "source": [
    "def model_prediction(model):\n",
    "    y_pred = model.predict(test_data)\n",
    "    # Evaluating the model performance\n",
    "    accuracy = accuracy_score(Y, y_pred)\n",
    "    print(\"Accuracy:\", accuracy)\n",
    "    r2 = r2_score(y_test, y_pred)\n",
    "    print('R^2 score = ',r2)"
   ]
  },
  {
   "cell_type": "code",
   "execution_count": 45,
   "id": "7275c6e5",
   "metadata": {},
   "outputs": [],
   "source": [
    "def predictWithMatrix(model):\n",
    "    y_pred = model.predict(test_data)\n",
    "    # Evaluating the model performance\n",
    "    accuracy = accuracy_score(Y, y_pred)\n",
    "    print(\"Accuracy:\", accuracy)\n",
    "    cm = confusion_matrix(Y, y_pred)\n",
    "    # Create the heatmap using seaborn\n",
    "    sns.heatmap(cm, annot=True, cmap='Blues')"
   ]
  },
  {
   "cell_type": "code",
   "execution_count": 46,
   "id": "c08780f4",
   "metadata": {},
   "outputs": [
    {
     "name": "stdout",
     "output_type": "stream",
     "text": [
      "Accuracy: 0.7161226508407518\n"
     ]
    }
   ],
   "source": [
    "model_prediction(DT)"
   ]
  },
  {
   "cell_type": "code",
   "execution_count": 47,
   "id": "0e282339",
   "metadata": {},
   "outputs": [
    {
     "name": "stdout",
     "output_type": "stream",
     "text": [
      "Accuracy: 0.6904055390702275\n"
     ]
    }
   ],
   "source": [
    "model_prediction(svc)"
   ]
  },
  {
   "cell_type": "code",
   "execution_count": 48,
   "id": "59c025d2",
   "metadata": {},
   "outputs": [
    {
     "name": "stdout",
     "output_type": "stream",
     "text": [
      "Accuracy: 0.6712825585229146\n"
     ]
    },
    {
     "data": {
      "image/png": "[encoded data removed]",
      "text/plain": [
       "<Figure size 640x480 with 2 Axes>"
      ]
     },
     "metadata": {},
     "output_type": "display_data"
    }
   ],
   "source": [
    "predictWithMatrix(logistic)"
   ]
  },
  {
   "cell_type": "code",
   "execution_count": 49,
   "id": "842fb6c9",
   "metadata": {},
   "outputs": [
    {
     "name": "stdout",
     "output_type": "stream",
     "text": [
      "Accuracy: 0.7200791295746786\n"
     ]
    }
   ],
   "source": [
    "model_prediction(KNN)"
   ]
  },
  {
   "cell_type": "code",
   "execution_count": 50,
   "id": "c753603d",
   "metadata": {},
   "outputs": [
    {
     "name": "stdout",
     "output_type": "stream",
     "text": [
      "Accuracy: 0.6505110451697989\n"
     ]
    }
   ],
   "source": [
    "model_prediction(Linear_Discriminant_model)"
   ]
  },
  {
   "cell_type": "code",
   "execution_count": 51,
   "id": "3e6aa867",
   "metadata": {},
   "outputs": [
    {
     "name": "stdout",
     "output_type": "stream",
     "text": [
      "Accuracy: 0.7246950214309265\n"
     ]
    }
   ],
   "source": [
    "model_prediction(random_forest_model)"
   ]
  },
  {
   "cell_type": "code",
   "execution_count": 52,
   "id": "095360d5",
   "metadata": {},
   "outputs": [
    {
     "name": "stdout",
     "output_type": "stream",
     "text": [
      "Accuracy: 0.739531816683152\n"
     ]
    }
   ],
   "source": [
    "model_prediction(Gradient_Boosting_model)"
   ]
  },
  {
   "cell_type": "code",
   "execution_count": 53,
   "id": "2ab9509b",
   "metadata": {},
   "outputs": [
    {
     "name": "stdout",
     "output_type": "stream",
     "text": [
      "Accuracy: 0.705242334322453\n"
     ]
    }
   ],
   "source": [
    "model_prediction(ensemble)"
   ]
  },
  {
   "cell_type": "code",
   "execution_count": null,
   "id": "62f6f388",
   "metadata": {},
   "outputs": [],
   "source": []
  }
 ],
 "metadata": {
  "kernelspec": {
   "display_name": "Python 3 (ipykernel)",
   "language": "python",
   "name": "python3"
  },
  "language_info": {
   "codemirror_mode": {
    "name": "ipython",
    "version": 3
   },
   "file_extension": ".py",
   "mimetype": "text/x-python",
   "name": "python",
   "nbconvert_exporter": "python",
   "pygments_lexer": "ipython3",
   "version": "3.9.7"
  }
 },
 "nbformat": 4,
 "nbformat_minor": 5
}
