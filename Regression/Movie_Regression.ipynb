{
 "cells": [
  {
   "cell_type": "markdown",
   "metadata": {},
   "source": [
    "# Movie project"
   ]
  },
  {
   "cell_type": "markdown",
   "metadata": {},
   "source": [
    "## Imports"
   ]
  },
  {
   "cell_type": "code",
   "execution_count": 1,
   "metadata": {
    "colab": {
     "background_save": true,
     "base_uri": "https://localhost:8080/"
    },
    "id": "Vvq0RQSMwz5B",
    "outputId": "32290452-0461-473f-d9c3-08b9706d0d02"
   },
   "outputs": [],
   "source": [
    "import os\n",
    "from sklearn.impute import SimpleImputer\n",
    "import ast\n",
    "import json\n",
    "import nltk\n",
    "import string\n",
    "import gensim\n",
    "import pickle\n",
    "import statistics\n",
    "import numpy as np\n",
    "import pandas as pd\n",
    "import seaborn as sns\n",
    "from scipy import stats\n",
    "from sklearn.svm import SVR\n",
    "from textblob import TextBlob\n",
    "import matplotlib.pyplot as plt\n",
    "from sklearn import preprocessing\n",
    "from nltk.corpus import stopwords\n",
    "from gensim.models import Word2Vec\n",
    "from sklearn.linear_model import Ridge\n",
    "from nltk.tokenize import word_tokenize\n",
    "from nltk.stem import WordNetLemmatizer\n",
    "from scipy.stats.mstats import winsorize\n",
    "import sklearn.feature_extraction.text as text\n",
    "from sklearn.preprocessing import OneHotEncoder\n",
    "from sklearn.preprocessing import OrdinalEncoder\n",
    "from sklearn.preprocessing import OrdinalEncoder\n",
    "from sklearn.linear_model import LinearRegression\n",
    "from sklearn.ensemble import RandomForestRegressor\n",
    "from nltk.stem import SnowballStemmer,PorterStemmer\n",
    "from sklearn.metrics import mean_squared_error, r2_score\n",
    "from sklearn.model_selection import  GridSearchCV, train_test_split\n",
    "from sklearn.feature_extraction.text import CountVectorizer,TfidfVectorizer\n",
    "from sklearn.preprocessing import MinMaxScaler, StandardScaler, PolynomialFeatures\n",
    "import warnings\n",
    "warnings.simplefilter(\"ignore\")\n",
    "# Download required resources (only needed once)\n",
    "# nltk.download('punkt')\n",
    "# nltk.download('stopwords')\n",
    "# nltk.download('wordnet')"
   ]
  },
  {
   "cell_type": "markdown",
   "metadata": {},
   "source": [
    "## Data Gathering"
   ]
  },
  {
   "cell_type": "code",
   "execution_count": 4,
   "metadata": {
    "colab": {
     "background_save": true
    },
    "id": "Q_QNGsEMyeJd"
   },
   "outputs": [],
   "source": [
    "movies = pd.read_csv(\"D:\\movies-regression\\movies-regression\\movies-regression-dataset.csv\");"
   ]
  },
  {
   "cell_type": "code",
   "execution_count": 5,
   "metadata": {
    "colab": {
     "background_save": true
    },
    "id": "EnsPPmCb98T2"
   },
   "outputs": [],
   "source": [
    "credits = pd.read_csv(\"D:\\movies-regression\\movies-regression\\movies-credit-students-train.csv\");"
   ]
  },
  {
   "cell_type": "code",
   "execution_count": 6,
   "metadata": {
    "colab": {
     "background_save": true
    },
    "id": "p8j_Hjkv_Fmw"
   },
   "outputs": [],
   "source": [
    "credits.rename(columns = {'movie_id':'id'}, inplace = True)"
   ]
  },
  {
   "cell_type": "code",
   "execution_count": 7,
   "metadata": {
    "colab": {
     "background_save": true
    },
    "id": "gYfUwCTd96Iy"
   },
   "outputs": [],
   "source": [
    "data = movies.merge(credits,on='id')"
   ]
  },
  {
   "cell_type": "code",
   "execution_count": 8,
   "metadata": {},
   "outputs": [
    {
     "name": "stdout",
     "output_type": "stream",
     "text": [
      "<class 'pandas.core.frame.DataFrame'>\n",
      "Int64Index: 3033 entries, 0 to 3032\n",
      "Data columns (total 23 columns):\n",
      " #   Column                Non-Null Count  Dtype  \n",
      "---  ------                --------------  -----  \n",
      " 0   budget                3033 non-null   int64  \n",
      " 1   genres                3033 non-null   object \n",
      " 2   homepage              1125 non-null   object \n",
      " 3   id                    3033 non-null   int64  \n",
      " 4   keywords              3033 non-null   object \n",
      " 5   original_language     3033 non-null   object \n",
      " 6   original_title        3033 non-null   object \n",
      " 7   overview              3032 non-null   object \n",
      " 8   viewercount           3033 non-null   float64\n",
      " 9   production_companies  3033 non-null   object \n",
      " 10  production_countries  3033 non-null   object \n",
      " 11  release_date          3033 non-null   object \n",
      " 12  revenue               3033 non-null   int64  \n",
      " 13  runtime               3032 non-null   float64\n",
      " 14  spoken_languages      3033 non-null   object \n",
      " 15  status                3033 non-null   object \n",
      " 16  tagline               2650 non-null   object \n",
      " 17  title_x               3033 non-null   object \n",
      " 18  vote_count            3033 non-null   int64  \n",
      " 19  vote_average          3033 non-null   float64\n",
      " 20  title_y               3033 non-null   object \n",
      " 21  cast                  3033 non-null   object \n",
      " 22  crew                  3033 non-null   object \n",
      "dtypes: float64(3), int64(4), object(16)\n",
      "memory usage: 568.7+ KB\n",
      "None\n"
     ]
    }
   ],
   "source": [
    "print(data.info())"
   ]
  },
  {
   "cell_type": "code",
   "execution_count": 9,
   "metadata": {},
   "outputs": [
    {
     "name": "stdout",
     "output_type": "stream",
     "text": [
      "The number of unique values of 'id' column  3033\n"
     ]
    }
   ],
   "source": [
    "print(\"The number of unique values of 'id' column \",len(data['id'].unique()))"
   ]
  },
  {
   "cell_type": "code",
   "execution_count": 10,
   "metadata": {},
   "outputs": [
    {
     "name": "stdout",
     "output_type": "stream",
     "text": [
      "The number of unique values of 'tagline' column  2643\n"
     ]
    }
   ],
   "source": [
    "print(\"The number of unique values of 'tagline' column \",len(data['tagline'].unique()))"
   ]
  },
  {
   "cell_type": "code",
   "execution_count": 11,
   "metadata": {},
   "outputs": [
    {
     "name": "stdout",
     "output_type": "stream",
     "text": [
      "The unique values and its count of the status column :\n",
      "Released           3032\n",
      "Post Production       1\n",
      "Name: status, dtype: int64\n"
     ]
    }
   ],
   "source": [
    "print(\"The unique values and its count of the status column :\")\n",
    "print(data['status'].value_counts())"
   ]
  },
  {
   "cell_type": "code",
   "execution_count": 12,
   "metadata": {},
   "outputs": [],
   "source": [
    "date_mode = data['release_date'].mode()[0]\n",
    "pickle.dump(date_mode, open(\"date_mode.pkl\", \"wb\"))"
   ]
  },
  {
   "cell_type": "code",
   "execution_count": 13,
   "metadata": {
    "colab": {
     "background_save": true
    },
    "id": "FitAoOyAFyfh"
   },
   "outputs": [],
   "source": [
    "data.drop(columns=['id','title_x','status'],inplace=True)#title_x ,title_y is the same so we droped one of them\n",
    "data.rename(columns={'title_y':'title'},inplace=True)\n",
    "data.drop(columns=['overview','homepage'],inplace=True)"
   ]
  },
  {
   "cell_type": "code",
   "execution_count": 14,
   "metadata": {
    "colab": {
     "background_save": true
    },
    "id": "5lbGp-tbyzTA"
   },
   "outputs": [],
   "source": [
    "data.dropna(subset=['runtime'],inplace=True)"
   ]
  },
  {
   "cell_type": "code",
   "execution_count": 15,
   "metadata": {
    "colab": {
     "background_save": true
    },
    "id": "gxKPb8hEyzQj"
   },
   "outputs": [],
   "source": [
    "data['day'] = pd.to_datetime(data['release_date']).dt.day # drop if it is not needed\n",
    "data['month'] = pd.to_datetime(data['release_date']).dt.month\n",
    "data['year'] = pd.to_datetime(data['release_date']).dt.year"
   ]
  },
  {
   "cell_type": "code",
   "execution_count": null,
   "metadata": {},
   "outputs": [],
   "source": []
  },
  {
   "cell_type": "code",
   "execution_count": 16,
   "metadata": {},
   "outputs": [],
   "source": [
    "data.drop(columns=['release_date'],inplace=True)"
   ]
  },
  {
   "cell_type": "code",
   "execution_count": 17,
   "metadata": {
    "colab": {
     "background_save": true,
     "base_uri": "https://localhost:8080/",
     "height": 669
    },
    "id": "pw2CuL1tyjPJ",
    "outputId": "f92256cb-4038-4f5f-9a3e-729d73571fbf"
   },
   "outputs": [
    {
     "name": "stdout",
     "output_type": "stream",
     "text": [
      "     budget                                             genres  \\\n",
      "0  25000000  [{\"id\": 18, \"name\": \"Drama\"}, {\"id\": 10749, \"n...   \n",
      "1  38000000  [{\"id\": 878, \"name\": \"Science Fiction\"}, {\"id\"...   \n",
      "2  20000000  [{\"id\": 36, \"name\": \"History\"}, {\"id\": 18, \"na...   \n",
      "3  23000000  [{\"id\": 18, \"name\": \"Drama\"}, {\"id\": 10749, \"n...   \n",
      "4  52000000  [{\"id\": 28, \"name\": \"Action\"}, {\"id\": 80, \"nam...   \n",
      "\n",
      "                                            keywords original_language  \\\n",
      "0  [{\"id\": 4328, \"name\": \"costume\"}, {\"id\": 4528,...                en   \n",
      "1  [{\"id\": 10988, \"name\": \"based on tv series\"}, ...                en   \n",
      "2  [{\"id\": 237, \"name\": \"gay\"}, {\"id\": 582, \"name...                en   \n",
      "3  [{\"id\": 212, \"name\": \"london england\"}, {\"id\":...                en   \n",
      "4  [{\"id\": 90, \"name\": \"paris\"}, {\"id\": 591, \"nam...                en   \n",
      "\n",
      "           original_title  viewercount  \\\n",
      "0       Mao's Last Dancer     1.876811   \n",
      "1  Star Trek: Generations    14.779041   \n",
      "2                    Milk    30.909699   \n",
      "3             Vanity Fair     6.618149   \n",
      "4    From Paris with Love    27.916284   \n",
      "\n",
      "                                production_companies  \\\n",
      "0  [{\"name\": \"Great Scott Productions Pty. Ltd.\",...   \n",
      "1          [{\"name\": \"Paramount Pictures\", \"id\": 4}]   \n",
      "2          [{\"name\": \"Focus Features\", \"id\": 10146}]   \n",
      "3  [{\"name\": \"Alliance Films\", \"id\": 2514}, {\"nam...   \n",
      "4  [{\"name\": \"Apipoula\\u00ef\", \"id\": 1076}, {\"nam...   \n",
      "\n",
      "                                production_countries    revenue  runtime  \\\n",
      "0        [{\"iso_3166_1\": \"AU\", \"name\": \"Australia\"}]   20719451    117.0   \n",
      "1  [{\"iso_3166_1\": \"US\", \"name\": \"United States o...  120000000    118.0   \n",
      "2  [{\"iso_3166_1\": \"US\", \"name\": \"United States o...   54586584    128.0   \n",
      "3  [{\"iso_3166_1\": \"GB\", \"name\": \"United Kingdom\"...   16123851    141.0   \n",
      "4  [{\"iso_3166_1\": \"GB\", \"name\": \"United Kingdom\"...   52826594     92.0   \n",
      "\n",
      "                                    spoken_languages  \\\n",
      "0  [{\"iso_639_1\": \"en\", \"name\": \"English\"}, {\"iso...   \n",
      "1           [{\"iso_639_1\": \"en\", \"name\": \"English\"}]   \n",
      "2           [{\"iso_639_1\": \"en\", \"name\": \"English\"}]   \n",
      "3  [{\"iso_639_1\": \"en\", \"name\": \"English\"}, {\"iso...   \n",
      "4  [{\"iso_639_1\": \"de\", \"name\": \"Deutsch\"}, {\"iso...   \n",
      "\n",
      "                                  tagline  vote_count  vote_average  \\\n",
      "0                                   最后的舞者          28           6.8   \n",
      "1                              Boldly go.         452           6.4   \n",
      "2                         Never Blend In.         612           7.1   \n",
      "3  On September 1st, a heroine will rise.          73           5.5   \n",
      "4         Two agents. One city. No merci.         675           6.1   \n",
      "\n",
      "                    title                                               cast  \\\n",
      "0       Mao's Last Dancer  [{\"cast_id\": 2, \"character\": \"Li Cunxin - adul...   \n",
      "1  Star Trek: Generations  [{\"cast_id\": 5, \"character\": \"Captain Jean-Luc...   \n",
      "2                    Milk  [{\"cast_id\": 2, \"character\": \"Harvey Milk\", \"c...   \n",
      "3             Vanity Fair  [{\"cast_id\": 22, \"character\": \"Becky Sharp\", \"...   \n",
      "4    From Paris with Love  [{\"cast_id\": 3, \"character\": \"Charlie Wax\", \"c...   \n",
      "\n",
      "                                                crew  day  month  year  \n",
      "0  [{\"credit_id\": \"52fe45419251416c9102c18d\", \"de...    1     10  2009  \n",
      "1  [{\"credit_id\": \"52fe4225c3a36847f8007717\", \"de...   17     11  1994  \n",
      "2  [{\"credit_id\": \"52fe43339251416c7500756b\", \"de...   26     11  2008  \n",
      "3  [{\"credit_id\": \"52fe446c9251416c75034365\", \"de...    1      9  2004  \n",
      "4  [{\"credit_id\": \"5763f7b792514134cd00026b\", \"de...    5      2  2010  \n"
     ]
    }
   ],
   "source": [
    "print(data.head())"
   ]
  },
  {
   "cell_type": "markdown",
   "metadata": {
    "id": "BFV_UfF80XX5"
   },
   "source": [
    "## Data Split"
   ]
  },
  {
   "cell_type": "code",
   "execution_count": 18,
   "metadata": {
    "colab": {
     "background_save": true
    },
    "id": "VgtfzmXW0IpB"
   },
   "outputs": [],
   "source": [
    "data_input=data.drop(columns=['vote_average'])\n",
    "data_output=data['vote_average']"
   ]
  },
  {
   "cell_type": "code",
   "execution_count": 19,
   "metadata": {
    "colab": {
     "background_save": true
    },
    "id": "Tlspxb9G0Irs"
   },
   "outputs": [],
   "source": [
    "x_train ,x_test ,y_train ,y_test = train_test_split(data_input ,data_output ,test_size = 0.2 ,random_state = 92)"
   ]
  },
  {
   "cell_type": "code",
   "execution_count": 20,
   "metadata": {
    "colab": {
     "background_save": true,
     "base_uri": "https://localhost:8080/"
    },
    "id": "gsh6anjCTXCz",
    "outputId": "af4ed5eb-a564-40ae-81a4-31e440164217"
   },
   "outputs": [
    {
     "name": "stdout",
     "output_type": "stream",
     "text": [
      "Shape of train data is  (2425, 19)\n",
      "Shape of test data is  (607, 19)\n"
     ]
    }
   ],
   "source": [
    "print(\"Shape of train data is \",x_train.shape)\n",
    "print(\"Shape of test data is \",x_test.shape)"
   ]
  },
  {
   "cell_type": "code",
   "execution_count": 21,
   "metadata": {},
   "outputs": [],
   "source": [
    "# Initialize WordNetLemmatizer and stopwords\n",
    "lemmatizer = WordNetLemmatizer()\n",
    "stop_words = set(stopwords.words('english'))\n",
    "\n",
    "# Define a function to remove punctuation and stopwords and apply lemmatization\n",
    "def preprocess_text(text):\n",
    "    # Remove punctuation\n",
    "    text = text.translate(str.maketrans('', '', string.punctuation))\n",
    "    # Tokenize words\n",
    "    words = nltk.word_tokenize(text)\n",
    "    # Remove stopwords and apply lemmatization\n",
    "    words = [lemmatizer.lemmatize(word) for word in words if not word.lower() in stop_words]\n",
    "    # Join words into a sentence\n",
    "    text = \" \".join(words)\n",
    "    return text\n",
    "\n",
    "# Apply preprocessing on 'original_title' and 'title'\n",
    "x_train['original_title'] = x_train['original_title'].apply(preprocess_text)\n",
    "x_test['original_title'] = x_test['original_title'].apply(preprocess_text)\n",
    "x_train['title'] = x_train['title'].apply(preprocess_text)\n",
    "x_test['title'] = x_test['title'].apply(preprocess_text)"
   ]
  },
  {
   "cell_type": "code",
   "execution_count": 22,
   "metadata": {},
   "outputs": [
    {
     "name": "stdout",
     "output_type": "stream",
     "text": [
      "The differnet rows between 'title' column and 'original_title' column in train data:\n",
      "        budget                                             genres  \\\n",
      "517   15000000  [{\"id\": 18, \"name\": \"Drama\"}, {\"id\": 28, \"name...   \n",
      "1671         0  [{\"id\": 28, \"name\": \"Action\"}, {\"id\": 80, \"nam...   \n",
      "976   26500000  [{\"id\": 12, \"name\": \"Adventure\"}, {\"id\": 14, \"...   \n",
      "1228  11000000  [{\"id\": 27, \"name\": \"Horror\"}, {\"id\": 18, \"nam...   \n",
      "2336         0  [{\"id\": 14, \"name\": \"Fantasy\"}, {\"id\": 35, \"na...   \n",
      "...        ...                                                ...   \n",
      "1914  26000000  [{\"id\": 18, \"name\": \"Drama\"}, {\"id\": 10749, \"n...   \n",
      "1756   4000000                      [{\"id\": 18, \"name\": \"Drama\"}]   \n",
      "1348  12716953  [{\"id\": 80, \"name\": \"Crime\"}, {\"id\": 28, \"name...   \n",
      "2965       110  [{\"id\": 28, \"name\": \"Action\"}, {\"id\": 18, \"nam...   \n",
      "1506  19000000  [{\"id\": 16, \"name\": \"Animation\"}, {\"id\": 10751...   \n",
      "\n",
      "                                               keywords original_language  \\\n",
      "517   [{\"id\": 12422, \"name\": \"drug stealing\"}, {\"id\"...                zh   \n",
      "1671  [{\"id\": 642, \"name\": \"robbery\"}, {\"id\": 3261, ...                zh   \n",
      "976   [{\"id\": 1721, \"name\": \"fight\"}, {\"id\": 1994, \"...                ja   \n",
      "1228  [{\"id\": 1261, \"name\": \"river\"}, {\"id\": 1880, \"...                ko   \n",
      "2336  [{\"id\": 964, \"name\": \"servant\"}, {\"id\": 4379, ...                fr   \n",
      "...                                                 ...               ...   \n",
      "1914  [{\"id\": 254, \"name\": \"france\"}, {\"id\": 516, \"n...                en   \n",
      "1756  [{\"id\": 514, \"name\": \"spain\"}, {\"id\": 1010, \"n...                es   \n",
      "1348  [{\"id\": 736, \"name\": \"journalist\"}, {\"id\": 779...                cn   \n",
      "2965  [{\"id\": 351, \"name\": \"poison\"}, {\"id\": 478, \"n...                zh   \n",
      "1506                                                 []                zh   \n",
      "\n",
      "        original_title  viewercount  \\\n",
      "517               新宿事件     5.294319   \n",
      "1671                風暴     3.376967   \n",
      "976              もののけ姫    60.732738   \n",
      "1228                괴물    27.655270   \n",
      "2336     les visiteurs     8.893676   \n",
      "...                ...          ...   \n",
      "1914         everafter    21.988861   \n",
      "1756  los lunes al sol     3.663108   \n",
      "1348              一個好人     7.077505   \n",
      "2965           滿城盡帶黃金甲     9.950505   \n",
      "1506              兔侠传奇     0.738652   \n",
      "\n",
      "                                   production_companies  \\\n",
      "517                [{\"name\": \"JCE Movies\", \"id\": 5649}]   \n",
      "1671  [{\"name\": \"Focus Films\", \"id\": 1268}, {\"name\":...   \n",
      "976   [{\"name\": \"Miramax Films\", \"id\": 14}, {\"name\":...   \n",
      "1228  [{\"name\": \"Cineclick Asia\", \"id\": 685}, {\"name...   \n",
      "2336  [{\"name\": \"Canal Plus\", \"id\": 104}, {\"name\": \"...   \n",
      "...                                                 ...   \n",
      "1914  [{\"name\": \"Twentieth Century Fox Film Corporat...   \n",
      "1756  [{\"name\": \"V\\u00eda Digital\", \"id\": 357}, {\"na...   \n",
      "1348   [{\"name\": \"Golden Harvest Company\", \"id\": 2521}]   \n",
      "2965  [{\"name\": \"Beijing New Picture Film Co. Ltd.\",...   \n",
      "1506                                                 []   \n",
      "\n",
      "                                   production_countries    revenue  runtime  \\\n",
      "517         [{\"iso_3166_1\": \"HK\", \"name\": \"Hong Kong\"}]          0    119.0   \n",
      "1671  [{\"iso_3166_1\": \"HK\", \"name\": \"Hong Kong\"}, {\"...          0    110.0   \n",
      "976             [{\"iso_3166_1\": \"JP\", \"name\": \"Japan\"}]  159375308    134.0   \n",
      "1228      [{\"iso_3166_1\": \"KR\", \"name\": \"South Korea\"}]   88489643    119.0   \n",
      "2336           [{\"iso_3166_1\": \"FR\", \"name\": \"France\"}]          0    107.0   \n",
      "...                                                 ...        ...      ...   \n",
      "1914  [{\"iso_3166_1\": \"US\", \"name\": \"United States o...   65705772    121.0   \n",
      "1756  [{\"iso_3166_1\": \"ES\", \"name\": \"Spain\"}, {\"iso_...     146402    113.0   \n",
      "1348  [{\"iso_3166_1\": \"AU\", \"name\": \"Australia\"}, {\"...   18814720    113.0   \n",
      "2965  [{\"iso_3166_1\": \"CN\", \"name\": \"China\"}, {\"iso_...          0    114.0   \n",
      "1506                                                 []    2570000     89.0   \n",
      "\n",
      "                                       spoken_languages  \\\n",
      "517   [{\"iso_639_1\": \"ja\", \"name\": \"\\u65e5\\u672c\\u8a...   \n",
      "1671  [{\"iso_639_1\": \"zh\", \"name\": \"\\u666e\\u901a\\u8b...   \n",
      "976   [{\"iso_639_1\": \"ja\", \"name\": \"\\u65e5\\u672c\\u8a...   \n",
      "1228  [{\"iso_639_1\": \"ko\", \"name\": \"\\ud55c\\uad6d\\uc5...   \n",
      "2336     [{\"iso_639_1\": \"fr\", \"name\": \"Fran\\u00e7ais\"}]   \n",
      "...                                                 ...   \n",
      "1914           [{\"iso_639_1\": \"en\", \"name\": \"English\"}]   \n",
      "1756  [{\"iso_639_1\": \"es\", \"name\": \"Espa\\u00f1ol\"}, ...   \n",
      "1348  [{\"iso_639_1\": \"zh\", \"name\": \"\\u666e\\u901a\\u8b...   \n",
      "2965  [{\"iso_639_1\": \"zh\", \"name\": \"\\u666e\\u901a\\u8b...   \n",
      "1506  [{\"iso_639_1\": \"en\", \"name\": \"English\"}, {\"iso...   \n",
      "\n",
      "                                                tagline  vote_count  \\\n",
      "517   They destroyed his life... Now he'll destroy t...          65   \n",
      "1671                                                NaN          43   \n",
      "976   The Fate Of The World Rests On The Courage Of ...        1983   \n",
      "1228                                 Monsters are real.         537   \n",
      "2336                       They Weren't Born Yesterday!         420   \n",
      "...                                                 ...         ...   \n",
      "1914                              Desire. Defy. Escape.         399   \n",
      "1756  This film is not based on a real story. It is ...          36   \n",
      "1348                      Fight first. Apologize later.         128   \n",
      "2965  Unspeakable secrets are hidden within the Forb...         203   \n",
      "1506                                 From zero to hero.           3   \n",
      "\n",
      "                      title  \\\n",
      "517       shinjuku incident   \n",
      "1671              firestorm   \n",
      "976       princess mononoke   \n",
      "1228                   host   \n",
      "2336               visitors   \n",
      "...                     ...   \n",
      "1914  ever cinderella story   \n",
      "1756            mondays sun   \n",
      "1348            mr nice guy   \n",
      "2965    curse golden flower   \n",
      "1506          legend rabbit   \n",
      "\n",
      "                                                   cast  \\\n",
      "517   [{\"cast_id\": 1, \"character\": \"Steelhead\", \"cre...   \n",
      "1671  [{\"cast_id\": 1, \"character\": \"Lui\", \"credit_id...   \n",
      "976   [{\"cast_id\": 3, \"character\": \"Ashitaka (voice)...   \n",
      "1228  [{\"cast_id\": 3, \"character\": \"Park Gang-du\", \"...   \n",
      "2336  [{\"cast_id\": 8, \"character\": \"Godefroy de Papi...   \n",
      "...                                                 ...   \n",
      "1914  [{\"cast_id\": 12, \"character\": \"Danielle De Bar...   \n",
      "1756  [{\"cast_id\": 1, \"character\": \"Santa\", \"credit_...   \n",
      "1348  [{\"cast_id\": 11, \"character\": \"Jackie\", \"credi...   \n",
      "2965  [{\"cast_id\": 15, \"character\": \"Emperor Ping\", ...   \n",
      "1506  [{\"cast_id\": 1, \"character\": \"Fu (voice)\", \"cr...   \n",
      "\n",
      "                                                   crew  day  month  year  \\\n",
      "517   [{\"credit_id\": \"52fe43d6c3a368484e001107\", \"de...   22      3  2009   \n",
      "1671  [{\"credit_id\": \"52fe4eebc3a36847f82b0d1d\", \"de...   12     12  2013   \n",
      "976   [{\"credit_id\": \"52fe421bc3a36847f8004995\", \"de...   12      7  1997   \n",
      "1228  [{\"credit_id\": \"52fe42eac3a36847f802ca6b\", \"de...   27      7  2006   \n",
      "2336  [{\"credit_id\": \"52fe44799251416c7503601f\", \"de...   27      1  1993   \n",
      "...                                                 ...  ...    ...   ...   \n",
      "1914  [{\"credit_id\": \"559fbc489251412daf004a6a\", \"de...   31      7  1998   \n",
      "1756  [{\"credit_id\": \"52fe48a4c3a36847f817219b\", \"de...   27      9  2002   \n",
      "1348  [{\"credit_id\": \"52fe43969251416c750164f7\", \"de...   31      1  1997   \n",
      "2965  [{\"credit_id\": \"52fe42fac3a36847f8031203\", \"de...   21     12  2006   \n",
      "1506  [{\"credit_id\": \"55011e169251413d9f0025c1\", \"de...    1      1  2011   \n",
      "\n",
      "      original_title_not_equal_title  \n",
      "517                             True  \n",
      "1671                            True  \n",
      "976                             True  \n",
      "1228                            True  \n",
      "2336                            True  \n",
      "...                              ...  \n",
      "1914                            True  \n",
      "1756                            True  \n",
      "1348                            True  \n",
      "2965                            True  \n",
      "1506                            True  \n",
      "\n",
      "[110 rows x 20 columns]\n"
     ]
    }
   ],
   "source": [
    "x_train['original_title'] = x_train['original_title'].str.lower()\n",
    "x_train['title'] = x_train['title'].str.lower()\n",
    "x_train['original_title_not_equal_title'] = x_train['original_title'] != x_train['title']\n",
    "rows_not_equal = x_train[x_train['original_title_not_equal_title']]\n",
    "print(\"The differnet rows between 'title' column and 'original_title' column in train data:\")\n",
    "print(rows_not_equal)"
   ]
  },
  {
   "cell_type": "code",
   "execution_count": 23,
   "metadata": {},
   "outputs": [],
   "source": [
    "x_train['original_title'] = np.where(x_train['original_title'] == x_train['title'], 1, 0)"
   ]
  },
  {
   "cell_type": "code",
   "execution_count": 24,
   "metadata": {},
   "outputs": [
    {
     "name": "stdout",
     "output_type": "stream",
     "text": [
      "The differnet rows between 'title' column and 'original_title' column in test data:\n",
      "        budget                                             genres  \\\n",
      "1384  17000000  [{\"id\": 12, \"name\": \"Adventure\"}, {\"id\": 18, \"...   \n",
      "1638   5300000  [{\"id\": 18, \"name\": \"Drama\"}, {\"id\": 35, \"name...   \n",
      "612   24000000  [{\"id\": 14, \"name\": \"Fantasy\"}, {\"id\": 16, \"na...   \n",
      "1513  65000000  [{\"id\": 28, \"name\": \"Action\"}, {\"id\": 18, \"nam...   \n",
      "253   36000000  [{\"id\": 28, \"name\": \"Action\"}, {\"id\": 18, \"nam...   \n",
      "535          0  [{\"id\": 35, \"name\": \"Comedy\"}, {\"id\": 18, \"nam...   \n",
      "2201  18000000                    [{\"id\": 36, \"name\": \"History\"}]   \n",
      "1285        10  [{\"id\": 18, \"name\": \"Drama\"}, {\"id\": 10749, \"n...   \n",
      "3009  15000000  [{\"id\": 16, \"name\": \"Animation\"}, {\"id\": 10751...   \n",
      "1813         0  [{\"id\": 28, \"name\": \"Action\"}, {\"id\": 878, \"na...   \n",
      "2859  23000000  [{\"id\": 18, \"name\": \"Drama\"}, {\"id\": 28, \"name...   \n",
      "417          0  [{\"id\": 16, \"name\": \"Animation\"}, {\"id\": 10751...   \n",
      "2042  33000000  [{\"id\": 28, \"name\": \"Action\"}, {\"id\": 35, \"nam...   \n",
      "1305         0                     [{\"id\": 28, \"name\": \"Action\"}]   \n",
      "588   11000000                     [{\"id\": 35, \"name\": \"Comedy\"}]   \n",
      "1738         0  [{\"id\": 18, \"name\": \"Drama\"}, {\"id\": 14, \"name...   \n",
      "2024         0  [{\"id\": 18, \"name\": \"Drama\"}, {\"id\": 35, \"name...   \n",
      "1897  23000000  [{\"id\": 18, \"name\": \"Drama\"}, {\"id\": 35, \"name...   \n",
      "1269         0  [{\"id\": 10749, \"name\": \"Romance\"}, {\"id\": 18, ...   \n",
      "727          0  [{\"id\": 12, \"name\": \"Adventure\"}, {\"id\": 35, \"...   \n",
      "450          0  [{\"id\": 28, \"name\": \"Action\"}, {\"id\": 35, \"nam...   \n",
      "\n",
      "                                               keywords original_language  \\\n",
      "1384  [{\"id\": 334, \"name\": \"flying\"}, {\"id\": 779, \"n...                zh   \n",
      "1638  [{\"id\": 90, \"name\": \"paris\"}, {\"id\": 107, \"nam...                fr   \n",
      "612   [{\"id\": 334, \"name\": \"flying\"}, {\"id\": 616, \"n...                ja   \n",
      "1513                                                 []                zh   \n",
      "253                 [{\"id\": 5565, \"name\": \"biography\"}]                cn   \n",
      "535                                                  []                zh   \n",
      "2201  [{\"id\": 4719, \"name\": \"mongolia\"}, {\"id\": 5146...                ru   \n",
      "1285  [{\"id\": 2673, \"name\": \"horse\"}, {\"id\": 3373, \"...                is   \n",
      "3009  [{\"id\": 2535, \"name\": \"destroy\"}, {\"id\": 2964,...                fr   \n",
      "1813                                                 []                hi   \n",
      "2859  [{\"id\": 441, \"name\": \"assassination\"}, {\"id\": ...                cn   \n",
      "417   [{\"id\": 9862, \"name\": \"dam\"}, {\"id\": 15097, \"n...                de   \n",
      "2042  [{\"id\": 156052, \"name\": \"unemployment\"}, {\"id\"...                fr   \n",
      "1305                                                 []                cn   \n",
      "588   [{\"id\": 389, \"name\": \"clock tower\"}, {\"id\": 93...                fr   \n",
      "1738  [{\"id\": 572, \"name\": \"sex\"}, {\"id\": 3754, \"nam...                en   \n",
      "2024                [{\"id\": 1664, \"name\": \"eroticism\"}]                it   \n",
      "1897                                                 []                en   \n",
      "1269              [{\"id\": 10965, \"name\": \"playwright\"}]                fr   \n",
      "727   [{\"id\": 10336, \"name\": \"animation\"}, {\"id\": 34...                fr   \n",
      "450                                                  []                en   \n",
      "\n",
      "                      original_title  viewercount  \\\n",
      "1384                            卧虎藏龙    45.742254   \n",
      "1638              lauberge espagnole    13.034602   \n",
      "612                          ハウルの動く城    49.549984   \n",
      "1513                            天將雄師     9.568884   \n",
      "253                              葉問3    19.167377   \n",
      "535                           三枪拍案惊奇     1.416796   \n",
      "2201                          монгол    10.144900   \n",
      "1285                      hross í os     1.617943   \n",
      "3009             chasseurs de dragon     8.884405   \n",
      "1813                             कृष     3.759988   \n",
      "2859                            十月圍城     7.876883   \n",
      "417              konferenz der tiere     8.010046   \n",
      "2042           micmacs à tirelarigot     7.663515   \n",
      "1305                            逃出生天     1.583918   \n",
      "588          bienvenue chez le chtis    18.923181   \n",
      "1738                         bathory     2.500218   \n",
      "2024                    ricordati di     4.240495   \n",
      "1897                           chéri     5.494047   \n",
      "1269                         molière     4.613350   \n",
      "727   pourquoi jai pa mangé mon père     5.794466   \n",
      "450        salvando al soldado perez     0.177356   \n",
      "\n",
      "                                   production_companies  \\\n",
      "1384  [{\"name\": \"Sony Pictures Classics\", \"id\": 58},...   \n",
      "1638    [{\"name\": \"Mate Producciones S.A.\", \"id\": 732}]   \n",
      "612   [{\"name\": \"Studio Ghibli\", \"id\": 10342}, {\"nam...   \n",
      "1513  [{\"name\": \"Shanghai Film Group\", \"id\": 3407}, ...   \n",
      "253   [{\"name\": \"Mandarin Films Distribution Co.\", \"...   \n",
      "535   [{\"name\": \"Beijing New Picture Film Co. Ltd.\",...   \n",
      "2201  [{\"name\": \"Kinokompaniya CTB\", \"id\": 886}, {\"n...   \n",
      "1285  [{\"name\": \"Filmhuset Gruppen\", \"id\": 68384}, {...   \n",
      "3009                [{\"name\": \"Futurikon\", \"id\": 2613}]   \n",
      "1813                                                 []   \n",
      "2859  [{\"name\": \"China Film Group Corporation\", \"id\"...   \n",
      "417   [{\"name\": \"Constantin Film Produktion\", \"id\": ...   \n",
      "2042  [{\"name\": \"France 2 Cin\\u00e9ma\", \"id\": 83}, {...   \n",
      "1305  [{\"name\": \"Sun Entertainment Culture\", \"id\": 2...   \n",
      "588   [{\"name\": \"Centre National de la Cin\\u00e9mato...   \n",
      "1738  [{\"name\": \"Lunar Films\", \"id\": 2568}, {\"name\":...   \n",
      "2024  [{\"name\": \"Fandango\", \"id\": 2441}, {\"name\": \"M...   \n",
      "1897  [{\"name\": \"Path\\u00e9 Renn Productions\", \"id\":...   \n",
      "1269                                                 []   \n",
      "727   [{\"name\": \"Path\\u00e9 Films\", \"id\": 4959}, {\"n...   \n",
      "450                                                  []   \n",
      "\n",
      "                                   production_countries    revenue  runtime  \\\n",
      "1384  [{\"iso_3166_1\": \"CN\", \"name\": \"China\"}, {\"iso_...  213525736    120.0   \n",
      "1638           [{\"iso_3166_1\": \"FR\", \"name\": \"France\"}]    3897799    122.0   \n",
      "612             [{\"iso_3166_1\": \"JP\", \"name\": \"Japan\"}]  234710455    119.0   \n",
      "1513  [{\"iso_3166_1\": \"HK\", \"name\": \"Hong Kong\"}, {\"...  121545703    127.0   \n",
      "253         [{\"iso_3166_1\": \"HK\", \"name\": \"Hong Kong\"}]  156844753    105.0   \n",
      "535             [{\"iso_3166_1\": \"CN\", \"name\": \"China\"}]          0     95.0   \n",
      "2201  [{\"iso_3166_1\": \"RU\", \"name\": \"Russia\"}, {\"iso...   26527510    120.0   \n",
      "1285  [{\"iso_3166_1\": \"NO\", \"name\": \"Norway\"}, {\"iso...         11     85.0   \n",
      "3009           [{\"iso_3166_1\": \"FR\", \"name\": \"France\"}]          0     80.0   \n",
      "1813                                                 []          0    154.0   \n",
      "2859            [{\"iso_3166_1\": \"CN\", \"name\": \"China\"}]    5837674    139.0   \n",
      "417           [{\"iso_3166_1\": \"DE\", \"name\": \"Germany\"}]          0     93.0   \n",
      "2042           [{\"iso_3166_1\": \"FR\", \"name\": \"France\"}]   14000000    100.0   \n",
      "1305  [{\"iso_3166_1\": \"HK\", \"name\": \"Hong Kong\"}, {\"...          0    107.0   \n",
      "588            [{\"iso_3166_1\": \"FR\", \"name\": \"France\"}]   53191886    106.0   \n",
      "1738  [{\"iso_3166_1\": \"CZ\", \"name\": \"Czech Republic\"...          0    141.0   \n",
      "2024            [{\"iso_3166_1\": \"IT\", \"name\": \"Italy\"}]          0    125.0   \n",
      "1897  [{\"iso_3166_1\": \"DE\", \"name\": \"Germany\"}, {\"is...    9366227     86.0   \n",
      "1269           [{\"iso_3166_1\": \"FR\", \"name\": \"France\"}]          0    115.0   \n",
      "727            [{\"iso_3166_1\": \"FR\", \"name\": \"France\"}]          0    100.0   \n",
      "450                                                  []          0    105.0   \n",
      "\n",
      "                                       spoken_languages  \\\n",
      "1384  [{\"iso_639_1\": \"zh\", \"name\": \"\\u666e\\u901a\\u8b...   \n",
      "1638  [{\"iso_639_1\": \"it\", \"name\": \"Italiano\"}, {\"is...   \n",
      "612   [{\"iso_639_1\": \"ja\", \"name\": \"\\u65e5\\u672c\\u8a...   \n",
      "1513  [{\"iso_639_1\": \"en\", \"name\": \"English\"}, {\"iso...   \n",
      "253   [{\"iso_639_1\": \"cn\", \"name\": \"\\u5e7f\\u5dde\\u8b...   \n",
      "535   [{\"iso_639_1\": \"zh\", \"name\": \"\\u666e\\u901a\\u8b...   \n",
      "2201  [{\"iso_639_1\": \"zh\", \"name\": \"\\u666e\\u901a\\u8b...   \n",
      "1285  [{\"iso_639_1\": \"en\", \"name\": \"English\"}, {\"iso...   \n",
      "3009     [{\"iso_639_1\": \"fr\", \"name\": \"Fran\\u00e7ais\"}]   \n",
      "1813  [{\"iso_639_1\": \"hi\", \"name\": \"\\u0939\\u093f\\u09...   \n",
      "2859  [{\"iso_639_1\": \"zh\", \"name\": \"\\u666e\\u901a\\u8b...   \n",
      "417            [{\"iso_639_1\": \"de\", \"name\": \"Deutsch\"}]   \n",
      "2042     [{\"iso_639_1\": \"fr\", \"name\": \"Fran\\u00e7ais\"}]   \n",
      "1305  [{\"iso_639_1\": \"cn\", \"name\": \"\\u5e7f\\u5dde\\u8b...   \n",
      "588      [{\"iso_639_1\": \"fr\", \"name\": \"Fran\\u00e7ais\"}]   \n",
      "1738           [{\"iso_639_1\": \"en\", \"name\": \"English\"}]   \n",
      "2024  [{\"iso_639_1\": \"en\", \"name\": \"English\"}, {\"iso...   \n",
      "1897  [{\"iso_639_1\": \"en\", \"name\": \"English\"}, {\"iso...   \n",
      "1269  [{\"iso_639_1\": \"fr\", \"name\": \"Fran\\u00e7ais\"},...   \n",
      "727   [{\"iso_639_1\": \"en\", \"name\": \"English\"}, {\"iso...   \n",
      "450                                                  []   \n",
      "\n",
      "                                                tagline  vote_count  \\\n",
      "1384  A timeless story of strength, secrets and two ...         927   \n",
      "1638  They came from Paris, Rome, London and Berlin ...         266   \n",
      "612                                 The two lived there        1991   \n",
      "1513                    When the Eagle meets the Dragon         145   \n",
      "253                                                 NaN         379   \n",
      "535                                                 NaN          13   \n",
      "2201              Greatness comes to those who take it.         158   \n",
      "1285                                                NaN          26   \n",
      "3009                  Dragon hunting isn't a fairy tale         129   \n",
      "1813                                                NaN          46   \n",
      "2859  To save a nations future, they must protect on...          57   \n",
      "417                                                 NaN          90   \n",
      "2042                                   Non Stop Madness         148   \n",
      "1305                                                NaN          11   \n",
      "588                                                 NaN         615   \n",
      "1738                                                NaN          31   \n",
      "2024                     Some loves are never forgotten          44   \n",
      "1897                                                NaN          56   \n",
      "1269                                                NaN          45   \n",
      "727                     These feet are made for walkin'         125   \n",
      "450                                                 NaN          18   \n",
      "\n",
      "                              title  \\\n",
      "1384  crouching tiger hidden dragon   \n",
      "1638              spanish apartment   \n",
      "612             howls moving castle   \n",
      "1513                   dragon blade   \n",
      "253                        ip man 3   \n",
      "535           woman gun noodle shop   \n",
      "2201       mongol rise genghis khan   \n",
      "1285                     horses men   \n",
      "3009                 dragon hunters   \n",
      "1813                         krrish   \n",
      "2859           bodyguards assassins   \n",
      "417                  animals united   \n",
      "2042                        micmacs   \n",
      "1305                        inferno   \n",
      "588                  welcome sticks   \n",
      "1738         bathory countess blood   \n",
      "2024                  remember love   \n",
      "1897                          cheri   \n",
      "1269                        moliere   \n",
      "727                      eat father   \n",
      "450            saving private perez   \n",
      "\n",
      "                                                   cast  \\\n",
      "1384  [{\"cast_id\": 25, \"character\": \"Master Li Mu Ba...   \n",
      "1638  [{\"cast_id\": 2, \"character\": \"Xavier\", \"credit...   \n",
      "612   [{\"cast_id\": 6, \"character\": \"Hauru\", \"credit_...   \n",
      "1513  [{\"cast_id\": 2, \"character\": \"Huo Han\", \"credi...   \n",
      "253   [{\"cast_id\": 0, \"character\": \"Ip Man\", \"credit...   \n",
      "535   [{\"cast_id\": 6, \"character\": \"Zhang\", \"credit_...   \n",
      "2201  [{\"cast_id\": 3, \"character\": \"Temudjin\", \"cred...   \n",
      "1285  [{\"cast_id\": 1, \"character\": \"Kolbeinn\", \"cred...   \n",
      "3009  [{\"cast_id\": 8, \"character\": \"Lian-Chu\", \"cred...   \n",
      "1813  [{\"cast_id\": 1, \"character\": \"Krishna Mehra / ...   \n",
      "2859  [{\"cast_id\": 2, \"character\": \"Sum Chung-Yang /...   \n",
      "417   [{\"cast_id\": 35, \"character\": \"Charles\", \"cred...   \n",
      "2042  [{\"cast_id\": 1, \"character\": \"Bazil\", \"credit_...   \n",
      "1305  [{\"cast_id\": 4, \"character\": \"\", \"credit_id\": ...   \n",
      "588   [{\"cast_id\": 2, \"character\": \"Philippe Abrams\"...   \n",
      "1738  [{\"cast_id\": 1, \"character\": \"Elizabeth Bathor...   \n",
      "2024  [{\"cast_id\": 1, \"character\": \"Carlo Ristuccia\"...   \n",
      "1897  [{\"cast_id\": 1, \"character\": \"Lea\", \"credit_id...   \n",
      "1269  [{\"cast_id\": 1, \"character\": \"Moliere\", \"credi...   \n",
      "727   [{\"cast_id\": 0, \"character\": \"Edouard (voice)\"...   \n",
      "450   [{\"cast_id\": 1001, \"character\": \"Rosal\\u00edo\"...   \n",
      "\n",
      "                                                   crew  day  month  year  \\\n",
      "1384  [{\"credit_id\": \"52fe421ec3a36847f80055ed\", \"de...    1     10  2000   \n",
      "1638  [{\"credit_id\": \"52fe42fdc3a36847f80321bf\", \"de...   17      5  2002   \n",
      "612   [{\"credit_id\": \"52fe43e5c3a36847f8076cb3\", \"de...   19     11  2004   \n",
      "1513  [{\"credit_id\": \"54536744c3a368148d00103d\", \"de...   19      2  2015   \n",
      "253   [{\"credit_id\": \"56b4b0019251410aab0026e8\", \"de...   19     12  2015   \n",
      "535   [{\"credit_id\": \"52fe468ec3a36847f8105783\", \"de...   11     12  2009   \n",
      "2201  [{\"credit_id\": \"52fe44d39251416c75042455\", \"de...   20      9  2007   \n",
      "1285  [{\"credit_id\": \"52fe4e3cc3a368484e215c21\", \"de...   30      8  2013   \n",
      "3009  [{\"credit_id\": \"52fe43b99251416c7501bb79\", \"de...   19      3  2008   \n",
      "1813  [{\"credit_id\": \"57f69c2dc3a36810580001bc\", \"de...   23      6  2006   \n",
      "2859  [{\"credit_id\": \"52fe44289251416c91006cad\", \"de...   18     12  2009   \n",
      "417   [{\"credit_id\": \"594853dc9251417e4c026b9a\", \"de...    7     10  2010   \n",
      "2042  [{\"credit_id\": \"52fe456ec3a368484e05a8cf\", \"de...   28     10  2009   \n",
      "1305  [{\"credit_id\": \"52fe4ef0c3a36847f82b1f89\", \"de...   10      3  2013   \n",
      "588   [{\"credit_id\": \"52fe4499c3a36847f809f3ef\", \"de...    9      1  2008   \n",
      "1738  [{\"credit_id\": \"57ded862c3a36808ec0085b0\", \"de...    4      7  2008   \n",
      "2024  [{\"credit_id\": \"52fe46ef9251416c910649ad\", \"de...   11      2  2003   \n",
      "1897  [{\"credit_id\": \"59bbac23c3a3680efe00e2ab\", \"de...   10      2  2009   \n",
      "1269  [{\"credit_id\": \"5900754bc3a3680fcc00a327\", \"de...   31      1  2007   \n",
      "727   [{\"credit_id\": \"53b70add0e0a2676c4005f20\", \"de...    8      4  2015   \n",
      "450   [{\"credit_id\": \"52fe4743c3a368484e0bd8d9\", \"de...   18      3  2011   \n",
      "\n",
      "      original_title_not_equal_title  \n",
      "1384                            True  \n",
      "1638                            True  \n",
      "612                             True  \n",
      "1513                            True  \n",
      "253                             True  \n",
      "535                             True  \n",
      "2201                            True  \n",
      "1285                            True  \n",
      "3009                            True  \n",
      "1813                            True  \n",
      "2859                            True  \n",
      "417                             True  \n",
      "2042                            True  \n",
      "1305                            True  \n",
      "588                             True  \n",
      "1738                            True  \n",
      "2024                            True  \n",
      "1897                            True  \n",
      "1269                            True  \n",
      "727                             True  \n",
      "450                             True  \n"
     ]
    }
   ],
   "source": [
    "x_test['original_title'] = x_test['original_title'].str.lower()\n",
    "x_test['title'] = x_test['title'].str.lower()\n",
    "x_test['original_title_not_equal_title'] = x_test['original_title'] != x_test['title']\n",
    "rows_not_equal = x_test[x_test['original_title_not_equal_title']]\n",
    "print(\"The differnet rows between 'title' column and 'original_title' column in test data:\")\n",
    "print(rows_not_equal)"
   ]
  },
  {
   "cell_type": "code",
   "execution_count": 25,
   "metadata": {},
   "outputs": [],
   "source": [
    "x_test['original_title'] = np.where(x_test['original_title'] == x_test['title'], 1, 0)"
   ]
  },
  {
   "cell_type": "code",
   "execution_count": 26,
   "metadata": {},
   "outputs": [
    {
     "name": "stdout",
     "output_type": "stream",
     "text": [
      "Number of rows of 'original_title' colum in train data 2315\n",
      "Number of rows of 'original_title' colum in test data 586\n"
     ]
    }
   ],
   "source": [
    "print(\"Number of rows of 'original_title' colum in train data\",x_train['original_title'].sum())\n",
    "print(\"Number of rows of 'original_title' colum in test data\",x_test['original_title'].sum())"
   ]
  },
  {
   "cell_type": "code",
   "execution_count": 27,
   "metadata": {},
   "outputs": [],
   "source": [
    "# This Column is similar to \"Tiltle\" Column with number of rows 2897 to the original data 3040 rows\n",
    "x_train.drop(axis=1, columns=['original_title'], inplace=True)\n",
    "x_test.drop(axis=1, columns=['original_title'], inplace=True)"
   ]
  },
  {
   "cell_type": "code",
   "execution_count": 28,
   "metadata": {},
   "outputs": [],
   "source": [
    "x_train['tagline'] = x_train['tagline'].astype(str).fillna('')\n",
    "x_test['tagline'] = x_test['tagline'].astype(str).fillna('')"
   ]
  },
  {
   "cell_type": "code",
   "execution_count": 29,
   "metadata": {},
   "outputs": [],
   "source": [
    "# get sentiment value from title\n",
    "# Define a function to get the sentiment score of a movie title using TextBlob\n",
    "def get_sentiment_score(title):\n",
    "    text_blob = TextBlob(title)\n",
    "    return text_blob.sentiment.polarity\n",
    "\n",
    "# Apply the function to the 'title' column of the DataFrame to get the sentiment scores\n",
    "x_train['title'] = x_train['title'].apply(get_sentiment_score)\n",
    "x_test['title'] = x_test['title'].apply(get_sentiment_score)\n",
    "\n",
    "x_train['tagline'] = x_train['tagline'].apply(get_sentiment_score)\n",
    "x_test['tagline'] = x_test['tagline'].apply(get_sentiment_score)"
   ]
  },
  {
   "cell_type": "code",
   "execution_count": null,
   "metadata": {},
   "outputs": [],
   "source": []
  },
  {
   "cell_type": "markdown",
   "metadata": {
    "id": "itZfY4E2zc-w"
   },
   "source": [
    "**Detect and Handling Outliers**"
   ]
  },
  {
   "cell_type": "code",
   "execution_count": 30,
   "metadata": {
    "colab": {
     "background_save": true,
     "base_uri": "https://localhost:8080/",
     "height": 477
    },
    "id": "ZayVmXn7yzZd",
    "outputId": "f074a216-3533-4e79-b126-3c890379dbd3"
   },
   "outputs": [
    {
     "data": {
      "image/png": "[encoded data removed]",
      "text/plain": [
       "<Figure size 1080x360 with 8 Axes>"
      ]
     },
     "metadata": {},
     "output_type": "display_data"
    }
   ],
   "source": [
    "#checking outliers\n",
    "sns.set()\n",
    "fig, axs = plt.subplots(1,8, figsize = (15,5))\n",
    "plt1 = sns.boxplot(x_train['revenue'], ax = axs[0])\n",
    "plt2 = sns.boxplot(x_train['budget'], ax = axs[1])\n",
    "plt3 = sns.boxplot(x_train['viewercount'], ax = axs[2])\n",
    "plt4 = sns.boxplot(x_train['runtime'], ax = axs[3])\n",
    "plt5 = sns.boxplot(x_train['vote_count'], ax = axs[4])\n",
    "plt6 = sns.boxplot(x_train['year'], ax = axs[5])\n",
    "plt7 = sns.boxplot(x_train['month'], ax = axs[6])\n",
    "plt8 = sns.boxplot(x_train['day'], ax = axs[7])\n",
    "\n",
    "plt.tight_layout()"
   ]
  },
  {
   "cell_type": "code",
   "execution_count": 31,
   "metadata": {
    "colab": {
     "background_save": true
    },
    "id": "NsifuVrJZp_x"
   },
   "outputs": [],
   "source": [
    "x_test = x_test.reset_index(drop=True)"
   ]
  },
  {
   "cell_type": "code",
   "execution_count": 32,
   "metadata": {
    "colab": {
     "background_save": true,
     "base_uri": "https://localhost:8080/",
     "height": 477
    },
    "id": "FGLyBNcHS7G5",
    "outputId": "c934cdef-77be-497f-fe9b-b0e497ecdd60"
   },
   "outputs": [
    {
     "data": {
      "image/png": "[encoded data removed]",
      "text/plain": [
       "<Figure size 1080x360 with 8 Axes>"
      ]
     },
     "metadata": {},
     "output_type": "display_data"
    }
   ],
   "source": [
    "#checking outliers\n",
    "sns.set()\n",
    "fig, axs = plt.subplots(1,8, figsize = (15,5))\n",
    "plt1 = sns.boxplot(x_test['revenue'], ax = axs[0])\n",
    "plt2 = sns.boxplot(x_test['budget'], ax = axs[1])\n",
    "plt3 = sns.boxplot(x_test['viewercount'], ax = axs[2])\n",
    "plt4 = sns.boxplot(x_test['runtime'], ax = axs[3])\n",
    "plt5 = sns.boxplot(x_test['vote_count'], ax = axs[4])\n",
    "plt6 = sns.boxplot(x_test['year'], ax = axs[5])\n",
    "plt7 = sns.boxplot(x_test['month'], ax = axs[6])\n",
    "plt8 = sns.boxplot(x_test['day'], ax = axs[7])\n",
    "\n",
    "plt.tight_layout()"
   ]
  },
  {
   "cell_type": "code",
   "execution_count": 33,
   "metadata": {
    "colab": {
     "background_save": true
    },
    "id": "4GXudodizky9"
   },
   "outputs": [],
   "source": [
    "def replace_outlier(col):\n",
    "    \n",
    "    limits=[]\n",
    "    col_q1=x_train[col].quantile(0.25)\n",
    "    col_q3=x_train[col].quantile(0.75)\n",
    "    col_iqr=col_q3-col_q1\n",
    "\n",
    "    col_upper_limit=col_q3+(1.5*col_iqr)\n",
    "    col_lower_limit=col_q1-(1.5*col_iqr)\n",
    "\n",
    "    limits.append(col_upper_limit)\n",
    "    limits.append(col_lower_limit)\n",
    "\n",
    "    x_train.loc[x_train[col] > col_upper_limit,col]= col_upper_limit\n",
    "    x_train.loc[x_train[col] < col_lower_limit,col]= col_lower_limit\n",
    "    return limits\n",
    "\n",
    "def replace_test_outlier(col,limits):\n",
    "    x_test.loc[x_test[col] > limits[0],col]=limits[0]\n",
    "    x_test.loc[x_test[col] < limits[1],col]=limits[1]"
   ]
  },
  {
   "cell_type": "code",
   "execution_count": 34,
   "metadata": {},
   "outputs": [],
   "source": [
    "limit_values = []"
   ]
  },
  {
   "cell_type": "code",
   "execution_count": 35,
   "metadata": {
    "colab": {
     "background_save": true
    },
    "id": "2y646Mhlzk1b"
   },
   "outputs": [],
   "source": [
    "outliers_column=['revenue','budget','runtime','vote_count','viewercount','year']\n",
    "for col in outliers_column:\n",
    "    limits=replace_outlier(col)\n",
    "    limit_values.append(limits)\n",
    "    replace_test_outlier(col,limits)"
   ]
  },
  {
   "cell_type": "code",
   "execution_count": 36,
   "metadata": {},
   "outputs": [],
   "source": [
    "pickle.dump(limit_values, open(\"limit_values.pkl\", \"wb\"))"
   ]
  },
  {
   "cell_type": "code",
   "execution_count": 37,
   "metadata": {
    "colab": {
     "background_save": true,
     "base_uri": "https://localhost:8080/",
     "height": 500
    },
    "id": "qIPEqjQTTKlY",
    "outputId": "f7bbceab-b2ca-410d-d0e9-c5f473a20f20"
   },
   "outputs": [
    {
     "data": {
      "image/png": "[encoded data removed]",
      "text/plain": [
       "<Figure size 720x360 with 6 Axes>"
      ]
     },
     "metadata": {},
     "output_type": "display_data"
    }
   ],
   "source": [
    "#checking outliers testtttttttttt\n",
    "sns.set()\n",
    "fig, axs = plt.subplots(1,6, figsize = (10,5))\n",
    "plt7 = sns.boxplot(x_test['revenue'], ax = axs[0])\n",
    "plt2 = sns.boxplot(x_test['budget'], ax = axs[1])\n",
    "plt3 = sns.boxplot(x_test['viewercount'], ax = axs[2])\n",
    "plt4 = sns.boxplot(x_test['runtime'], ax = axs[3])\n",
    "plt5 = sns.boxplot(x_test['vote_count'], ax = axs[4])\n",
    "plt6 = sns.boxplot(x_test['year'], ax = axs[5])\n",
    "\n",
    "plt.tight_layout()"
   ]
  },
  {
   "cell_type": "code",
   "execution_count": 38,
   "metadata": {
    "colab": {
     "background_save": true,
     "base_uri": "https://localhost:8080/",
     "height": 477
    },
    "id": "_25k4214zk4_",
    "outputId": "bcb2e7e7-fe24-46de-e988-c7ad220b2523"
   },
   "outputs": [
    {
     "data": {
      "image/png": "[encoded data removed]",
      "text/plain": [
       "<Figure size 1080x360 with 6 Axes>"
      ]
     },
     "metadata": {},
     "output_type": "display_data"
    }
   ],
   "source": [
    "#checking outliers\n",
    "sns.set()\n",
    "fig, axs = plt.subplots(1,6, figsize = (15,5))\n",
    "plt1 = sns.boxplot(x_train['revenue'], ax = axs[0])\n",
    "plt2 = sns.boxplot(x_train['budget'], ax = axs[1])\n",
    "plt3 = sns.boxplot(x_train['viewercount'], ax = axs[2])\n",
    "plt4 = sns.boxplot(x_train['runtime'], ax = axs[3])\n",
    "plt5 = sns.boxplot(x_train['vote_count'], ax = axs[4])\n",
    "plt6 = sns.boxplot(x_train['year'], ax = axs[5])\n",
    "plt.tight_layout()"
   ]
  },
  {
   "cell_type": "markdown",
   "metadata": {},
   "source": [
    "**Handling Missing Values**"
   ]
  },
  {
   "cell_type": "code",
   "execution_count": 39,
   "metadata": {},
   "outputs": [],
   "source": [
    "budget_mean=x_train[x_train[\"budget\"] > 0].budget.describe().mean()\n",
    "runtime_mean=x_train[x_train[\"runtime\"] > 0].runtime.describe().mean()"
   ]
  },
  {
   "cell_type": "code",
   "execution_count": 40,
   "metadata": {},
   "outputs": [],
   "source": [
    "pickle.dump(budget_mean, open(\"budget_mean.pkl\", \"wb\"))\n",
    "pickle.dump(runtime_mean, open(\"runtime_mean.pkl\", \"wb\"))"
   ]
  },
  {
   "cell_type": "code",
   "execution_count": 41,
   "metadata": {},
   "outputs": [],
   "source": [
    "x_train['budget'].replace(0,budget_mean,inplace=True)\n",
    "x_train['runtime'].replace(0,runtime_mean,inplace=True)\n",
    "\n",
    "x_test['budget'].replace(0,budget_mean,inplace=True)\n",
    "x_test['runtime'].replace(0,runtime_mean,inplace=True)"
   ]
  },
  {
   "cell_type": "code",
   "execution_count": 42,
   "metadata": {},
   "outputs": [
    {
     "data": {
      "image/png": "[encoded data removed]",
      "text/plain": [
       "<Figure size 1080x432 with 2 Axes>"
      ]
     },
     "metadata": {},
     "output_type": "display_data"
    }
   ],
   "source": [
    "fig, axs = plt.subplots(1,2, figsize = (15,6))\n",
    "plt1 = sns.countplot(x='original_language',data=data, ax = axs[0])\n",
    "plt1.set_ylim([0, 80])\n",
    "plt2 = sns.barplot(x='original_language',y='vote_average',data=data, ax = axs[1],palette=\"mako\")\n",
    "plt.show()"
   ]
  },
  {
   "cell_type": "markdown",
   "metadata": {
    "id": "qPa_VM83E2eL"
   },
   "source": [
    "**Preprocessing the \"original_language\" Column using Label Encoder**"
   ]
  },
  {
   "cell_type": "code",
   "execution_count": 43,
   "metadata": {
    "colab": {
     "background_save": true
    },
    "id": "ctFX3S2wE2eL"
   },
   "outputs": [
    {
     "name": "stdout",
     "output_type": "stream",
     "text": [
      "unique values of 'original_language' column is ['zh' 'en' 'fr' 'ja' 'ko' 'de' 'hi' 'ru' 'es' 'sv' 'nl' 'th' 'hu' 'cn'\n",
      " 'it' 'da' 'pt' 'cs' 'ta']\n"
     ]
    }
   ],
   "source": [
    "print(\"unique values of 'original_language' column is\",x_train['original_language'].unique())"
   ]
  },
  {
   "cell_type": "code",
   "execution_count": 44,
   "metadata": {},
   "outputs": [],
   "source": [
    "OL_mode = x_train['original_language'].mode()[0]"
   ]
  },
  {
   "cell_type": "code",
   "execution_count": 45,
   "metadata": {},
   "outputs": [],
   "source": [
    "pickle.dump(OL_mode, open(\"OL_mode.pkl\", \"wb\"))"
   ]
  },
  {
   "cell_type": "code",
   "execution_count": 46,
   "metadata": {},
   "outputs": [],
   "source": [
    "oe = OrdinalEncoder(handle_unknown='use_encoded_value', unknown_value=-1)\n",
    "oe.fit(x_train[['original_language']])\n",
    "\n",
    "# save the model to disk\n",
    "# Save the encoder to a file using pickle\n",
    "with open('encoder.pkl', 'wb') as f:\n",
    "    pickle.dump(oe, f)\n",
    "\n",
    "x_train['original_language'] = oe.transform(x_train[['original_language']])\n",
    "x_test['original_language'] = oe.transform(x_test[['original_language']])"
   ]
  },
  {
   "cell_type": "markdown",
   "metadata": {
    "id": "E0AWVPRs2maJ"
   },
   "source": [
    "**Extract names from columns**"
   ]
  },
  {
   "cell_type": "code",
   "execution_count": 47,
   "metadata": {
    "colab": {
     "background_save": true
    },
    "id": "1fQVnYqqIK1j"
   },
   "outputs": [],
   "source": [
    "json_cols = ['genres', 'keywords', 'production_companies', 'spoken_languages', 'production_countries']\n",
    "\n",
    "def extract_keywords(x):\n",
    "    L=[]\n",
    "    counter = 0\n",
    "    for i in ast.literal_eval(x):\n",
    "        if counter < 3:\n",
    "            L.append(i['name'])\n",
    "        counter+=1\n",
    "    return L\n",
    "for col in json_cols:\n",
    "    x_train[col]=x_train[col].apply(extract_keywords)\n",
    "for col in json_cols:\n",
    "    x_test[col]=x_test[col].apply(extract_keywords)\n",
    "\n",
    "def convert3(text):\n",
    "    L = []\n",
    "    counter = 0\n",
    "    for i in ast.literal_eval(text):\n",
    "        if counter < 3:\n",
    "            L.append(i['name'])\n",
    "        counter+=1\n",
    "    return L\n",
    "\n",
    "x_train['cast']=x_train['cast'].apply(convert3)\n",
    "x_test['cast']=x_test['cast'].apply(convert3)\n",
    "\n",
    "def fetch_director(text):\n",
    "    L = []\n",
    "    for i in ast.literal_eval(text):\n",
    "        if i['job'] == 'Director':\n",
    "            L.append(i['name'])      \n",
    "    return L\n",
    "    \n",
    "x_train['crew']=x_train['crew'].apply(fetch_director)\n",
    "x_test['crew']=x_test['crew'].apply(fetch_director)"
   ]
  },
  {
   "cell_type": "code",
   "execution_count": 48,
   "metadata": {
    "colab": {
     "background_save": true
    },
    "id": "z2CwQL313bY4"
   },
   "outputs": [],
   "source": [
    "class Our_OneHotEncoder:\n",
    "    data = set()\n",
    "    \n",
    "    def __init__(self):\n",
    "        self.data.clear()\n",
    "    \n",
    "    def fit_freq(self, freq_set):\n",
    "        # adding items to data field\n",
    "        self.data = freq_set\n",
    "    \n",
    "    def fit(self, df, column_name):\n",
    "        # adding items to data field\n",
    "        for lst in df[column_name]:\n",
    "            for element in lst:\n",
    "                self.data.add(element)\n",
    "\n",
    "    def transform(self, df, column_name):\n",
    "        data_lst = list(self.data)\n",
    "        \n",
    "        #Initializing the one-hot columns\n",
    "        for col in data_lst:\n",
    "            df[col] = np.zeros(df.shape[0], dtype=int)\n",
    "        \n",
    "        # One-Hot Encoding\n",
    "        for i, row in df.iterrows():\n",
    "            for element in row[column_name]:\n",
    "                if element in data_lst:\n",
    "                    df.loc[i, element] = 1\n",
    "        df.drop(columns=[column_name],inplace=True)    \n",
    "\n",
    "oneHotColumns=['genres', 'production_countries']\n",
    "saved_fitted_data = []\n",
    "for col in oneHotColumns:\n",
    "    encoder=Our_OneHotEncoder()\n",
    "    encoder.fit(x_train,col)\n",
    "    saved_fitted_data.append(list(encoder.data))\n",
    "    encoder.transform(x_train,col)\n",
    "    encoder.transform(x_test,col)"
   ]
  },
  {
   "cell_type": "code",
   "execution_count": 49,
   "metadata": {},
   "outputs": [],
   "source": [
    "pickle.dump(saved_fitted_data, open(\"saved_fitted_data.pkl\", \"wb\"))"
   ]
  },
  {
   "cell_type": "code",
   "execution_count": 50,
   "metadata": {
    "colab": {
     "background_save": true
    },
    "id": "VRGhhwK9-L3t",
    "outputId": "00edc644-2c76-47de-a172-3bf3d677e1e7"
   },
   "outputs": [],
   "source": [
    "word2vectorColumns=['keywords','cast','crew', 'spoken_languages', 'production_companies']\n",
    "def word2vectorFunction(data,col):\n",
    "    model1 = gensim.models.Word2Vec(data[col], min_count = 1)\n",
    "    X = []\n",
    "    for keyword in data[col]:\n",
    "        feature_vec = np.zeros((100,))\n",
    "        for word in keyword:\n",
    "            if word in model1.wv.key_to_index:\n",
    "                feature_vec += model1.wv[word]\n",
    "        X.append(feature_vec)\n",
    "    data[col] = X\n",
    "for col in word2vectorColumns:\n",
    "    word2vectorFunction(x_train,col)\n",
    "    word2vectorFunction(x_test,col)"
   ]
  },
  {
   "cell_type": "markdown",
   "metadata": {},
   "source": [
    "**Calculating mean**"
   ]
  },
  {
   "cell_type": "code",
   "execution_count": 51,
   "metadata": {},
   "outputs": [],
   "source": [
    "import statistics\n",
    "from statistics import mean\n",
    "columns = ['keywords' ,'cast', 'crew', 'spoken_languages', 'production_companies']   \n",
    "\n",
    "def calculate_mean(df, col):\n",
    "    for i, row in df.iterrows():\n",
    "        df.loc[i, col] = mean(df.loc[i, col])\n",
    "        \n",
    "for col in columns:\n",
    "    calculate_mean(x_train, col)\n",
    "    calculate_mean(x_test, col)"
   ]
  },
  {
   "cell_type": "code",
   "execution_count": null,
   "metadata": {},
   "outputs": [],
   "source": []
  },
  {
   "cell_type": "code",
   "execution_count": 52,
   "metadata": {},
   "outputs": [],
   "source": [
    "vote_count_med = x_train['vote_count'].median()"
   ]
  },
  {
   "cell_type": "code",
   "execution_count": 53,
   "metadata": {},
   "outputs": [],
   "source": [
    "viewer_count_med = x_train['viewercount'].median()"
   ]
  },
  {
   "cell_type": "code",
   "execution_count": 54,
   "metadata": {},
   "outputs": [],
   "source": [
    "revnue_med = x_train['revenue'].median()"
   ]
  },
  {
   "cell_type": "code",
   "execution_count": 55,
   "metadata": {},
   "outputs": [],
   "source": [
    "pickle.dump(vote_count_med, open(\"vote_count_med.pkl\", \"wb\"))\n",
    "pickle.dump(viewer_count_med, open(\"viewer_count_med.pkl\", \"wb\"))\n",
    "pickle.dump(revnue_med, open(\"revnue_med.pkl\", \"wb\"))"
   ]
  },
  {
   "cell_type": "markdown",
   "metadata": {},
   "source": [
    "**Scaling**"
   ]
  },
  {
   "cell_type": "code",
   "execution_count": 56,
   "metadata": {},
   "outputs": [
    {
     "name": "stdout",
     "output_type": "stream",
     "text": [
      "        budget  keywords  original_language  viewercount production_companies  \\\n",
      "517  -0.774679 -0.000071               18.0    -0.887840             0.000925   \n",
      "1964  2.530670   0.00131                4.0     2.463698             0.000596   \n",
      "742   0.932388  -0.00065                4.0     0.205344             0.001342   \n",
      "549  -0.607319 -0.001037                4.0    -0.430425               0.0005   \n",
      "2277 -1.059190    -0.001                4.0     0.371776             0.000154   \n",
      "\n",
      "       revenue   runtime spoken_languages  tagline  vote_count  ...  Denmark  \\\n",
      "517  -0.821933  0.568058         0.000347     -0.2   -0.815948  ...        0   \n",
      "1964  2.258566  1.186345         0.000407      0.0    2.208655  ...        0   \n",
      "742   1.483069  0.174604         0.000407      0.0   -0.023069  ...        0   \n",
      "549  -0.397146 -0.387475        -0.000711     -0.2   -0.494072  ...        0   \n",
      "2277 -0.552875 -0.949553         0.000407      0.0    0.068474  ...        0   \n",
      "\n",
      "     Hungary Panama  Brazil  Czech Republic  Bolivia  Cambodia  Morocco  \\\n",
      "517        0      0       0               0        0         0        0   \n",
      "1964       0      0       0               0        0         0        0   \n",
      "742        0      0       0               0        0         0        0   \n",
      "549        0      0       0               0        0         0        0   \n",
      "2277       0      0       0               0        0         0        0   \n",
      "\n",
      "      Australia  New Zealand  \n",
      "517           0            0  \n",
      "1964          0            0  \n",
      "742           0            0  \n",
      "549           0            0  \n",
      "2277          0            0  \n",
      "\n",
      "[5 rows x 95 columns]\n"
     ]
    }
   ],
   "source": [
    "cols=['budget','viewercount','revenue','runtime','vote_count','year','month','day']\n",
    "scaler = StandardScaler()\n",
    "scaler.fit(x_train[cols])\n",
    "with open('scaler.pkl', 'wb') as f:\n",
    "    pickle.dump(scaler, f)\n",
    "x_train[cols]=scaler.transform(x_train[cols])\n",
    "x_test[cols]=scaler.transform(x_test[cols])\n",
    "print(x_train.head())"
   ]
  },
  {
   "cell_type": "code",
   "execution_count": 57,
   "metadata": {},
   "outputs": [],
   "source": [
    "x_train.drop(columns=['title','tagline','original_title_not_equal_title'],inplace=True)\n",
    "x_test.drop(columns=['title','tagline','original_title_not_equal_title'],inplace=True)"
   ]
  },
  {
   "cell_type": "markdown",
   "metadata": {
    "id": "ile-prp6f_2T"
   },
   "source": [
    "## Feature Selection"
   ]
  },
  {
   "cell_type": "markdown",
   "metadata": {},
   "source": [
    "### Pearson's Correlation"
   ]
  },
  {
   "cell_type": "code",
   "execution_count": 58,
   "metadata": {},
   "outputs": [
    {
     "name": "stdout",
     "output_type": "stream",
     "text": [
      "the sorted correlations :\n"
     ]
    }
   ],
   "source": [
    "from sklearn.feature_selection import SelectKBest, f_regression\n",
    "\n",
    "# Calculate the Pearson correlation coefficients between each feature and the target variable\n",
    "corr_matrix = x_train.corrwith(y_train, method='pearson').abs()\n",
    "\n",
    "# Sort the features in descending order of correlation with the target variable\n",
    "sorted_corr = corr_matrix.sort_values(ascending=False)\n",
    "\n",
    "# Set the maximum number of columns and rows to display to None\n",
    "pd.set_option('display.max_columns', None)\n",
    "pd.set_option('display.max_rows', None)\n",
    "# Print the sorted correlations\n",
    "print(\"the sorted correlations :\")"
   ]
  },
  {
   "cell_type": "code",
   "execution_count": 59,
   "metadata": {},
   "outputs": [
    {
     "data": {
      "text/plain": [
       "87"
      ]
     },
     "execution_count": 59,
     "metadata": {},
     "output_type": "execute_result"
    }
   ],
   "source": [
    "len(sorted_corr)"
   ]
  },
  {
   "cell_type": "markdown",
   "metadata": {},
   "source": [
    "### K-Best"
   ]
  },
  {
   "cell_type": "code",
   "execution_count": 60,
   "metadata": {},
   "outputs": [
    {
     "name": "stdout",
     "output_type": "stream",
     "text": [
      "Selected features of K-best : Index(['budget', 'keywords', 'original_language', 'viewercount',\n",
      "       'production_companies', 'revenue', 'runtime', 'spoken_languages',\n",
      "       'vote_count', 'cast', 'day', 'month', 'year', 'Animation', 'Adventure',\n",
      "       'Music', 'Western', 'Fantasy', 'Romance', 'Comedy', 'Mystery',\n",
      "       'Foreign', 'Science Fiction', 'Horror', 'Action', 'Drama', 'War',\n",
      "       'Documentary', 'Family', 'History', 'Crime', 'Thriller', 'Taiwan',\n",
      "       'India', 'Libyan Arab Jamahiriya', 'Bosnia and Herzegovina', 'Israel',\n",
      "       'Sweden', 'Netherlands', 'Iceland', 'Malta', 'South Korea', 'Monaco',\n",
      "       'Kazakhstan', 'Chile', 'South Africa', 'Germany', 'Austria', 'Belgium',\n",
      "       'Aruba', 'Singapore', 'Poland', 'Italy', 'France', 'Spain', 'Japan',\n",
      "       'Jamaica', 'Pakistan', 'Malaysia', 'Norway', 'United Kingdom',\n",
      "       'Switzerland', 'Finland', 'Ireland', 'Bahamas', 'Argentina',\n",
      "       'Luxembourg', 'Bulgaria', 'Mexico', 'Ukraine', 'Russia', 'Romania',\n",
      "       'Fiji', 'United States of America', 'Canada', 'China', 'Denmark',\n",
      "       'Hungary', 'Brazil', 'Czech Republic', 'Bolivia', 'Cambodia', 'Morocco',\n",
      "       'Australia', 'New Zealand'],\n",
      "      dtype='object')\n"
     ]
    }
   ],
   "source": [
    "# Use SelectKBest to select the top k features based on the f_regression test\n",
    "k = 85\n",
    "selector = SelectKBest(score_func=f_regression, k=k)\n",
    "selector.fit(x_train, y_train)\n",
    "\n",
    "# Get the indices of the selected features\n",
    "selected_features = x_train.columns[selector.get_support()]\n",
    "\n",
    "# Print the selected features\n",
    "print('Selected features of K-best :', selected_features)"
   ]
  },
  {
   "cell_type": "markdown",
   "metadata": {
    "colab": {
     "background_save": true
    },
    "id": "qb-gwaKYbhhq"
   },
   "source": [
    "### Selecting Suitable Columns"
   ]
  },
  {
   "cell_type": "code",
   "execution_count": 61,
   "metadata": {
    "colab": {
     "background_save": true,
     "base_uri": "https://localhost:8080/",
     "height": 817
    },
    "id": "6yPYm6H87lj1",
    "outputId": "53ee3b14-79e6-4fc2-b8e2-afe3e496f8fa",
    "scrolled": true
   },
   "outputs": [],
   "source": [
    "x_train = x_train[sorted_corr[:-17].keys()]\n",
    "\n",
    "x_test = x_test[sorted_corr[:-17].keys()]"
   ]
  },
  {
   "cell_type": "code",
   "execution_count": 62,
   "metadata": {},
   "outputs": [],
   "source": [
    "pickle.dump(sorted_corr, open(\"sorted_corr.pkl\", \"wb\"))"
   ]
  },
  {
   "cell_type": "code",
   "execution_count": 63,
   "metadata": {},
   "outputs": [
    {
     "name": "stdout",
     "output_type": "stream",
     "text": [
      "shape of train data after selection is  (2425, 70)\n"
     ]
    }
   ],
   "source": [
    "print(\"shape of train data after selection is \",x_train.shape)"
   ]
  },
  {
   "cell_type": "code",
   "execution_count": 64,
   "metadata": {},
   "outputs": [
    {
     "name": "stdout",
     "output_type": "stream",
     "text": [
      "shape of test data after selection is  (607, 70)\n"
     ]
    }
   ],
   "source": [
    "print(\"shape of test data after selection is \",x_test.shape)"
   ]
  },
  {
   "cell_type": "code",
   "execution_count": 65,
   "metadata": {},
   "outputs": [],
   "source": [
    "def model_plot(name,y_pred):\n",
    "    # Plot the predicted values against the true values\n",
    "    plt.scatter(y_test, y_pred)\n",
    "\n",
    "    # Add a title and axis labels\n",
    "    plt.title(f\"{name}\")\n",
    "    plt.xlabel(\"True Values\")\n",
    "    plt.ylabel(\"Predicted Values\")\n",
    "\n",
    "    # Add a diagonal line to indicate perfect fit\n",
    "    plt.plot([y_test.min(), y_test.max()+2], [y_test.min(), y_test.max()+2], 'k--', lw=4)\n",
    "\n",
    "    # Set the axis limits\n",
    "    plt.xlim(y_test.min()-0.1, y_test.max()+2)\n",
    "    plt.ylim(y_test.min()-0.1, y_test.max()+2)\n",
    "\n",
    "    # Show the plot\n",
    "    plt.show()"
   ]
  },
  {
   "cell_type": "markdown",
   "metadata": {},
   "source": [
    "## Regression Models"
   ]
  },
  {
   "cell_type": "markdown",
   "metadata": {},
   "source": [
    "### SVR"
   ]
  },
  {
   "cell_type": "code",
   "execution_count": 66,
   "metadata": {},
   "outputs": [
    {
     "name": "stdout",
     "output_type": "stream",
     "text": [
      "{'C': 1.9, 'gamma': 'scale', 'kernel': 'rbf'}\n",
      "MSE of SVR :  0.3411588278740065\n",
      "RMSE of SVR :  0.5840880309285634\n",
      "R^2 of SVR : 0.60\n"
     ]
    }
   ],
   "source": [
    "from sklearn.svm import SVR\n",
    "from sklearn.model_selection import GridSearchCV\n",
    "from sklearn.metrics import mean_squared_error, r2_score\n",
    "\n",
    "# Define the model\n",
    "svr = SVR()\n",
    "\n",
    "# Define the hyperparameters to tune\n",
    "params = {'kernel': ['rbf'],\n",
    "          'C': [1.9],\n",
    "          'gamma': ['scale']}\n",
    "\n",
    "# Define the GridSearchCV object\n",
    "grid_svr = GridSearchCV(svr, param_grid=params, cv=5, n_jobs=-1)\n",
    "\n",
    "# Fit the GridSearchCV object to the training data\n",
    "grid_svr.fit(x_train, y_train)\n",
    "\n",
    "with open('svr.pkl', 'wb') as f:\n",
    "    pickle.dump(grid_svr, f)\n",
    "\n",
    "# Print the best hyperparameters\n",
    "print(grid_svr.best_params_)\n",
    "\n",
    "# Make predictions on the test set\n",
    "y_pred = grid_svr.predict(x_test)\n",
    "\n",
    "# Evaluate the model\n",
    "print(\"MSE of SVR : \", mean_squared_error(y_test, y_pred))\n",
    "print(\"RMSE of SVR : \", np.sqrt(mean_squared_error(y_test, y_pred)))\n",
    "print(f\"R^2 of SVR : {(r2_score(y_test, y_pred)):.2f}\")"
   ]
  },
  {
   "cell_type": "code",
   "execution_count": 67,
   "metadata": {},
   "outputs": [
    {
     "data": {
      "image/png": "[encoded data removed]",
      "text/plain": [
       "<Figure size 432x288 with 1 Axes>"
      ]
     },
     "metadata": {},
     "output_type": "display_data"
    }
   ],
   "source": [
    "model_plot(\"SVR Regression Line\",y_pred)"
   ]
  },
  {
   "cell_type": "markdown",
   "metadata": {},
   "source": [
    "### Ridge Regression"
   ]
  },
  {
   "cell_type": "code",
   "execution_count": 68,
   "metadata": {},
   "outputs": [
    {
     "name": "stdout",
     "output_type": "stream",
     "text": [
      "{'alpha': 10.6, 'solver': 'sparse_cg'}\n",
      "MSE of Ridge Regression:  0.3752106355142113\n",
      "RMSE of Ridge Regression:  0.6125443947292403\n",
      "R^2 of Ridge Regression: 0.56\n"
     ]
    }
   ],
   "source": [
    "# Define the model with fixed random seed\n",
    "ridge = Ridge(random_state=84)\n",
    "\n",
    "# Define the hyperparameters to tune\n",
    "params = {'alpha': [10.6],\n",
    "          'solver': ['sparse_cg']}\n",
    "\n",
    "# Define the GridSearchCV object with fixed random seed\n",
    "grid_ridge = GridSearchCV(ridge, param_grid=params, cv=5, n_jobs=-1)\n",
    "\n",
    "# Fit the GridSearchCV object to the training data\n",
    "grid_ridge.fit(x_train, y_train)\n",
    "\n",
    "with open('ridge.pkl', 'wb') as f:\n",
    "    pickle.dump(grid_ridge, f)\n",
    "    \n",
    "# Print the best hyperparameters\n",
    "print(grid_ridge.best_params_)\n",
    "\n",
    "# Make predictions on the test set\n",
    "y_pred = grid_ridge.predict(x_test)\n",
    "\n",
    "# Evaluate the model\n",
    "print(\"MSE of Ridge Regression: \", mean_squared_error(y_test, y_pred))\n",
    "print(\"RMSE of Ridge Regression: \", np.sqrt(mean_squared_error(y_test, y_pred)))\n",
    "print(f\"R^2 of Ridge Regression: {(r2_score(y_test, y_pred)):.2f}\")"
   ]
  },
  {
   "cell_type": "code",
   "execution_count": 69,
   "metadata": {},
   "outputs": [
    {
     "data": {
      "image/png": "[encoded data removed]",
      "text/plain": [
       "<Figure size 432x288 with 1 Axes>"
      ]
     },
     "metadata": {},
     "output_type": "display_data"
    }
   ],
   "source": [
    "# Create a scatter plot of true vs predicted values\n",
    "plt.scatter(y_test, y_pred, alpha=0.5)\n",
    "\n",
    "# Add a diagonal line to indicate perfect fit\n",
    "plt.plot(np.linspace(2, 10), np.linspace(2, 10), color='red', linestyle='--')\n",
    "\n",
    "# Add axis labels and a title\n",
    "plt.xlabel(\"True Values\")\n",
    "plt.ylabel(\"Predicted Values\")\n",
    "plt.title(\"Ridge Regression Line Plot\")\n",
    "\n",
    "# Show the plot\n",
    "plt.show()"
   ]
  },
  {
   "cell_type": "markdown",
   "metadata": {},
   "source": [
    "### Principal Components Regression"
   ]
  },
  {
   "cell_type": "code",
   "execution_count": 70,
   "metadata": {},
   "outputs": [
    {
     "name": "stdout",
     "output_type": "stream",
     "text": [
      "MSE of Principal Components Regression:  0.37377128447677904\n",
      "RMSE of Principal Components Regression:  0.6113683705236794\n",
      "R-squared score of Principal Components Regression: 0.56\n"
     ]
    }
   ],
   "source": [
    "from sklearn.decomposition import PCA\n",
    "from sklearn.linear_model import LinearRegression\n",
    "from sklearn.metrics import r2_score\n",
    "\n",
    "# Perform PCA on the training data\n",
    "pca = PCA(n_components=31)\n",
    "pca.fit(x_train)\n",
    "\n",
    "with open('pca.pkl', 'wb') as f:\n",
    "    pickle.dump(pca, f)\n",
    "    \n",
    "X_train_pca = pca.transform(x_train)\n",
    "\n",
    "# Train a linear regression model on the PCA-transformed data\n",
    "model = LinearRegression()\n",
    "model.fit(X_train_pca, y_train)\n",
    "\n",
    "with open('linear_pca.pkl', 'wb') as f:\n",
    "    pickle.dump(model, f)\n",
    "    \n",
    "# Transform the test data using the same PCA transformation\n",
    "X_test_pca = pca.transform(x_test)\n",
    "\n",
    "# Make predictions on the test data\n",
    "y_pred = model.predict(X_test_pca)\n",
    "\n",
    "# Evaluate the model using R-squared\n",
    "score = r2_score(y_test, y_pred)\n",
    "\n",
    "# Evaluate the model\n",
    "print(\"MSE of Principal Components Regression: \", mean_squared_error(y_test, y_pred))\n",
    "print(\"RMSE of Principal Components Regression: \", np.sqrt(mean_squared_error(y_test, y_pred)))\n",
    "print(f\"R-squared score of Principal Components Regression: {score:.2f}\")"
   ]
  },
  {
   "cell_type": "code",
   "execution_count": 71,
   "metadata": {},
   "outputs": [
    {
     "data": {
      "image/png": "[encoded data removed]",
      "text/plain": [
       "<Figure size 432x288 with 1 Axes>"
      ]
     },
     "metadata": {},
     "output_type": "display_data"
    }
   ],
   "source": [
    "model_plot(\"Principal Components Regression\",y_pred)"
   ]
  },
  {
   "cell_type": "markdown",
   "metadata": {},
   "source": [
    "### Elastic Net Regression"
   ]
  },
  {
   "cell_type": "code",
   "execution_count": 72,
   "metadata": {},
   "outputs": [
    {
     "name": "stdout",
     "output_type": "stream",
     "text": [
      "MSE of Elastic Net Regression:  0.37620900674254976\n",
      "RMSE of Elastic Net Regression:  0.6133587912001831\n",
      "R-squared score of Elastic Net Regression: 0.56\n"
     ]
    }
   ],
   "source": [
    "from sklearn.linear_model import ElasticNet\n",
    "from sklearn.metrics import r2_score\n",
    "\n",
    "# Train an Elastic Net regression model\n",
    "model = ElasticNet(alpha=0.01, l1_ratio=0.0)\n",
    "model.fit(x_train, y_train)\n",
    "with open('elastic.pkl', 'wb') as f:\n",
    "    pickle.dump(model, f)\n",
    "\n",
    "# Make predictions on the test data\n",
    "y_pred = model.predict(x_test)\n",
    "\n",
    "# Evaluate the model using R-squared\n",
    "score = r2_score(y_test, y_pred)\n",
    "# Evaluate the model\n",
    "print(\"MSE of Elastic Net Regression: \", mean_squared_error(y_test, y_pred))\n",
    "print(\"RMSE of Elastic Net Regression: \", np.sqrt(mean_squared_error(y_test, y_pred)))\n",
    "print(f\"R-squared score of Elastic Net Regression: {score:.2f}\")"
   ]
  },
  {
   "cell_type": "code",
   "execution_count": 73,
   "metadata": {},
   "outputs": [
    {
     "data": {
      "image/png": "[encoded data removed]",
      "text/plain": [
       "<Figure size 432x288 with 1 Axes>"
      ]
     },
     "metadata": {},
     "output_type": "display_data"
    }
   ],
   "source": [
    "model_plot(\"Elastic Net Regression\",y_pred)"
   ]
  },
  {
   "cell_type": "markdown",
   "metadata": {},
   "source": [
    "### Partial Least Squares Regression"
   ]
  },
  {
   "cell_type": "code",
   "execution_count": 74,
   "metadata": {},
   "outputs": [
    {
     "name": "stdout",
     "output_type": "stream",
     "text": [
      "MSE of Partial Least Squares Regression:  0.3793475949934245\n",
      "RMSE of Partial Least Squares Regression:  0.6159120026378967\n",
      "R-squared score of Partial Least Squares Regression: 0.55\n"
     ]
    }
   ],
   "source": [
    "from sklearn.cross_decomposition import PLSRegression\n",
    "from sklearn.metrics import r2_score\n",
    "\n",
    "# Train a PLS regression model\n",
    "model = PLSRegression(n_components=5)\n",
    "model.fit(x_train, y_train)\n",
    "\n",
    "with open('pls.pkl', 'wb') as f:\n",
    "    pickle.dump(model, f)\n",
    "# Make predictions on the test data\n",
    "y_pred = model.predict(x_test)\n",
    "\n",
    "# Evaluate the model using R-squared\n",
    "score = r2_score(y_test, y_pred)\n",
    "# Evaluate the model\n",
    "print(\"MSE of Partial Least Squares Regression: \", mean_squared_error(y_test, y_pred))\n",
    "print(\"RMSE of Partial Least Squares Regression: \", np.sqrt(mean_squared_error(y_test, y_pred)))\n",
    "print(f\"R-squared score of Partial Least Squares Regression: {score:.2f}\")"
   ]
  },
  {
   "cell_type": "code",
   "execution_count": 75,
   "metadata": {},
   "outputs": [
    {
     "data": {
      "image/png": "[encoded data removed]",
      "text/plain": [
       "<Figure size 432x288 with 1 Axes>"
      ]
     },
     "metadata": {},
     "output_type": "display_data"
    }
   ],
   "source": [
    "model_plot(\"Partial Least Squares Regression\",y_pred)"
   ]
  },
  {
   "cell_type": "markdown",
   "metadata": {},
   "source": [
    "### Polynomial Regression"
   ]
  },
  {
   "cell_type": "code",
   "execution_count": 76,
   "metadata": {
    "colab": {
     "background_save": true,
     "base_uri": "https://localhost:8080/",
     "height": 467
    },
    "id": "NGBkI2R1vqsl",
    "outputId": "d4cb6f8b-b52b-42ef-862a-39aab7bf3ad1"
   },
   "outputs": [
    {
     "name": "stdout",
     "output_type": "stream",
     "text": [
      "MSE of poynoimal regression: 0.38\n",
      "RMSE of poynoimal regression: 0.62\n",
      "R-squared of poynoimal regression: 0.55\n"
     ]
    }
   ],
   "source": [
    "#Create polynomial features\n",
    "polynomial_features = PolynomialFeatures(degree=1)\n",
    "\n",
    "polynomial_features.fit(x_train)\n",
    "\n",
    "with open('poly_feature.pkl', 'wb') as f:\n",
    "    pickle.dump(polynomial_features, f)\n",
    "\n",
    "x_poly = polynomial_features.transform(x_train)\n",
    "\n",
    "\n",
    "# Create and fit the polynomial regression model\n",
    "model = LinearRegression().fit(x_poly, y_train)\n",
    "\n",
    "with open('poly.pkl', 'wb') as f:\n",
    "    pickle.dump(model, f)\n",
    "\n",
    "# Predict y values using the model\n",
    "y_pred = model.predict(polynomial_features.transform(x_test))\n",
    "\n",
    "# Evaluate performance of model\n",
    "mse = mean_squared_error(y_test, y_pred)\n",
    "rmse = np.sqrt(mse)\n",
    "r2 = r2_score(y_test, y_pred)\n",
    "\n",
    "print(f'MSE of poynoimal regression: {mse:.2f}')\n",
    "print(f'RMSE of poynoimal regression: {rmse:.2f}')\n",
    "print(f'R-squared of poynoimal regression: {r2:.2f}')"
   ]
  },
  {
   "cell_type": "code",
   "execution_count": 77,
   "metadata": {},
   "outputs": [
    {
     "data": {
      "image/png": "[encoded data removed]",
      "text/plain": [
       "<Figure size 432x288 with 1 Axes>"
      ]
     },
     "metadata": {},
     "output_type": "display_data"
    }
   ],
   "source": [
    "model_plot(\"Polynomial Regression\",y_pred)"
   ]
  },
  {
   "cell_type": "code",
   "execution_count": null,
   "metadata": {},
   "outputs": [],
   "source": []
  }
 ],
 "metadata": {
  "colab": {
   "provenance": []
  },
  "kernelspec": {
   "display_name": "Python 3 (ipykernel)",
   "language": "python",
   "name": "python3"
  },
  "language_info": {
   "codemirror_mode": {
    "name": "ipython",
    "version": 3
   },
   "file_extension": ".py",
   "mimetype": "text/x-python",
   "name": "python",
   "nbconvert_exporter": "python",
   "pygments_lexer": "ipython3",
   "version": "3.9.7"
  }
 },
 "nbformat": 4,
 "nbformat_minor": 1
}
